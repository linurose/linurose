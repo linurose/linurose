{
  "nbformat": 4,
  "nbformat_minor": 0,
  "metadata": {
    "colab": {
      "name": "tcs_request dataset creation.ipynb",
      "provenance": [],
      "collapsed_sections": []
    },
    "kernelspec": {
      "name": "python3",
      "display_name": "Python 3"
    },
    "language_info": {
      "name": "python"
    },
    "widgets": {
      "application/vnd.jupyter.widget-state+json": {
        "4a43f0056ac245aba31a944399f333b5": {
          "model_module": "catboost-widget",
          "model_name": "CatboostWidgetModel",
          "model_module_version": "^1.0.0",
          "state": {
            "_dom_classes": [],
            "_model_module": "catboost-widget",
            "_model_module_version": "^1.0.0",
            "_model_name": "CatboostWidgetModel",
            "_view_count": null,
            "_view_module": "catboost-widget",
            "_view_module_version": "^1.0.0",
            "_view_name": "CatboostWidgetView",
            "data": {
              "catboost_info": {
                "path": "catboost_info",
                "name": "catboost_info",
                "content": {
                  "passed_iterations": 999,
                  "total_iterations": 1000,
                  "data": {
                    "iterations": [
                      {
                        "learn": [
                          0.3458704687
                        ],
                        "iteration": 0,
                        "passed_time": 0.07467026583,
                        "remaining_time": 74.59559556
                      },
                      {
                        "learn": [
                          0.1686864193
                        ],
                        "iteration": 1,
                        "passed_time": 0.1025919577,
                        "remaining_time": 51.1933869
                      },
                      {
                        "learn": [
                          0.08331764648
                        ],
                        "iteration": 2,
                        "passed_time": 0.1272726837,
                        "remaining_time": 42.29695521
                      },
                      {
                        "learn": [
                          0.04356266927
                        ],
                        "iteration": 3,
                        "passed_time": 0.1541326543,
                        "remaining_time": 38.37903093
                      },
                      {
                        "learn": [
                          0.02381726237
                        ],
                        "iteration": 4,
                        "passed_time": 0.1849665902,
                        "remaining_time": 36.80835146
                      },
                      {
                        "learn": [
                          0.01279704793
                        ],
                        "iteration": 5,
                        "passed_time": 0.2110757171,
                        "remaining_time": 34.96821047
                      },
                      {
                        "learn": [
                          0.007856659749
                        ],
                        "iteration": 6,
                        "passed_time": 0.2358171538,
                        "remaining_time": 33.45234768
                      },
                      {
                        "learn": [
                          0.004976563924
                        ],
                        "iteration": 7,
                        "passed_time": 0.2608821321,
                        "remaining_time": 32.34938438
                      },
                      {
                        "learn": [
                          0.003353419088
                        ],
                        "iteration": 8,
                        "passed_time": 0.2856429749,
                        "remaining_time": 31.45246535
                      },
                      {
                        "learn": [
                          0.002269153748
                        ],
                        "iteration": 9,
                        "passed_time": 0.3097215039,
                        "remaining_time": 30.66242888
                      },
                      {
                        "learn": [
                          0.001507588908
                        ],
                        "iteration": 10,
                        "passed_time": 0.3315061441,
                        "remaining_time": 29.80541605
                      },
                      {
                        "learn": [
                          0.001074552053
                        ],
                        "iteration": 11,
                        "passed_time": 0.3558794486,
                        "remaining_time": 29.30074127
                      },
                      {
                        "learn": [
                          0.0007602221425
                        ],
                        "iteration": 12,
                        "passed_time": 0.3769853737,
                        "remaining_time": 28.62188952
                      },
                      {
                        "learn": [
                          0.000569282074
                        ],
                        "iteration": 13,
                        "passed_time": 0.4012270614,
                        "remaining_time": 28.25784875
                      },
                      {
                        "learn": [
                          0.0004397501373
                        ],
                        "iteration": 14,
                        "passed_time": 0.4244562354,
                        "remaining_time": 27.87262612
                      },
                      {
                        "learn": [
                          0.0003403796895
                        ],
                        "iteration": 15,
                        "passed_time": 0.4508503325,
                        "remaining_time": 27.72729545
                      },
                      {
                        "learn": [
                          0.0002810479101
                        ],
                        "iteration": 16,
                        "passed_time": 0.4746127291,
                        "remaining_time": 27.4437831
                      },
                      {
                        "learn": [
                          0.0002312321599
                        ],
                        "iteration": 17,
                        "passed_time": 0.4961693348,
                        "remaining_time": 27.06879371
                      },
                      {
                        "learn": [
                          0.0001996405347
                        ],
                        "iteration": 18,
                        "passed_time": 0.5195002187,
                        "remaining_time": 26.82261655
                      },
                      {
                        "learn": [
                          0.0001698781586
                        ],
                        "iteration": 19,
                        "passed_time": 0.5536400471,
                        "remaining_time": 27.12836231
                      },
                      {
                        "learn": [
                          0.0001497572772
                        ],
                        "iteration": 20,
                        "passed_time": 0.5768684884,
                        "remaining_time": 26.89305953
                      },
                      {
                        "learn": [
                          0.0001272680092
                        ],
                        "iteration": 21,
                        "passed_time": 0.6011857008,
                        "remaining_time": 26.72543706
                      },
                      {
                        "learn": [
                          0.0001178769875
                        ],
                        "iteration": 22,
                        "passed_time": 0.6236262604,
                        "remaining_time": 26.49055898
                      },
                      {
                        "learn": [
                          0.0001027738126
                        ],
                        "iteration": 23,
                        "passed_time": 0.6471009234,
                        "remaining_time": 26.31543755
                      },
                      {
                        "learn": [
                          0.00009145955404
                        ],
                        "iteration": 24,
                        "passed_time": 0.6702442721,
                        "remaining_time": 26.13952661
                      },
                      {
                        "learn": [
                          0.00008308398247
                        ],
                        "iteration": 25,
                        "passed_time": 0.6943830927,
                        "remaining_time": 26.01265893
                      },
                      {
                        "learn": [
                          0.00007227668126
                        ],
                        "iteration": 26,
                        "passed_time": 0.7186379963,
                        "remaining_time": 25.89758409
                      },
                      {
                        "learn": [
                          0.00006969658852
                        ],
                        "iteration": 27,
                        "passed_time": 0.7404894466,
                        "remaining_time": 25.70556222
                      },
                      {
                        "learn": [
                          0.00006799305598
                        ],
                        "iteration": 28,
                        "passed_time": 0.7660890074,
                        "remaining_time": 25.65077332
                      },
                      {
                        "learn": [
                          0.00006175550779
                        ],
                        "iteration": 29,
                        "passed_time": 0.7892641644,
                        "remaining_time": 25.51954132
                      },
                      {
                        "learn": [
                          0.00005943840981
                        ],
                        "iteration": 30,
                        "passed_time": 0.8115233918,
                        "remaining_time": 25.36665054
                      },
                      {
                        "learn": [
                          0.00005674025853
                        ],
                        "iteration": 31,
                        "passed_time": 0.8336912245,
                        "remaining_time": 25.21915954
                      },
                      {
                        "learn": [
                          0.00005336267471
                        ],
                        "iteration": 32,
                        "passed_time": 0.8618829609,
                        "remaining_time": 25.25578252
                      },
                      {
                        "learn": [
                          0.00005017247518
                        ],
                        "iteration": 33,
                        "passed_time": 0.8836572296,
                        "remaining_time": 25.10626129
                      },
                      {
                        "learn": [
                          0.00005022174199
                        ],
                        "iteration": 34,
                        "passed_time": 0.9244448565,
                        "remaining_time": 25.48826533
                      },
                      {
                        "learn": [
                          0.00004752101262
                        ],
                        "iteration": 35,
                        "passed_time": 0.9553118771,
                        "remaining_time": 25.58112915
                      },
                      {
                        "learn": [
                          0.00004543824514
                        ],
                        "iteration": 36,
                        "passed_time": 0.9852225277,
                        "remaining_time": 25.64241336
                      },
                      {
                        "learn": [
                          0.00004360601902
                        ],
                        "iteration": 37,
                        "passed_time": 1.01632857,
                        "remaining_time": 25.72916011
                      },
                      {
                        "learn": [
                          0.00004132344246
                        ],
                        "iteration": 38,
                        "passed_time": 1.077541144,
                        "remaining_time": 26.55171896
                      },
                      {
                        "learn": [
                          0.00003977270285
                        ],
                        "iteration": 39,
                        "passed_time": 1.146064678,
                        "remaining_time": 27.50555228
                      },
                      {
                        "learn": [
                          0.00003854068756
                        ],
                        "iteration": 40,
                        "passed_time": 1.205453981,
                        "remaining_time": 28.19586262
                      },
                      {
                        "learn": [
                          0.00003867889722
                        ],
                        "iteration": 41,
                        "passed_time": 1.227204485,
                        "remaining_time": 27.99194991
                      },
                      {
                        "learn": [
                          0.00003724381447
                        ],
                        "iteration": 42,
                        "passed_time": 1.250063404,
                        "remaining_time": 27.82117855
                      },
                      {
                        "learn": [
                          0.00003635403633
                        ],
                        "iteration": 43,
                        "passed_time": 1.271827337,
                        "remaining_time": 27.63333942
                      },
                      {
                        "learn": [
                          0.00003573384921
                        ],
                        "iteration": 44,
                        "passed_time": 1.293074424,
                        "remaining_time": 27.44191277
                      },
                      {
                        "learn": [
                          0.00003408768654
                        ],
                        "iteration": 45,
                        "passed_time": 1.315619819,
                        "remaining_time": 27.28481103
                      },
                      {
                        "learn": [
                          0.00003350115458
                        ],
                        "iteration": 46,
                        "passed_time": 1.33700464,
                        "remaining_time": 27.10990259
                      },
                      {
                        "learn": [
                          0.00003350115458
                        ],
                        "iteration": 47,
                        "passed_time": 1.359472142,
                        "remaining_time": 26.96286415
                      },
                      {
                        "learn": [
                          0.0000329537185
                        ],
                        "iteration": 48,
                        "passed_time": 1.382870087,
                        "remaining_time": 26.83896842
                      },
                      {
                        "learn": [
                          0.00003246808052
                        ],
                        "iteration": 49,
                        "passed_time": 1.410331906,
                        "remaining_time": 26.79630622
                      },
                      {
                        "learn": [
                          0.00003250074546
                        ],
                        "iteration": 50,
                        "passed_time": 1.444042845,
                        "remaining_time": 26.87052274
                      },
                      {
                        "learn": [
                          0.00003242457867
                        ],
                        "iteration": 51,
                        "passed_time": 1.471503997,
                        "remaining_time": 26.82664979
                      },
                      {
                        "learn": [
                          0.00003194748402
                        ],
                        "iteration": 52,
                        "passed_time": 1.495225357,
                        "remaining_time": 26.71657383
                      },
                      {
                        "learn": [
                          0.00003141798814
                        ],
                        "iteration": 53,
                        "passed_time": 1.516761317,
                        "remaining_time": 26.57141122
                      },
                      {
                        "learn": [
                          0.00003085092704
                        ],
                        "iteration": 54,
                        "passed_time": 1.538919777,
                        "remaining_time": 26.4414398
                      },
                      {
                        "learn": [
                          0.00003085092704
                        ],
                        "iteration": 55,
                        "passed_time": 1.574287341,
                        "remaining_time": 26.53798661
                      },
                      {
                        "learn": [
                          0.00003085092704
                        ],
                        "iteration": 56,
                        "passed_time": 1.597128526,
                        "remaining_time": 26.42267018
                      },
                      {
                        "learn": [
                          0.00003085092704
                        ],
                        "iteration": 57,
                        "passed_time": 1.618987876,
                        "remaining_time": 26.29459619
                      },
                      {
                        "learn": [
                          0.00003085092704
                        ],
                        "iteration": 58,
                        "passed_time": 1.650939891,
                        "remaining_time": 26.33109216
                      },
                      {
                        "learn": [
                          0.00003085092704
                        ],
                        "iteration": 59,
                        "passed_time": 1.673150689,
                        "remaining_time": 26.21269413
                      },
                      {
                        "learn": [
                          0.00003085092704
                        ],
                        "iteration": 60,
                        "passed_time": 1.695428527,
                        "remaining_time": 26.09848176
                      },
                      {
                        "learn": [
                          0.00003085092704
                        ],
                        "iteration": 61,
                        "passed_time": 1.718411665,
                        "remaining_time": 25.99790551
                      },
                      {
                        "learn": [
                          0.00003085092704
                        ],
                        "iteration": 62,
                        "passed_time": 1.7403432,
                        "remaining_time": 25.88415203
                      },
                      {
                        "learn": [
                          0.00003085092704
                        ],
                        "iteration": 63,
                        "passed_time": 1.7676243,
                        "remaining_time": 25.85150539
                      },
                      {
                        "learn": [
                          0.00003085092704
                        ],
                        "iteration": 64,
                        "passed_time": 1.790090271,
                        "remaining_time": 25.74976005
                      },
                      {
                        "learn": [
                          0.00003085092704
                        ],
                        "iteration": 65,
                        "passed_time": 1.812035394,
                        "remaining_time": 25.64304633
                      },
                      {
                        "learn": [
                          0.00003085092704
                        ],
                        "iteration": 66,
                        "passed_time": 1.834383574,
                        "remaining_time": 25.54447573
                      },
                      {
                        "learn": [
                          0.00003085092704
                        ],
                        "iteration": 67,
                        "passed_time": 1.865922393,
                        "remaining_time": 25.57411279
                      },
                      {
                        "learn": [
                          0.00003085092704
                        ],
                        "iteration": 68,
                        "passed_time": 1.888045515,
                        "remaining_time": 25.47493296
                      },
                      {
                        "learn": [
                          0.00003085092704
                        ],
                        "iteration": 69,
                        "passed_time": 1.909664819,
                        "remaining_time": 25.37126117
                      },
                      {
                        "learn": [
                          0.00003085092704
                        ],
                        "iteration": 70,
                        "passed_time": 1.93145745,
                        "remaining_time": 25.27216861
                      },
                      {
                        "learn": [
                          0.00003085092704
                        ],
                        "iteration": 71,
                        "passed_time": 1.956375,
                        "remaining_time": 25.2155
                      },
                      {
                        "learn": [
                          0.00003085092704
                        ],
                        "iteration": 72,
                        "passed_time": 1.978203644,
                        "remaining_time": 25.12047641
                      },
                      {
                        "learn": [
                          0.00003085092704
                        ],
                        "iteration": 73,
                        "passed_time": 2.000138579,
                        "remaining_time": 25.02876114
                      },
                      {
                        "learn": [
                          0.00003085092704
                        ],
                        "iteration": 74,
                        "passed_time": 2.022115718,
                        "remaining_time": 24.93942719
                      },
                      {
                        "learn": [
                          0.00003085092704
                        ],
                        "iteration": 75,
                        "passed_time": 2.045118649,
                        "remaining_time": 24.86433726
                      },
                      {
                        "learn": [
                          0.00003085092704
                        ],
                        "iteration": 76,
                        "passed_time": 2.067143476,
                        "remaining_time": 24.7788757
                      },
                      {
                        "learn": [
                          0.00003085092704
                        ],
                        "iteration": 77,
                        "passed_time": 2.089307451,
                        "remaining_time": 24.69668551
                      },
                      {
                        "learn": [
                          0.00003085092704
                        ],
                        "iteration": 78,
                        "passed_time": 2.115061265,
                        "remaining_time": 24.65786614
                      },
                      {
                        "learn": [
                          0.00003085092704
                        ],
                        "iteration": 79,
                        "passed_time": 2.137111963,
                        "remaining_time": 24.57678758
                      },
                      {
                        "learn": [
                          0.00003085092704
                        ],
                        "iteration": 80,
                        "passed_time": 2.159737468,
                        "remaining_time": 24.50368806
                      },
                      {
                        "learn": [
                          0.00003085092704
                        ],
                        "iteration": 81,
                        "passed_time": 2.182006151,
                        "remaining_time": 24.42782496
                      },
                      {
                        "learn": [
                          0.00003085092704
                        ],
                        "iteration": 82,
                        "passed_time": 2.204273971,
                        "remaining_time": 24.35324376
                      },
                      {
                        "learn": [
                          0.00003085092704
                        ],
                        "iteration": 83,
                        "passed_time": 2.226171893,
                        "remaining_time": 24.27587445
                      },
                      {
                        "learn": [
                          0.00003085092704
                        ],
                        "iteration": 84,
                        "passed_time": 2.248348109,
                        "remaining_time": 24.20280612
                      },
                      {
                        "learn": [
                          0.00003085092704
                        ],
                        "iteration": 85,
                        "passed_time": 2.27038441,
                        "remaining_time": 24.12943431
                      },
                      {
                        "learn": [
                          0.00003085092704
                        ],
                        "iteration": 86,
                        "passed_time": 2.292464605,
                        "remaining_time": 24.05770326
                      },
                      {
                        "learn": [
                          0.00003085092704
                        ],
                        "iteration": 87,
                        "passed_time": 2.314288435,
                        "remaining_time": 23.98444378
                      },
                      {
                        "learn": [
                          0.00003085092704
                        ],
                        "iteration": 88,
                        "passed_time": 2.340201365,
                        "remaining_time": 23.95419599
                      },
                      {
                        "learn": [
                          0.00003085092704
                        ],
                        "iteration": 89,
                        "passed_time": 2.362160471,
                        "remaining_time": 23.88406698
                      },
                      {
                        "learn": [
                          0.00003085092704
                        ],
                        "iteration": 90,
                        "passed_time": 2.383915037,
                        "remaining_time": 23.8129535
                      },
                      {
                        "learn": [
                          0.00003085092704
                        ],
                        "iteration": 91,
                        "passed_time": 2.407177115,
                        "remaining_time": 23.75779152
                      },
                      {
                        "learn": [
                          0.00003085092704
                        ],
                        "iteration": 92,
                        "passed_time": 2.429481943,
                        "remaining_time": 23.69397981
                      },
                      {
                        "learn": [
                          0.00003085092704
                        ],
                        "iteration": 93,
                        "passed_time": 2.455274398,
                        "remaining_time": 23.66466601
                      },
                      {
                        "learn": [
                          0.00003085092704
                        ],
                        "iteration": 94,
                        "passed_time": 2.477398354,
                        "remaining_time": 23.60047905
                      },
                      {
                        "learn": [
                          0.00003085092704
                        ],
                        "iteration": 95,
                        "passed_time": 2.49962097,
                        "remaining_time": 23.53809746
                      },
                      {
                        "learn": [
                          0.00003085092704
                        ],
                        "iteration": 96,
                        "passed_time": 2.521638693,
                        "remaining_time": 23.47463649
                      },
                      {
                        "learn": [
                          0.00003085092704
                        ],
                        "iteration": 97,
                        "passed_time": 2.544391264,
                        "remaining_time": 23.4187849
                      },
                      {
                        "learn": [
                          0.00003085092704
                        ],
                        "iteration": 98,
                        "passed_time": 2.566835438,
                        "remaining_time": 23.36079525
                      },
                      {
                        "learn": [
                          0.00003085092704
                        ],
                        "iteration": 99,
                        "passed_time": 2.601968041,
                        "remaining_time": 23.41771237
                      },
                      {
                        "learn": [
                          0.00003085092704
                        ],
                        "iteration": 100,
                        "passed_time": 2.624221833,
                        "remaining_time": 23.35817256
                      },
                      {
                        "learn": [
                          0.00003085092704
                        ],
                        "iteration": 101,
                        "passed_time": 2.647197097,
                        "remaining_time": 23.30571561
                      },
                      {
                        "learn": [
                          0.00003085092704
                        ],
                        "iteration": 102,
                        "passed_time": 2.669131853,
                        "remaining_time": 23.24476964
                      },
                      {
                        "learn": [
                          0.00003085092704
                        ],
                        "iteration": 103,
                        "passed_time": 2.691147821,
                        "remaining_time": 23.18527354
                      },
                      {
                        "learn": [
                          0.00003085092704
                        ],
                        "iteration": 104,
                        "passed_time": 2.713453954,
                        "remaining_time": 23.12896465
                      },
                      {
                        "learn": [
                          0.00003085092704
                        ],
                        "iteration": 105,
                        "passed_time": 2.735834614,
                        "remaining_time": 23.0739259
                      },
                      {
                        "learn": [
                          0.00003085092704
                        ],
                        "iteration": 106,
                        "passed_time": 2.763090859,
                        "remaining_time": 23.0601882
                      },
                      {
                        "learn": [
                          0.00003097081661
                        ],
                        "iteration": 107,
                        "passed_time": 2.822063604,
                        "remaining_time": 23.30815495
                      },
                      {
                        "learn": [
                          0.00003093589783
                        ],
                        "iteration": 108,
                        "passed_time": 2.859173576,
                        "remaining_time": 23.37177666
                      },
                      {
                        "learn": [
                          0.00003093589783
                        ],
                        "iteration": 109,
                        "passed_time": 2.910401272,
                        "remaining_time": 23.54779211
                      },
                      {
                        "learn": [
                          0.00003093589783
                        ],
                        "iteration": 110,
                        "passed_time": 2.95221102,
                        "remaining_time": 23.64428465
                      },
                      {
                        "learn": [
                          0.00003093589783
                        ],
                        "iteration": 111,
                        "passed_time": 3.007927751,
                        "remaining_time": 23.84857003
                      },
                      {
                        "learn": [
                          0.00003093589783
                        ],
                        "iteration": 112,
                        "passed_time": 3.065974647,
                        "remaining_time": 24.06654436
                      },
                      {
                        "learn": [
                          0.00003093589783
                        ],
                        "iteration": 113,
                        "passed_time": 3.092654915,
                        "remaining_time": 24.03589697
                      },
                      {
                        "learn": [
                          0.00003093589783
                        ],
                        "iteration": 114,
                        "passed_time": 3.114647661,
                        "remaining_time": 23.96924504
                      },
                      {
                        "learn": [
                          0.00003093589783
                        ],
                        "iteration": 115,
                        "passed_time": 3.136899914,
                        "remaining_time": 23.90534073
                      },
                      {
                        "learn": [
                          0.00003093589783
                        ],
                        "iteration": 116,
                        "passed_time": 3.162070776,
                        "remaining_time": 23.86417517
                      },
                      {
                        "learn": [
                          0.00003093589783
                        ],
                        "iteration": 117,
                        "passed_time": 3.18454577,
                        "remaining_time": 23.80313025
                      },
                      {
                        "learn": [
                          0.00003093589783
                        ],
                        "iteration": 118,
                        "passed_time": 3.207192354,
                        "remaining_time": 23.7440039
                      },
                      {
                        "learn": [
                          0.00003093589783
                        ],
                        "iteration": 119,
                        "passed_time": 3.22939398,
                        "remaining_time": 23.68222252
                      },
                      {
                        "learn": [
                          0.00003093589783
                        ],
                        "iteration": 120,
                        "passed_time": 3.251542663,
                        "remaining_time": 23.62071075
                      },
                      {
                        "learn": [
                          0.00003093589783
                        ],
                        "iteration": 121,
                        "passed_time": 3.273645309,
                        "remaining_time": 23.55951296
                      },
                      {
                        "learn": [
                          0.00003093589783
                        ],
                        "iteration": 122,
                        "passed_time": 3.296155005,
                        "remaining_time": 23.50185316
                      },
                      {
                        "learn": [
                          0.00003093589783
                        ],
                        "iteration": 123,
                        "passed_time": 3.318365365,
                        "remaining_time": 23.44264564
                      },
                      {
                        "learn": [
                          0.00003093589783
                        ],
                        "iteration": 124,
                        "passed_time": 3.342603652,
                        "remaining_time": 23.39822556
                      },
                      {
                        "learn": [
                          0.00003091088613
                        ],
                        "iteration": 125,
                        "passed_time": 3.367788326,
                        "remaining_time": 23.36069045
                      },
                      {
                        "learn": [
                          0.00003085407416
                        ],
                        "iteration": 126,
                        "passed_time": 3.390753046,
                        "remaining_time": 23.30808984
                      },
                      {
                        "learn": [
                          0.00003085407416
                        ],
                        "iteration": 127,
                        "passed_time": 3.414253357,
                        "remaining_time": 23.259601
                      },
                      {
                        "learn": [
                          0.00003085407416
                        ],
                        "iteration": 128,
                        "passed_time": 3.436254904,
                        "remaining_time": 23.20138001
                      },
                      {
                        "learn": [
                          0.00003085407416
                        ],
                        "iteration": 129,
                        "passed_time": 3.458864826,
                        "remaining_time": 23.14778768
                      },
                      {
                        "learn": [
                          0.00003085407416
                        ],
                        "iteration": 130,
                        "passed_time": 3.480976689,
                        "remaining_time": 23.09136445
                      },
                      {
                        "learn": [
                          0.0000309307909
                        ],
                        "iteration": 131,
                        "passed_time": 3.503362165,
                        "remaining_time": 23.0372603
                      },
                      {
                        "learn": [
                          0.0000309307909
                        ],
                        "iteration": 132,
                        "passed_time": 3.525671218,
                        "remaining_time": 22.98313493
                      },
                      {
                        "learn": [
                          0.0000309307909
                        ],
                        "iteration": 133,
                        "passed_time": 3.547850312,
                        "remaining_time": 22.92864456
                      },
                      {
                        "learn": [
                          0.0000309307909
                        ],
                        "iteration": 134,
                        "passed_time": 3.572289347,
                        "remaining_time": 22.88911322
                      },
                      {
                        "learn": [
                          0.0000309307909
                        ],
                        "iteration": 135,
                        "passed_time": 3.597675525,
                        "remaining_time": 22.85582098
                      },
                      {
                        "learn": [
                          0.0000309307909
                        ],
                        "iteration": 136,
                        "passed_time": 3.628476121,
                        "remaining_time": 22.85675104
                      },
                      {
                        "learn": [
                          0.0000309307909
                        ],
                        "iteration": 137,
                        "passed_time": 3.651039481,
                        "remaining_time": 22.80576835
                      },
                      {
                        "learn": [
                          0.0000309307909
                        ],
                        "iteration": 138,
                        "passed_time": 3.673424487,
                        "remaining_time": 22.75408981
                      },
                      {
                        "learn": [
                          0.0000309307909
                        ],
                        "iteration": 139,
                        "passed_time": 3.700250001,
                        "remaining_time": 22.73010715
                      },
                      {
                        "learn": [
                          0.0000309307909
                        ],
                        "iteration": 140,
                        "passed_time": 3.725229953,
                        "remaining_time": 22.69484064
                      },
                      {
                        "learn": [
                          0.0000309307909
                        ],
                        "iteration": 141,
                        "passed_time": 3.750668284,
                        "remaining_time": 22.66248865
                      },
                      {
                        "learn": [
                          0.0000309307909
                        ],
                        "iteration": 142,
                        "passed_time": 3.773372739,
                        "remaining_time": 22.61384921
                      },
                      {
                        "learn": [
                          0.0000309307909
                        ],
                        "iteration": 143,
                        "passed_time": 3.795720648,
                        "remaining_time": 22.56345052
                      },
                      {
                        "learn": [
                          0.0000309307909
                        ],
                        "iteration": 144,
                        "passed_time": 3.818097693,
                        "remaining_time": 22.51361053
                      },
                      {
                        "learn": [
                          0.0000309307909
                        ],
                        "iteration": 145,
                        "passed_time": 3.840254223,
                        "remaining_time": 22.46285689
                      },
                      {
                        "learn": [
                          0.0000309307909
                        ],
                        "iteration": 146,
                        "passed_time": 3.862545742,
                        "remaining_time": 22.41327563
                      },
                      {
                        "learn": [
                          0.0000309307909
                        ],
                        "iteration": 147,
                        "passed_time": 3.900038831,
                        "remaining_time": 22.45157489
                      },
                      {
                        "learn": [
                          0.0000309307909
                        ],
                        "iteration": 148,
                        "passed_time": 3.922357909,
                        "remaining_time": 22.40219182
                      },
                      {
                        "learn": [
                          0.0000309307909
                        ],
                        "iteration": 149,
                        "passed_time": 3.944775038,
                        "remaining_time": 22.35372522
                      },
                      {
                        "learn": [
                          0.0000309307909
                        ],
                        "iteration": 150,
                        "passed_time": 3.967091114,
                        "remaining_time": 22.30503547
                      },
                      {
                        "learn": [
                          0.0000309307909
                        ],
                        "iteration": 151,
                        "passed_time": 3.989156921,
                        "remaining_time": 22.25529651
                      },
                      {
                        "learn": [
                          0.0000309307909
                        ],
                        "iteration": 152,
                        "passed_time": 4.011512793,
                        "remaining_time": 22.20752507
                      },
                      {
                        "learn": [
                          0.0000309307909
                        ],
                        "iteration": 153,
                        "passed_time": 4.033647993,
                        "remaining_time": 22.15887144
                      },
                      {
                        "learn": [
                          0.0000309307909
                        ],
                        "iteration": 154,
                        "passed_time": 4.056022107,
                        "remaining_time": 22.11186245
                      },
                      {
                        "learn": [
                          0.0000309307909
                        ],
                        "iteration": 155,
                        "passed_time": 4.078426922,
                        "remaining_time": 22.0653354
                      },
                      {
                        "learn": [
                          0.0000309307909
                        ],
                        "iteration": 156,
                        "passed_time": 4.103228933,
                        "remaining_time": 22.0319872
                      },
                      {
                        "learn": [
                          0.0000309307909
                        ],
                        "iteration": 157,
                        "passed_time": 4.126781253,
                        "remaining_time": 21.99208744
                      },
                      {
                        "learn": [
                          0.0000309307909
                        ],
                        "iteration": 158,
                        "passed_time": 4.148781788,
                        "remaining_time": 21.94418543
                      },
                      {
                        "learn": [
                          0.0000309307909
                        ],
                        "iteration": 159,
                        "passed_time": 4.171466202,
                        "remaining_time": 21.90019756
                      },
                      {
                        "learn": [
                          0.0000309307909
                        ],
                        "iteration": 160,
                        "passed_time": 4.194077821,
                        "remaining_time": 21.85609498
                      },
                      {
                        "learn": [
                          0.0000309307909
                        ],
                        "iteration": 161,
                        "passed_time": 4.215853893,
                        "remaining_time": 21.80793557
                      },
                      {
                        "learn": [
                          0.0000309307909
                        ],
                        "iteration": 162,
                        "passed_time": 4.237895124,
                        "remaining_time": 21.76146146
                      },
                      {
                        "learn": [
                          0.0000309307909
                        ],
                        "iteration": 163,
                        "passed_time": 4.260069982,
                        "remaining_time": 21.71596649
                      },
                      {
                        "learn": [
                          0.0000309307909
                        ],
                        "iteration": 164,
                        "passed_time": 4.281961113,
                        "remaining_time": 21.66931836
                      },
                      {
                        "learn": [
                          0.0000309307909
                        ],
                        "iteration": 165,
                        "passed_time": 4.30381771,
                        "remaining_time": 21.622795
                      },
                      {
                        "learn": [
                          0.0000309307909
                        ],
                        "iteration": 166,
                        "passed_time": 4.325772457,
                        "remaining_time": 21.57705663
                      },
                      {
                        "learn": [
                          0.0000309307909
                        ],
                        "iteration": 167,
                        "passed_time": 4.349968727,
                        "remaining_time": 21.54270227
                      },
                      {
                        "learn": [
                          0.0000309307909
                        ],
                        "iteration": 168,
                        "passed_time": 4.372112257,
                        "remaining_time": 21.49837447
                      },
                      {
                        "learn": [
                          0.0000309307909
                        ],
                        "iteration": 169,
                        "passed_time": 4.397787195,
                        "remaining_time": 21.47154924
                      },
                      {
                        "learn": [
                          0.0000309307909
                        ],
                        "iteration": 170,
                        "passed_time": 4.420095148,
                        "remaining_time": 21.42841449
                      },
                      {
                        "learn": [
                          0.0000309307909
                        ],
                        "iteration": 171,
                        "passed_time": 4.442365142,
                        "remaining_time": 21.38533917
                      },
                      {
                        "learn": [
                          0.0000309307909
                        ],
                        "iteration": 172,
                        "passed_time": 4.464588089,
                        "remaining_time": 21.34227948
                      },
                      {
                        "learn": [
                          0.0000309307909
                        ],
                        "iteration": 173,
                        "passed_time": 4.486699784,
                        "remaining_time": 21.29893116
                      },
                      {
                        "learn": [
                          0.0000309307909
                        ],
                        "iteration": 174,
                        "passed_time": 4.508647964,
                        "remaining_time": 21.25505469
                      },
                      {
                        "learn": [
                          0.0000309307909
                        ],
                        "iteration": 175,
                        "passed_time": 4.530760751,
                        "remaining_time": 21.21219806
                      },
                      {
                        "learn": [
                          0.0000309307909
                        ],
                        "iteration": 176,
                        "passed_time": 4.552919243,
                        "remaining_time": 21.16978835
                      },
                      {
                        "learn": [
                          0.0000309307909
                        ],
                        "iteration": 177,
                        "passed_time": 4.575427682,
                        "remaining_time": 21.12922222
                      },
                      {
                        "learn": [
                          0.0000309307909
                        ],
                        "iteration": 178,
                        "passed_time": 4.597730184,
                        "remaining_time": 21.0879133
                      },
                      {
                        "learn": [
                          0.0000309307909
                        ],
                        "iteration": 179,
                        "passed_time": 4.631141733,
                        "remaining_time": 21.09742345
                      },
                      {
                        "learn": [
                          0.0000309307909
                        ],
                        "iteration": 180,
                        "passed_time": 4.65337834,
                        "remaining_time": 21.05589425
                      },
                      {
                        "learn": [
                          0.0000309307909
                        ],
                        "iteration": 181,
                        "passed_time": 4.685910313,
                        "remaining_time": 21.06084965
                      },
                      {
                        "learn": [
                          0.0000309307909
                        ],
                        "iteration": 182,
                        "passed_time": 4.708408055,
                        "remaining_time": 21.02059771
                      },
                      {
                        "learn": [
                          0.0000309307909
                        ],
                        "iteration": 183,
                        "passed_time": 4.730816934,
                        "remaining_time": 20.98014466
                      },
                      {
                        "learn": [
                          0.0000309307909
                        ],
                        "iteration": 184,
                        "passed_time": 4.752894415,
                        "remaining_time": 20.93842675
                      },
                      {
                        "learn": [
                          0.0000309307909
                        ],
                        "iteration": 185,
                        "passed_time": 4.775463961,
                        "remaining_time": 20.89907347
                      },
                      {
                        "learn": [
                          0.0000309307909
                        ],
                        "iteration": 186,
                        "passed_time": 4.797490056,
                        "remaining_time": 20.85753698
                      },
                      {
                        "learn": [
                          0.0000309307909
                        ],
                        "iteration": 187,
                        "passed_time": 4.81952038,
                        "remaining_time": 20.81622632
                      },
                      {
                        "learn": [
                          0.0000309307909
                        ],
                        "iteration": 188,
                        "passed_time": 4.841713217,
                        "remaining_time": 20.77581703
                      },
                      {
                        "learn": [
                          0.0000309307909
                        ],
                        "iteration": 189,
                        "passed_time": 4.86398189,
                        "remaining_time": 20.7359228
                      },
                      {
                        "learn": [
                          0.0000309307909
                        ],
                        "iteration": 190,
                        "passed_time": 4.905771569,
                        "remaining_time": 20.77889633
                      },
                      {
                        "learn": [
                          0.0000309307909
                        ],
                        "iteration": 191,
                        "passed_time": 4.927869527,
                        "remaining_time": 20.73811759
                      },
                      {
                        "learn": [
                          0.0000309307909
                        ],
                        "iteration": 192,
                        "passed_time": 4.953460827,
                        "remaining_time": 20.71213931
                      },
                      {
                        "learn": [
                          0.0000309307909
                        ],
                        "iteration": 193,
                        "passed_time": 4.975807676,
                        "remaining_time": 20.6726855
                      },
                      {
                        "learn": [
                          0.0000309307909
                        ],
                        "iteration": 194,
                        "passed_time": 4.997900585,
                        "remaining_time": 20.63235883
                      },
                      {
                        "learn": [
                          0.0000309307909
                        ],
                        "iteration": 195,
                        "passed_time": 5.020405584,
                        "remaining_time": 20.59390862
                      },
                      {
                        "learn": [
                          0.0000309307909
                        ],
                        "iteration": 196,
                        "passed_time": 5.042872979,
                        "remaining_time": 20.55546701
                      },
                      {
                        "learn": [
                          0.0000309307909
                        ],
                        "iteration": 197,
                        "passed_time": 5.064932486,
                        "remaining_time": 20.51553461
                      },
                      {
                        "learn": [
                          0.0000309307909
                        ],
                        "iteration": 198,
                        "passed_time": 5.087118344,
                        "remaining_time": 20.47629042
                      },
                      {
                        "learn": [
                          0.0000309307909
                        ],
                        "iteration": 199,
                        "passed_time": 5.109145829,
                        "remaining_time": 20.43658331
                      },
                      {
                        "learn": [
                          0.0000309307909
                        ],
                        "iteration": 200,
                        "passed_time": 5.131068701,
                        "remaining_time": 20.39663628
                      },
                      {
                        "learn": [
                          0.0000309307909
                        ],
                        "iteration": 201,
                        "passed_time": 5.154209076,
                        "remaining_time": 20.36167744
                      },
                      {
                        "learn": [
                          0.0000309307909
                        ],
                        "iteration": 202,
                        "passed_time": 5.176572573,
                        "remaining_time": 20.32378493
                      },
                      {
                        "learn": [
                          0.0000309307909
                        ],
                        "iteration": 203,
                        "passed_time": 5.198794081,
                        "remaining_time": 20.28549063
                      },
                      {
                        "learn": [
                          0.0000309307909
                        ],
                        "iteration": 204,
                        "passed_time": 5.221082951,
                        "remaining_time": 20.24761437
                      },
                      {
                        "learn": [
                          0.0000309307909
                        ],
                        "iteration": 205,
                        "passed_time": 5.243790415,
                        "remaining_time": 20.21150286
                      },
                      {
                        "learn": [
                          0.0000309307909
                        ],
                        "iteration": 206,
                        "passed_time": 5.265820702,
                        "remaining_time": 20.17292665
                      },
                      {
                        "learn": [
                          0.0000309307909
                        ],
                        "iteration": 207,
                        "passed_time": 5.288271889,
                        "remaining_time": 20.13611219
                      },
                      {
                        "learn": [
                          0.0000309307909
                        ],
                        "iteration": 208,
                        "passed_time": 5.310760407,
                        "remaining_time": 20.09957647
                      },
                      {
                        "learn": [
                          0.0000309307909
                        ],
                        "iteration": 209,
                        "passed_time": 5.337202383,
                        "remaining_time": 20.07804706
                      },
                      {
                        "learn": [
                          0.0000309307909
                        ],
                        "iteration": 210,
                        "passed_time": 5.359500933,
                        "remaining_time": 20.04097742
                      },
                      {
                        "learn": [
                          0.0000309307909
                        ],
                        "iteration": 211,
                        "passed_time": 5.381541015,
                        "remaining_time": 20.00308641
                      },
                      {
                        "learn": [
                          0.0000309307909
                        ],
                        "iteration": 212,
                        "passed_time": 5.404842176,
                        "remaining_time": 19.97000372
                      },
                      {
                        "learn": [
                          0.0000309307909
                        ],
                        "iteration": 213,
                        "passed_time": 5.426907848,
                        "remaining_time": 19.93247462
                      },
                      {
                        "learn": [
                          0.0000309307909
                        ],
                        "iteration": 214,
                        "passed_time": 5.449154591,
                        "remaining_time": 19.89575048
                      },
                      {
                        "learn": [
                          0.0000309307909
                        ],
                        "iteration": 215,
                        "passed_time": 5.471014138,
                        "remaining_time": 19.85775502
                      },
                      {
                        "learn": [
                          0.0000309307909
                        ],
                        "iteration": 216,
                        "passed_time": 5.492942965,
                        "remaining_time": 19.82015826
                      },
                      {
                        "learn": [
                          0.0000309307909
                        ],
                        "iteration": 217,
                        "passed_time": 5.514794973,
                        "remaining_time": 19.78242967
                      },
                      {
                        "learn": [
                          0.0000309307909
                        ],
                        "iteration": 218,
                        "passed_time": 5.540885984,
                        "remaining_time": 19.75996326
                      },
                      {
                        "learn": [
                          0.0000309307909
                        ],
                        "iteration": 219,
                        "passed_time": 5.563027869,
                        "remaining_time": 19.72346244
                      },
                      {
                        "learn": [
                          0.0000309307909
                        ],
                        "iteration": 220,
                        "passed_time": 5.586628705,
                        "remaining_time": 19.69223421
                      },
                      {
                        "learn": [
                          0.0000309307909
                        ],
                        "iteration": 221,
                        "passed_time": 5.654412658,
                        "remaining_time": 19.81591463
                      },
                      {
                        "learn": [
                          0.0000309307909
                        ],
                        "iteration": 222,
                        "passed_time": 5.71494208,
                        "remaining_time": 19.91260088
                      },
                      {
                        "learn": [
                          0.0000309307909
                        ],
                        "iteration": 223,
                        "passed_time": 5.770263682,
                        "remaining_time": 19.98984204
                      },
                      {
                        "learn": [
                          0.0000309307909
                        ],
                        "iteration": 224,
                        "passed_time": 5.837557854,
                        "remaining_time": 20.10714372
                      },
                      {
                        "learn": [
                          0.0000309307909
                        ],
                        "iteration": 225,
                        "passed_time": 5.890303104,
                        "remaining_time": 20.17298497
                      },
                      {
                        "learn": [
                          0.0000309307909
                        ],
                        "iteration": 226,
                        "passed_time": 5.938684099,
                        "remaining_time": 20.22291986
                      },
                      {
                        "learn": [
                          0.0000309307909
                        ],
                        "iteration": 227,
                        "passed_time": 5.983884934,
                        "remaining_time": 20.26122443
                      },
                      {
                        "learn": [
                          0.0000309307909
                        ],
                        "iteration": 228,
                        "passed_time": 6.020284447,
                        "remaining_time": 20.26916729
                      },
                      {
                        "learn": [
                          0.0000309307909
                        ],
                        "iteration": 229,
                        "passed_time": 6.056990767,
                        "remaining_time": 20.2777517
                      },
                      {
                        "learn": [
                          0.0000309307909
                        ],
                        "iteration": 230,
                        "passed_time": 6.114325604,
                        "remaining_time": 20.3546164
                      },
                      {
                        "learn": [
                          0.0000309307909
                        ],
                        "iteration": 231,
                        "passed_time": 6.157359233,
                        "remaining_time": 20.38298229
                      },
                      {
                        "learn": [
                          0.0000309307909
                        ],
                        "iteration": 232,
                        "passed_time": 6.216417396,
                        "remaining_time": 20.46348559
                      },
                      {
                        "learn": [
                          0.0000309307909
                        ],
                        "iteration": 233,
                        "passed_time": 6.272956885,
                        "remaining_time": 20.53455117
                      },
                      {
                        "learn": [
                          0.0000309307909
                        ],
                        "iteration": 234,
                        "passed_time": 6.336623779,
                        "remaining_time": 20.62773273
                      },
                      {
                        "learn": [
                          0.0000309307909
                        ],
                        "iteration": 235,
                        "passed_time": 6.397829404,
                        "remaining_time": 20.71161722
                      },
                      {
                        "learn": [
                          0.0000309307909
                        ],
                        "iteration": 236,
                        "passed_time": 6.457483905,
                        "remaining_time": 20.78928363
                      },
                      {
                        "learn": [
                          0.0000309307909
                        ],
                        "iteration": 237,
                        "passed_time": 6.492129313,
                        "remaining_time": 20.78572494
                      },
                      {
                        "learn": [
                          0.0000309307909
                        ],
                        "iteration": 238,
                        "passed_time": 6.519829048,
                        "remaining_time": 20.7597904
                      },
                      {
                        "learn": [
                          0.0000309307909
                        ],
                        "iteration": 239,
                        "passed_time": 6.562828914,
                        "remaining_time": 20.78229156
                      },
                      {
                        "learn": [
                          0.0000309307909
                        ],
                        "iteration": 240,
                        "passed_time": 6.619543768,
                        "remaining_time": 20.84744282
                      },
                      {
                        "learn": [
                          0.0000309307909
                        ],
                        "iteration": 241,
                        "passed_time": 6.674558495,
                        "remaining_time": 20.90626173
                      },
                      {
                        "learn": [
                          0.0000309307909
                        ],
                        "iteration": 242,
                        "passed_time": 6.75661794,
                        "remaining_time": 21.04839416
                      },
                      {
                        "learn": [
                          0.0000309307909
                        ],
                        "iteration": 243,
                        "passed_time": 6.811017879,
                        "remaining_time": 21.10298982
                      },
                      {
                        "learn": [
                          0.0000309307909
                        ],
                        "iteration": 244,
                        "passed_time": 6.877035869,
                        "remaining_time": 21.19249829
                      },
                      {
                        "learn": [
                          0.0000309307909
                        ],
                        "iteration": 245,
                        "passed_time": 6.92192156,
                        "remaining_time": 21.21597096
                      },
                      {
                        "learn": [
                          0.0000309307909
                        ],
                        "iteration": 246,
                        "passed_time": 6.972681411,
                        "remaining_time": 21.25679799
                      },
                      {
                        "learn": [
                          0.0000309307909
                        ],
                        "iteration": 247,
                        "passed_time": 7.010271072,
                        "remaining_time": 21.25695099
                      },
                      {
                        "learn": [
                          0.0000309307909
                        ],
                        "iteration": 248,
                        "passed_time": 7.03920987,
                        "remaining_time": 21.23070929
                      },
                      {
                        "learn": [
                          0.0000309307909
                        ],
                        "iteration": 249,
                        "passed_time": 7.069832889,
                        "remaining_time": 21.20949867
                      },
                      {
                        "learn": [
                          0.0000309307909
                        ],
                        "iteration": 250,
                        "passed_time": 7.097901585,
                        "remaining_time": 21.18059079
                      },
                      {
                        "learn": [
                          0.0000309307909
                        ],
                        "iteration": 251,
                        "passed_time": 7.134981449,
                        "remaining_time": 21.178437
                      },
                      {
                        "learn": [
                          0.0000309307909
                        ],
                        "iteration": 252,
                        "passed_time": 7.206570838,
                        "remaining_time": 21.27789888
                      },
                      {
                        "learn": [
                          0.0000309307909
                        ],
                        "iteration": 253,
                        "passed_time": 7.269305214,
                        "remaining_time": 21.35000665
                      },
                      {
                        "learn": [
                          0.0000309307909
                        ],
                        "iteration": 254,
                        "passed_time": 7.327111107,
                        "remaining_time": 21.40665794
                      },
                      {
                        "learn": [
                          0.0000309307909
                        ],
                        "iteration": 255,
                        "passed_time": 7.380206973,
                        "remaining_time": 21.44872651
                      },
                      {
                        "learn": [
                          0.0000309307909
                        ],
                        "iteration": 256,
                        "passed_time": 7.409723236,
                        "remaining_time": 21.42188469
                      },
                      {
                        "learn": [
                          0.0000309307909
                        ],
                        "iteration": 257,
                        "passed_time": 7.466395419,
                        "remaining_time": 21.47312171
                      },
                      {
                        "learn": [
                          0.0000309307909
                        ],
                        "iteration": 258,
                        "passed_time": 7.533963529,
                        "remaining_time": 21.55469875
                      },
                      {
                        "learn": [
                          0.0000309307909
                        ],
                        "iteration": 259,
                        "passed_time": 7.577959705,
                        "remaining_time": 21.56803916
                      },
                      {
                        "learn": [
                          0.0000309307909
                        ],
                        "iteration": 260,
                        "passed_time": 7.614399802,
                        "remaining_time": 21.5595458
                      },
                      {
                        "learn": [
                          0.0000309307909
                        ],
                        "iteration": 261,
                        "passed_time": 7.649044851,
                        "remaining_time": 21.54578282
                      },
                      {
                        "learn": [
                          0.0000309307909
                        ],
                        "iteration": 262,
                        "passed_time": 7.700996189,
                        "remaining_time": 21.58035814
                      },
                      {
                        "learn": [
                          0.0000309307909
                        ],
                        "iteration": 263,
                        "passed_time": 7.729516973,
                        "remaining_time": 21.54895641
                      },
                      {
                        "learn": [
                          0.0000309307909
                        ],
                        "iteration": 264,
                        "passed_time": 7.758385167,
                        "remaining_time": 21.51853999
                      },
                      {
                        "learn": [
                          0.0000309307909
                        ],
                        "iteration": 265,
                        "passed_time": 7.8061527,
                        "remaining_time": 21.54028602
                      },
                      {
                        "learn": [
                          0.0000309307909
                        ],
                        "iteration": 266,
                        "passed_time": 7.859602274,
                        "remaining_time": 21.57711036
                      },
                      {
                        "learn": [
                          0.0000309307909
                        ],
                        "iteration": 267,
                        "passed_time": 7.894565587,
                        "remaining_time": 21.56276869
                      },
                      {
                        "learn": [
                          0.0000309307909
                        ],
                        "iteration": 268,
                        "passed_time": 7.931788314,
                        "remaining_time": 21.5544136
                      },
                      {
                        "learn": [
                          0.0000309307909
                        ],
                        "iteration": 269,
                        "passed_time": 8.072067864,
                        "remaining_time": 21.82447978
                      },
                      {
                        "learn": [
                          0.0000309307909
                        ],
                        "iteration": 270,
                        "passed_time": 8.138883119,
                        "remaining_time": 21.89389592
                      },
                      {
                        "learn": [
                          0.0000309307909
                        ],
                        "iteration": 271,
                        "passed_time": 8.174273877,
                        "remaining_time": 21.87820361
                      },
                      {
                        "learn": [
                          0.0000309307909
                        ],
                        "iteration": 272,
                        "passed_time": 8.202343188,
                        "remaining_time": 21.84286995
                      },
                      {
                        "learn": [
                          0.0000309307909
                        ],
                        "iteration": 273,
                        "passed_time": 8.261681676,
                        "remaining_time": 21.89044123
                      },
                      {
                        "learn": [
                          0.0000309307909
                        ],
                        "iteration": 274,
                        "passed_time": 8.307077833,
                        "remaining_time": 21.90047792
                      },
                      {
                        "learn": [
                          0.0000309307909
                        ],
                        "iteration": 275,
                        "passed_time": 8.360053003,
                        "remaining_time": 21.92999411
                      },
                      {
                        "learn": [
                          0.0000309307909
                        ],
                        "iteration": 276,
                        "passed_time": 8.399577534,
                        "remaining_time": 21.92380707
                      },
                      {
                        "learn": [
                          0.0000309307909
                        ],
                        "iteration": 277,
                        "passed_time": 8.446598593,
                        "remaining_time": 21.93684958
                      },
                      {
                        "learn": [
                          0.0000309307909
                        ],
                        "iteration": 278,
                        "passed_time": 8.475377627,
                        "remaining_time": 21.90231996
                      },
                      {
                        "learn": [
                          0.0000309307909
                        ],
                        "iteration": 279,
                        "passed_time": 8.51297856,
                        "remaining_time": 21.8905163
                      },
                      {
                        "learn": [
                          0.0000309307909
                        ],
                        "iteration": 280,
                        "passed_time": 8.57712573,
                        "remaining_time": 21.94645338
                      },
                      {
                        "learn": [
                          0.0000309307909
                        ],
                        "iteration": 281,
                        "passed_time": 8.645902769,
                        "remaining_time": 22.01332691
                      },
                      {
                        "learn": [
                          0.0000309307909
                        ],
                        "iteration": 282,
                        "passed_time": 8.703445931,
                        "remaining_time": 22.05077997
                      },
                      {
                        "learn": [
                          0.0000309307909
                        ],
                        "iteration": 283,
                        "passed_time": 8.764609629,
                        "remaining_time": 22.09669188
                      },
                      {
                        "learn": [
                          0.0000309307909
                        ],
                        "iteration": 284,
                        "passed_time": 8.821771042,
                        "remaining_time": 22.13181156
                      },
                      {
                        "learn": [
                          0.0000309307909
                        ],
                        "iteration": 285,
                        "passed_time": 8.875958569,
                        "remaining_time": 22.1588616
                      },
                      {
                        "learn": [
                          0.0000309307909
                        ],
                        "iteration": 286,
                        "passed_time": 8.979955496,
                        "remaining_time": 22.30908804
                      },
                      {
                        "learn": [
                          0.0000309307909
                        ],
                        "iteration": 287,
                        "passed_time": 9.069791874,
                        "remaining_time": 22.42254102
                      },
                      {
                        "learn": [
                          0.0000309307909
                        ],
                        "iteration": 288,
                        "passed_time": 9.147358499,
                        "remaining_time": 22.50440101
                      },
                      {
                        "learn": [
                          0.0000309307909
                        ],
                        "iteration": 289,
                        "passed_time": 9.176167856,
                        "remaining_time": 22.46579027
                      },
                      {
                        "learn": [
                          0.0000309307909
                        ],
                        "iteration": 290,
                        "passed_time": 9.216449029,
                        "remaining_time": 22.45519712
                      },
                      {
                        "learn": [
                          0.0000309307909
                        ],
                        "iteration": 291,
                        "passed_time": 9.260723877,
                        "remaining_time": 22.45408392
                      },
                      {
                        "learn": [
                          0.0000309307909
                        ],
                        "iteration": 292,
                        "passed_time": 9.317359668,
                        "remaining_time": 22.48250268
                      },
                      {
                        "learn": [
                          0.0000309307909
                        ],
                        "iteration": 293,
                        "passed_time": 9.375033406,
                        "remaining_time": 22.51283532
                      },
                      {
                        "learn": [
                          0.0000309307909
                        ],
                        "iteration": 294,
                        "passed_time": 9.437088884,
                        "remaining_time": 22.55304293
                      },
                      {
                        "learn": [
                          0.0000309307909
                        ],
                        "iteration": 295,
                        "passed_time": 9.497998484,
                        "remaining_time": 22.58983423
                      },
                      {
                        "learn": [
                          0.0000309307909
                        ],
                        "iteration": 296,
                        "passed_time": 9.536406498,
                        "remaining_time": 22.57270629
                      },
                      {
                        "learn": [
                          0.0000309307909
                        ],
                        "iteration": 297,
                        "passed_time": 9.579048311,
                        "remaining_time": 22.56540911
                      },
                      {
                        "learn": [
                          0.0000309307909
                        ],
                        "iteration": 298,
                        "passed_time": 9.647250943,
                        "remaining_time": 22.61780238
                      },
                      {
                        "learn": [
                          0.0000309307909
                        ],
                        "iteration": 299,
                        "passed_time": 9.706910146,
                        "remaining_time": 22.64945701
                      },
                      {
                        "learn": [
                          0.0000309307909
                        ],
                        "iteration": 300,
                        "passed_time": 9.778212621,
                        "remaining_time": 22.70754359
                      },
                      {
                        "learn": [
                          0.0000309307909
                        ],
                        "iteration": 301,
                        "passed_time": 9.843168739,
                        "remaining_time": 22.75010523
                      },
                      {
                        "learn": [
                          0.0000309307909
                        ],
                        "iteration": 302,
                        "passed_time": 9.900573918,
                        "remaining_time": 22.77458753
                      },
                      {
                        "learn": [
                          0.0000309307909
                        ],
                        "iteration": 303,
                        "passed_time": 9.95013609,
                        "remaining_time": 22.78057473
                      },
                      {
                        "learn": [
                          0.0000309307909
                        ],
                        "iteration": 304,
                        "passed_time": 10.01346845,
                        "remaining_time": 22.81757564
                      },
                      {
                        "learn": [
                          0.0000309307909
                        ],
                        "iteration": 305,
                        "passed_time": 10.08198351,
                        "remaining_time": 22.86567502
                      },
                      {
                        "learn": [
                          0.0000309307909
                        ],
                        "iteration": 306,
                        "passed_time": 10.12821425,
                        "remaining_time": 22.86271165
                      },
                      {
                        "learn": [
                          0.0000309307909
                        ],
                        "iteration": 307,
                        "passed_time": 10.1561792,
                        "remaining_time": 22.81842859
                      },
                      {
                        "learn": [
                          0.0000309307909
                        ],
                        "iteration": 308,
                        "passed_time": 10.18648728,
                        "remaining_time": 22.77949096
                      },
                      {
                        "learn": [
                          0.0000309307909
                        ],
                        "iteration": 309,
                        "passed_time": 10.24100742,
                        "remaining_time": 22.79450038
                      },
                      {
                        "learn": [
                          0.0000309307909
                        ],
                        "iteration": 310,
                        "passed_time": 10.30608575,
                        "remaining_time": 22.83245363
                      },
                      {
                        "learn": [
                          0.0000309307909
                        ],
                        "iteration": 311,
                        "passed_time": 10.37217514,
                        "remaining_time": 22.87197594
                      },
                      {
                        "learn": [
                          0.0000309307909
                        ],
                        "iteration": 312,
                        "passed_time": 10.45430194,
                        "remaining_time": 22.94602375
                      },
                      {
                        "learn": [
                          0.0000309307909
                        ],
                        "iteration": 313,
                        "passed_time": 10.52606936,
                        "remaining_time": 22.99644452
                      },
                      {
                        "learn": [
                          0.0000309307909
                        ],
                        "iteration": 314,
                        "passed_time": 10.56499641,
                        "remaining_time": 22.97467473
                      },
                      {
                        "learn": [
                          0.0000309307909
                        ],
                        "iteration": 315,
                        "passed_time": 10.61214724,
                        "remaining_time": 22.97059718
                      },
                      {
                        "learn": [
                          0.0000309307909
                        ],
                        "iteration": 316,
                        "passed_time": 10.71098457,
                        "remaining_time": 23.07761029
                      },
                      {
                        "learn": [
                          0.0000309307909
                        ],
                        "iteration": 317,
                        "passed_time": 10.78609241,
                        "remaining_time": 23.13243719
                      },
                      {
                        "learn": [
                          0.0000309307909
                        ],
                        "iteration": 318,
                        "passed_time": 10.81814819,
                        "remaining_time": 23.09454206
                      },
                      {
                        "learn": [
                          0.0000309307909
                        ],
                        "iteration": 319,
                        "passed_time": 10.8790226,
                        "remaining_time": 23.11792303
                      },
                      {
                        "learn": [
                          0.0000309307909
                        ],
                        "iteration": 320,
                        "passed_time": 10.94976594,
                        "remaining_time": 23.16165444
                      },
                      {
                        "learn": [
                          0.0000309307909
                        ],
                        "iteration": 321,
                        "passed_time": 11.00586147,
                        "remaining_time": 23.17383254
                      },
                      {
                        "learn": [
                          0.0000309307909
                        ],
                        "iteration": 322,
                        "passed_time": 11.062379,
                        "remaining_time": 23.1864724
                      },
                      {
                        "learn": [
                          0.0000309307909
                        ],
                        "iteration": 323,
                        "passed_time": 11.16394847,
                        "remaining_time": 23.2926826
                      },
                      {
                        "learn": [
                          0.0000309307909
                        ],
                        "iteration": 324,
                        "passed_time": 11.23493626,
                        "remaining_time": 23.33409839
                      },
                      {
                        "learn": [
                          0.0000309307909
                        ],
                        "iteration": 325,
                        "passed_time": 11.29973619,
                        "remaining_time": 23.36203127
                      },
                      {
                        "learn": [
                          0.0000309307909
                        ],
                        "iteration": 326,
                        "passed_time": 11.37427938,
                        "remaining_time": 23.40944961
                      },
                      {
                        "learn": [
                          0.0000309307909
                        ],
                        "iteration": 327,
                        "passed_time": 11.43020897,
                        "remaining_time": 23.4179891
                      },
                      {
                        "learn": [
                          0.0000309307909
                        ],
                        "iteration": 328,
                        "passed_time": 11.51449426,
                        "remaining_time": 23.48396853
                      },
                      {
                        "learn": [
                          0.0000309307909
                        ],
                        "iteration": 329,
                        "passed_time": 11.57607542,
                        "remaining_time": 23.50294099
                      },
                      {
                        "learn": [
                          0.0000309307909
                        ],
                        "iteration": 330,
                        "passed_time": 11.66755865,
                        "remaining_time": 23.58186325
                      },
                      {
                        "learn": [
                          0.0000309307909
                        ],
                        "iteration": 331,
                        "passed_time": 11.76896006,
                        "remaining_time": 23.67971481
                      },
                      {
                        "learn": [
                          0.0000309307909
                        ],
                        "iteration": 332,
                        "passed_time": 11.86617106,
                        "remaining_time": 23.76797626
                      },
                      {
                        "learn": [
                          0.0000309307909
                        ],
                        "iteration": 333,
                        "passed_time": 11.92614465,
                        "remaining_time": 23.78087526
                      },
                      {
                        "learn": [
                          0.0000309307909
                        ],
                        "iteration": 334,
                        "passed_time": 11.99073195,
                        "remaining_time": 23.80249775
                      },
                      {
                        "learn": [
                          0.0000309307909
                        ],
                        "iteration": 335,
                        "passed_time": 12.05621257,
                        "remaining_time": 23.82537247
                      },
                      {
                        "learn": [
                          0.0000309307909
                        ],
                        "iteration": 336,
                        "passed_time": 12.11580567,
                        "remaining_time": 23.83613993
                      },
                      {
                        "learn": [
                          0.0000309307909
                        ],
                        "iteration": 337,
                        "passed_time": 12.18468664,
                        "remaining_time": 23.86468211
                      },
                      {
                        "learn": [
                          0.0000309307909
                        ],
                        "iteration": 338,
                        "passed_time": 12.2570195,
                        "remaining_time": 23.89938021
                      },
                      {
                        "learn": [
                          0.0000309307909
                        ],
                        "iteration": 339,
                        "passed_time": 12.31815931,
                        "remaining_time": 23.91172101
                      },
                      {
                        "learn": [
                          0.0000309307909
                        ],
                        "iteration": 340,
                        "passed_time": 12.37967841,
                        "remaining_time": 23.92436385
                      },
                      {
                        "learn": [
                          0.0000309307909
                        ],
                        "iteration": 341,
                        "passed_time": 12.43917767,
                        "remaining_time": 23.93268685
                      },
                      {
                        "learn": [
                          0.0000309307909
                        ],
                        "iteration": 342,
                        "passed_time": 12.51077177,
                        "remaining_time": 23.9637815
                      },
                      {
                        "learn": [
                          0.0000309307909
                        ],
                        "iteration": 343,
                        "passed_time": 12.57715861,
                        "remaining_time": 23.98434897
                      },
                      {
                        "learn": [
                          0.0000309307909
                        ],
                        "iteration": 344,
                        "passed_time": 12.64849466,
                        "remaining_time": 24.01380871
                      },
                      {
                        "learn": [
                          0.0000309307909
                        ],
                        "iteration": 345,
                        "passed_time": 12.73129446,
                        "remaining_time": 24.06435426
                      },
                      {
                        "learn": [
                          0.0000309307909
                        ],
                        "iteration": 346,
                        "passed_time": 12.80306952,
                        "remaining_time": 24.09338443
                      },
                      {
                        "learn": [
                          0.0000309307909
                        ],
                        "iteration": 347,
                        "passed_time": 12.87952706,
                        "remaining_time": 24.13060818
                      },
                      {
                        "learn": [
                          0.0000309307909
                        ],
                        "iteration": 348,
                        "passed_time": 12.91608251,
                        "remaining_time": 24.0927499
                      },
                      {
                        "learn": [
                          0.0000309307909
                        ],
                        "iteration": 349,
                        "passed_time": 12.94676512,
                        "remaining_time": 24.04399236
                      },
                      {
                        "learn": [
                          0.0000309307909
                        ],
                        "iteration": 350,
                        "passed_time": 13.00608105,
                        "remaining_time": 24.04828091
                      },
                      {
                        "learn": [
                          0.0000309307909
                        ],
                        "iteration": 351,
                        "passed_time": 13.06148909,
                        "remaining_time": 24.04501401
                      },
                      {
                        "learn": [
                          0.0000309307909
                        ],
                        "iteration": 352,
                        "passed_time": 13.09703664,
                        "remaining_time": 24.00505016
                      },
                      {
                        "learn": [
                          0.0000309307909
                        ],
                        "iteration": 353,
                        "passed_time": 13.13523955,
                        "remaining_time": 23.96995691
                      },
                      {
                        "learn": [
                          0.0000309307909
                        ],
                        "iteration": 354,
                        "passed_time": 13.16810423,
                        "remaining_time": 23.92514713
                      },
                      {
                        "learn": [
                          0.0000309307909
                        ],
                        "iteration": 355,
                        "passed_time": 13.23598509,
                        "remaining_time": 23.9437483
                      },
                      {
                        "learn": [
                          0.0000309307909
                        ],
                        "iteration": 356,
                        "passed_time": 13.32935347,
                        "remaining_time": 24.0077711
                      },
                      {
                        "learn": [
                          0.0000309307909
                        ],
                        "iteration": 357,
                        "passed_time": 13.3971379,
                        "remaining_time": 24.02503501
                      },
                      {
                        "learn": [
                          0.0000309307909
                        ],
                        "iteration": 358,
                        "passed_time": 13.4556069,
                        "remaining_time": 24.02519226
                      },
                      {
                        "learn": [
                          0.0000309307909
                        ],
                        "iteration": 359,
                        "passed_time": 13.49538771,
                        "remaining_time": 23.99180037
                      },
                      {
                        "learn": [
                          0.0000309307909
                        ],
                        "iteration": 360,
                        "passed_time": 13.55001578,
                        "remaining_time": 23.98465397
                      },
                      {
                        "learn": [
                          0.0000309307909
                        ],
                        "iteration": 361,
                        "passed_time": 13.61168384,
                        "remaining_time": 23.98965273
                      },
                      {
                        "learn": [
                          0.0000309307909
                        ],
                        "iteration": 362,
                        "passed_time": 13.67846698,
                        "remaining_time": 24.00326025
                      },
                      {
                        "learn": [
                          0.0000309307909
                        ],
                        "iteration": 363,
                        "passed_time": 13.73436189,
                        "remaining_time": 23.99740154
                      },
                      {
                        "learn": [
                          0.0000309307909
                        ],
                        "iteration": 364,
                        "passed_time": 13.8362176,
                        "remaining_time": 24.07122788
                      },
                      {
                        "learn": [
                          0.0000309307909
                        ],
                        "iteration": 365,
                        "passed_time": 13.89070403,
                        "remaining_time": 24.06203922
                      },
                      {
                        "learn": [
                          0.0000309307909
                        ],
                        "iteration": 366,
                        "passed_time": 13.92949989,
                        "remaining_time": 24.02554068
                      },
                      {
                        "learn": [
                          0.0000309307909
                        ],
                        "iteration": 367,
                        "passed_time": 13.97685642,
                        "remaining_time": 24.00373167
                      },
                      {
                        "learn": [
                          0.0000309307909
                        ],
                        "iteration": 368,
                        "passed_time": 14.0365807,
                        "remaining_time": 24.0029334
                      },
                      {
                        "learn": [
                          0.0000309307909
                        ],
                        "iteration": 369,
                        "passed_time": 14.09088642,
                        "remaining_time": 23.9925904
                      },
                      {
                        "learn": [
                          0.0000309307909
                        ],
                        "iteration": 370,
                        "passed_time": 14.14766648,
                        "remaining_time": 23.98620543
                      },
                      {
                        "learn": [
                          0.0000309307909
                        ],
                        "iteration": 371,
                        "passed_time": 14.20748869,
                        "remaining_time": 23.9846852
                      },
                      {
                        "learn": [
                          0.0000309307909
                        ],
                        "iteration": 372,
                        "passed_time": 14.27548688,
                        "remaining_time": 23.9965959
                      },
                      {
                        "learn": [
                          0.0000309307909
                        ],
                        "iteration": 373,
                        "passed_time": 14.36410504,
                        "remaining_time": 24.04259293
                      },
                      {
                        "learn": [
                          0.0000309307909
                        ],
                        "iteration": 374,
                        "passed_time": 14.42359677,
                        "remaining_time": 24.03932795
                      },
                      {
                        "learn": [
                          0.0000309307909
                        ],
                        "iteration": 375,
                        "passed_time": 14.4927179,
                        "remaining_time": 24.0517446
                      },
                      {
                        "learn": [
                          0.0000309307909
                        ],
                        "iteration": 376,
                        "passed_time": 14.53223079,
                        "remaining_time": 24.01480049
                      },
                      {
                        "learn": [
                          0.0000309307909
                        ],
                        "iteration": 377,
                        "passed_time": 14.599177,
                        "remaining_time": 24.02298438
                      },
                      {
                        "learn": [
                          0.0000309307909
                        ],
                        "iteration": 378,
                        "passed_time": 14.66544495,
                        "remaining_time": 24.02966047
                      },
                      {
                        "learn": [
                          0.0000309307909
                        ],
                        "iteration": 379,
                        "passed_time": 14.69675325,
                        "remaining_time": 23.9789132
                      },
                      {
                        "learn": [
                          0.0000309307909
                        ],
                        "iteration": 380,
                        "passed_time": 14.81216537,
                        "remaining_time": 24.0649091
                      },
                      {
                        "learn": [
                          0.0000309307909
                        ],
                        "iteration": 381,
                        "passed_time": 14.89661961,
                        "remaining_time": 24.09976681
                      },
                      {
                        "learn": [
                          0.0000309307909
                        ],
                        "iteration": 382,
                        "passed_time": 14.97988254,
                        "remaining_time": 24.13208231
                      },
                      {
                        "learn": [
                          0.0000309307909
                        ],
                        "iteration": 383,
                        "passed_time": 15.04900617,
                        "remaining_time": 24.14111406
                      },
                      {
                        "learn": [
                          0.0000309307909
                        ],
                        "iteration": 384,
                        "passed_time": 15.12084981,
                        "remaining_time": 24.15408476
                      },
                      {
                        "learn": [
                          0.0000309307909
                        ],
                        "iteration": 385,
                        "passed_time": 15.19639668,
                        "remaining_time": 24.17250664
                      },
                      {
                        "learn": [
                          0.0000309307909
                        ],
                        "iteration": 386,
                        "passed_time": 15.2723245,
                        "remaining_time": 24.19104631
                      },
                      {
                        "learn": [
                          0.0000309307909
                        ],
                        "iteration": 387,
                        "passed_time": 15.37420702,
                        "remaining_time": 24.25003788
                      },
                      {
                        "learn": [
                          0.0000309307909
                        ],
                        "iteration": 388,
                        "passed_time": 15.46367009,
                        "remaining_time": 24.28869517
                      },
                      {
                        "learn": [
                          0.0000309307909
                        ],
                        "iteration": 389,
                        "passed_time": 15.53211407,
                        "remaining_time": 24.29381945
                      },
                      {
                        "learn": [
                          0.0000309307909
                        ],
                        "iteration": 390,
                        "passed_time": 15.59678053,
                        "remaining_time": 24.29268374
                      },
                      {
                        "learn": [
                          0.0000309307909
                        ],
                        "iteration": 391,
                        "passed_time": 15.67443476,
                        "remaining_time": 24.3113682
                      },
                      {
                        "learn": [
                          0.0000309307909
                        ],
                        "iteration": 392,
                        "passed_time": 15.75080435,
                        "remaining_time": 24.32757823
                      },
                      {
                        "learn": [
                          0.0000309307909
                        ],
                        "iteration": 393,
                        "passed_time": 15.83796952,
                        "remaining_time": 24.35992266
                      },
                      {
                        "learn": [
                          0.0000309307909
                        ],
                        "iteration": 394,
                        "passed_time": 15.90948479,
                        "remaining_time": 24.36769189
                      },
                      {
                        "learn": [
                          0.0000309307909
                        ],
                        "iteration": 395,
                        "passed_time": 15.97033719,
                        "remaining_time": 24.35879713
                      },
                      {
                        "learn": [
                          0.0000309307909
                        ],
                        "iteration": 396,
                        "passed_time": 16.03802644,
                        "remaining_time": 24.36002505
                      },
                      {
                        "learn": [
                          0.0000309307909
                        ],
                        "iteration": 397,
                        "passed_time": 16.09978496,
                        "remaining_time": 24.35193605
                      },
                      {
                        "learn": [
                          0.0000309307909
                        ],
                        "iteration": 398,
                        "passed_time": 16.15694882,
                        "remaining_time": 24.33665724
                      },
                      {
                        "learn": [
                          0.0000309307909
                        ],
                        "iteration": 399,
                        "passed_time": 16.21615591,
                        "remaining_time": 24.32423386
                      },
                      {
                        "learn": [
                          0.0000309307909
                        ],
                        "iteration": 400,
                        "passed_time": 16.27634819,
                        "remaining_time": 24.3130488
                      },
                      {
                        "learn": [
                          0.0000309307909
                        ],
                        "iteration": 401,
                        "passed_time": 16.31106105,
                        "remaining_time": 24.26371768
                      },
                      {
                        "learn": [
                          0.0000309307909
                        ],
                        "iteration": 402,
                        "passed_time": 16.34429402,
                        "remaining_time": 24.21226682
                      },
                      {
                        "learn": [
                          0.0000309307909
                        ],
                        "iteration": 403,
                        "passed_time": 16.41200493,
                        "remaining_time": 24.21176965
                      },
                      {
                        "learn": [
                          0.0000309307909
                        ],
                        "iteration": 404,
                        "passed_time": 16.47199407,
                        "remaining_time": 24.19959623
                      },
                      {
                        "learn": [
                          0.0000309307909
                        ],
                        "iteration": 405,
                        "passed_time": 16.5340181,
                        "remaining_time": 24.19016441
                      },
                      {
                        "learn": [
                          0.0000309307909
                        ],
                        "iteration": 406,
                        "passed_time": 16.6289265,
                        "remaining_time": 24.22838677
                      },
                      {
                        "learn": [
                          0.0000309307909
                        ],
                        "iteration": 407,
                        "passed_time": 16.72283427,
                        "remaining_time": 24.26450463
                      },
                      {
                        "learn": [
                          0.0000309307909
                        ],
                        "iteration": 408,
                        "passed_time": 16.77462844,
                        "remaining_time": 24.23913302
                      },
                      {
                        "learn": [
                          0.0000309307909
                        ],
                        "iteration": 409,
                        "passed_time": 16.87606358,
                        "remaining_time": 24.2850671
                      },
                      {
                        "learn": [
                          0.0000309307909
                        ],
                        "iteration": 410,
                        "passed_time": 17.02489984,
                        "remaining_time": 24.39821412
                      },
                      {
                        "learn": [
                          0.0000309307909
                        ],
                        "iteration": 411,
                        "passed_time": 17.13986659,
                        "remaining_time": 24.46175134
                      },
                      {
                        "learn": [
                          0.0000309307909
                        ],
                        "iteration": 412,
                        "passed_time": 17.25353459,
                        "remaining_time": 24.52257821
                      },
                      {
                        "learn": [
                          0.0000309307909
                        ],
                        "iteration": 413,
                        "passed_time": 17.3501241,
                        "remaining_time": 24.55838822
                      },
                      {
                        "learn": [
                          0.0000309307909
                        ],
                        "iteration": 414,
                        "passed_time": 17.51238109,
                        "remaining_time": 24.68612756
                      },
                      {
                        "learn": [
                          0.0000309307909
                        ],
                        "iteration": 415,
                        "passed_time": 17.56804323,
                        "remaining_time": 24.66282992
                      },
                      {
                        "learn": [
                          0.0000309307909
                        ],
                        "iteration": 416,
                        "passed_time": 17.64447841,
                        "remaining_time": 24.66841946
                      },
                      {
                        "learn": [
                          0.0000309307909
                        ],
                        "iteration": 417,
                        "passed_time": 17.72823532,
                        "remaining_time": 24.68381091
                      },
                      {
                        "learn": [
                          0.0000309307909
                        ],
                        "iteration": 418,
                        "passed_time": 17.8278722,
                        "remaining_time": 24.7207488
                      },
                      {
                        "learn": [
                          0.0000309307909
                        ],
                        "iteration": 419,
                        "passed_time": 17.93088734,
                        "remaining_time": 24.76170156
                      },
                      {
                        "learn": [
                          0.0000309307909
                        ],
                        "iteration": 420,
                        "passed_time": 18.01565951,
                        "remaining_time": 24.77688089
                      },
                      {
                        "learn": [
                          0.0000309307909
                        ],
                        "iteration": 421,
                        "passed_time": 18.08209074,
                        "remaining_time": 24.76646551
                      },
                      {
                        "learn": [
                          0.0000309307909
                        ],
                        "iteration": 422,
                        "passed_time": 18.13880852,
                        "remaining_time": 24.74253549
                      },
                      {
                        "learn": [
                          0.0000309307909
                        ],
                        "iteration": 423,
                        "passed_time": 18.20139332,
                        "remaining_time": 24.72642111
                      },
                      {
                        "learn": [
                          0.0000309307909
                        ],
                        "iteration": 424,
                        "passed_time": 18.27651986,
                        "remaining_time": 24.72705628
                      },
                      {
                        "learn": [
                          0.0000309307909
                        ],
                        "iteration": 425,
                        "passed_time": 18.33745922,
                        "remaining_time": 24.7082197
                      },
                      {
                        "learn": [
                          0.0000309307909
                        ],
                        "iteration": 426,
                        "passed_time": 18.4033914,
                        "remaining_time": 24.69588588
                      },
                      {
                        "learn": [
                          0.0000309307909
                        ],
                        "iteration": 427,
                        "passed_time": 18.46321045,
                        "remaining_time": 24.67513173
                      },
                      {
                        "learn": [
                          0.0000309307909
                        ],
                        "iteration": 428,
                        "passed_time": 18.55412344,
                        "remaining_time": 24.69558154
                      },
                      {
                        "learn": [
                          0.0000309307909
                        ],
                        "iteration": 429,
                        "passed_time": 18.63148006,
                        "remaining_time": 24.69754333
                      },
                      {
                        "learn": [
                          0.0000309307909
                        ],
                        "iteration": 430,
                        "passed_time": 18.69274643,
                        "remaining_time": 24.67789494
                      },
                      {
                        "learn": [
                          0.0000309307909
                        ],
                        "iteration": 431,
                        "passed_time": 18.75480247,
                        "remaining_time": 24.65909213
                      },
                      {
                        "learn": [
                          0.0000309307909
                        ],
                        "iteration": 432,
                        "passed_time": 18.81989132,
                        "remaining_time": 24.64406092
                      },
                      {
                        "learn": [
                          0.0000309307909
                        ],
                        "iteration": 433,
                        "passed_time": 18.88426825,
                        "remaining_time": 24.62787058
                      },
                      {
                        "learn": [
                          0.0000309307909
                        ],
                        "iteration": 434,
                        "passed_time": 18.93226038,
                        "remaining_time": 24.59017728
                      },
                      {
                        "learn": [
                          0.0000309307909
                        ],
                        "iteration": 435,
                        "passed_time": 18.96318789,
                        "remaining_time": 24.53036231
                      },
                      {
                        "learn": [
                          0.0000309307909
                        ],
                        "iteration": 436,
                        "passed_time": 18.99503218,
                        "remaining_time": 24.47186069
                      },
                      {
                        "learn": [
                          0.0000309307909
                        ],
                        "iteration": 437,
                        "passed_time": 19.05779008,
                        "remaining_time": 24.45314618
                      },
                      {
                        "learn": [
                          0.0000309307909
                        ],
                        "iteration": 438,
                        "passed_time": 19.13229957,
                        "remaining_time": 24.44924843
                      },
                      {
                        "learn": [
                          0.0000309307909
                        ],
                        "iteration": 439,
                        "passed_time": 19.23003718,
                        "remaining_time": 24.47459278
                      },
                      {
                        "learn": [
                          0.0000309307909
                        ],
                        "iteration": 440,
                        "passed_time": 19.29947662,
                        "remaining_time": 24.46350891
                      },
                      {
                        "learn": [
                          0.0000309307909
                        ],
                        "iteration": 441,
                        "passed_time": 19.35067544,
                        "remaining_time": 24.42913324
                      },
                      {
                        "learn": [
                          0.0000309307909
                        ],
                        "iteration": 442,
                        "passed_time": 19.4102854,
                        "remaining_time": 24.40525727
                      },
                      {
                        "learn": [
                          0.0000309307909
                        ],
                        "iteration": 443,
                        "passed_time": 19.45382901,
                        "remaining_time": 24.3611012
                      },
                      {
                        "learn": [
                          0.0000309307909
                        ],
                        "iteration": 444,
                        "passed_time": 19.49618177,
                        "remaining_time": 24.31546266
                      },
                      {
                        "learn": [
                          0.0000309307909
                        ],
                        "iteration": 445,
                        "passed_time": 19.55464298,
                        "remaining_time": 24.28984801
                      },
                      {
                        "learn": [
                          0.0000309307909
                        ],
                        "iteration": 446,
                        "passed_time": 19.62325019,
                        "remaining_time": 24.27663838
                      },
                      {
                        "learn": [
                          0.0000309307909
                        ],
                        "iteration": 447,
                        "passed_time": 19.70115904,
                        "remaining_time": 24.27464239
                      },
                      {
                        "learn": [
                          0.0000309307909
                        ],
                        "iteration": 448,
                        "passed_time": 19.74300757,
                        "remaining_time": 24.22805606
                      },
                      {
                        "learn": [
                          0.0000309307909
                        ],
                        "iteration": 449,
                        "passed_time": 19.81692132,
                        "remaining_time": 24.22068161
                      },
                      {
                        "learn": [
                          0.0000309307909
                        ],
                        "iteration": 450,
                        "passed_time": 19.87828194,
                        "remaining_time": 24.19773123
                      },
                      {
                        "learn": [
                          0.0000309307909
                        ],
                        "iteration": 451,
                        "passed_time": 19.94977487,
                        "remaining_time": 24.1868952
                      },
                      {
                        "learn": [
                          0.0000309307909
                        ],
                        "iteration": 452,
                        "passed_time": 20.01134248,
                        "remaining_time": 24.16380648
                      },
                      {
                        "learn": [
                          0.0000309307909
                        ],
                        "iteration": 453,
                        "passed_time": 20.0635342,
                        "remaining_time": 24.1292724
                      },
                      {
                        "learn": [
                          0.0000309307909
                        ],
                        "iteration": 454,
                        "passed_time": 20.14078771,
                        "remaining_time": 24.12467978
                      },
                      {
                        "learn": [
                          0.0000309307909
                        ],
                        "iteration": 455,
                        "passed_time": 20.22706525,
                        "remaining_time": 24.13053399
                      },
                      {
                        "learn": [
                          0.0000309307909
                        ],
                        "iteration": 456,
                        "passed_time": 20.3018862,
                        "remaining_time": 24.12237244
                      },
                      {
                        "learn": [
                          0.0000309307909
                        ],
                        "iteration": 457,
                        "passed_time": 20.36103708,
                        "remaining_time": 24.09537576
                      },
                      {
                        "learn": [
                          0.0000309307909
                        ],
                        "iteration": 458,
                        "passed_time": 20.41809383,
                        "remaining_time": 24.06577072
                      },
                      {
                        "learn": [
                          0.0000309307909
                        ],
                        "iteration": 459,
                        "passed_time": 20.49797752,
                        "remaining_time": 24.06284317
                      },
                      {
                        "learn": [
                          0.0000309307909
                        ],
                        "iteration": 460,
                        "passed_time": 20.58993191,
                        "remaining_time": 24.07369479
                      },
                      {
                        "learn": [
                          0.0000309307909
                        ],
                        "iteration": 461,
                        "passed_time": 20.70347579,
                        "remaining_time": 24.10924236
                      },
                      {
                        "learn": [
                          0.0000309307909
                        ],
                        "iteration": 462,
                        "passed_time": 20.8393749,
                        "remaining_time": 24.17007413
                      },
                      {
                        "learn": [
                          0.0000309307909
                        ],
                        "iteration": 463,
                        "passed_time": 20.88850459,
                        "remaining_time": 24.12982427
                      },
                      {
                        "learn": [
                          0.0000309307909
                        ],
                        "iteration": 464,
                        "passed_time": 20.91705058,
                        "remaining_time": 24.0658539
                      },
                      {
                        "learn": [
                          0.0000309307909
                        ],
                        "iteration": 465,
                        "passed_time": 20.97751821,
                        "remaining_time": 24.03861529
                      },
                      {
                        "learn": [
                          0.0000309307909
                        ],
                        "iteration": 466,
                        "passed_time": 21.01418594,
                        "remaining_time": 23.98407089
                      },
                      {
                        "learn": [
                          0.0000309307909
                        ],
                        "iteration": 467,
                        "passed_time": 21.05246452,
                        "remaining_time": 23.93143403
                      },
                      {
                        "learn": [
                          0.0000309307909
                        ],
                        "iteration": 468,
                        "passed_time": 21.09137813,
                        "remaining_time": 23.87957738
                      },
                      {
                        "learn": [
                          0.0000309307909
                        ],
                        "iteration": 469,
                        "passed_time": 21.15091889,
                        "remaining_time": 23.85103619
                      },
                      {
                        "learn": [
                          0.0000309307909
                        ],
                        "iteration": 470,
                        "passed_time": 21.21540217,
                        "remaining_time": 23.82791454
                      },
                      {
                        "learn": [
                          0.0000309307909
                        ],
                        "iteration": 471,
                        "passed_time": 21.28276075,
                        "remaining_time": 23.80783406
                      },
                      {
                        "learn": [
                          0.0000309307909
                        ],
                        "iteration": 472,
                        "passed_time": 21.35222333,
                        "remaining_time": 23.78989787
                      },
                      {
                        "learn": [
                          0.0000309307909
                        ],
                        "iteration": 473,
                        "passed_time": 21.4106296,
                        "remaining_time": 23.75947504
                      },
                      {
                        "learn": [
                          0.0000309307909
                        ],
                        "iteration": 474,
                        "passed_time": 21.47229409,
                        "remaining_time": 23.73253558
                      },
                      {
                        "learn": [
                          0.0000309307909
                        ],
                        "iteration": 475,
                        "passed_time": 21.50443703,
                        "remaining_time": 23.67295169
                      },
                      {
                        "learn": [
                          0.0000309307909
                        ],
                        "iteration": 476,
                        "passed_time": 21.54219604,
                        "remaining_time": 23.61964052
                      },
                      {
                        "learn": [
                          0.0000309307909
                        ],
                        "iteration": 477,
                        "passed_time": 21.5775359,
                        "remaining_time": 23.56375259
                      },
                      {
                        "learn": [
                          0.0000309307909
                        ],
                        "iteration": 478,
                        "passed_time": 21.69328189,
                        "remaining_time": 23.59540681
                      },
                      {
                        "learn": [
                          0.0000309307909
                        ],
                        "iteration": 479,
                        "passed_time": 21.81154246,
                        "remaining_time": 23.629171
                      },
                      {
                        "learn": [
                          0.0000309307909
                        ],
                        "iteration": 480,
                        "passed_time": 21.8703488,
                        "remaining_time": 23.59815182
                      },
                      {
                        "learn": [
                          0.0000309307909
                        ],
                        "iteration": 481,
                        "passed_time": 21.93030782,
                        "remaining_time": 23.56825613
                      },
                      {
                        "learn": [
                          0.0000309307909
                        ],
                        "iteration": 482,
                        "passed_time": 22.0100508,
                        "remaining_time": 23.55941255
                      },
                      {
                        "learn": [
                          0.0000309307909
                        ],
                        "iteration": 483,
                        "passed_time": 22.06656329,
                        "remaining_time": 23.52550962
                      },
                      {
                        "learn": [
                          0.0000309307909
                        ],
                        "iteration": 484,
                        "passed_time": 22.11641659,
                        "remaining_time": 23.48444236
                      },
                      {
                        "learn": [
                          0.0000309307909
                        ],
                        "iteration": 485,
                        "passed_time": 22.18122819,
                        "remaining_time": 23.45915903
                      },
                      {
                        "learn": [
                          0.0000309307909
                        ],
                        "iteration": 486,
                        "passed_time": 22.23764309,
                        "remaining_time": 23.42486839
                      },
                      {
                        "learn": [
                          0.0000309307909
                        ],
                        "iteration": 487,
                        "passed_time": 22.32271969,
                        "remaining_time": 23.42055836
                      },
                      {
                        "learn": [
                          0.0000309307909
                        ],
                        "iteration": 488,
                        "passed_time": 22.42118709,
                        "remaining_time": 23.42991126
                      },
                      {
                        "learn": [
                          0.0000309307909
                        ],
                        "iteration": 489,
                        "passed_time": 22.50613998,
                        "remaining_time": 23.42475794
                      },
                      {
                        "learn": [
                          0.0000309307909
                        ],
                        "iteration": 490,
                        "passed_time": 22.6134202,
                        "remaining_time": 23.44242542
                      },
                      {
                        "learn": [
                          0.0000309307909
                        ],
                        "iteration": 491,
                        "passed_time": 22.66398105,
                        "remaining_time": 23.40102108
                      },
                      {
                        "learn": [
                          0.0000309307909
                        ],
                        "iteration": 492,
                        "passed_time": 22.73160495,
                        "remaining_time": 23.3771272
                      },
                      {
                        "learn": [
                          0.0000309307909
                        ],
                        "iteration": 493,
                        "passed_time": 22.78610132,
                        "remaining_time": 23.33960985
                      },
                      {
                        "learn": [
                          0.0000309307909
                        ],
                        "iteration": 494,
                        "passed_time": 22.85516519,
                        "remaining_time": 23.3168857
                      },
                      {
                        "learn": [
                          0.0000309307909
                        ],
                        "iteration": 495,
                        "passed_time": 22.88349015,
                        "remaining_time": 23.2525787
                      },
                      {
                        "learn": [
                          0.0000309307909
                        ],
                        "iteration": 496,
                        "passed_time": 22.92607429,
                        "remaining_time": 23.20284782
                      },
                      {
                        "learn": [
                          0.0000309307909
                        ],
                        "iteration": 497,
                        "passed_time": 23.0093916,
                        "remaining_time": 23.19420599
                      },
                      {
                        "learn": [
                          0.0000309307909
                        ],
                        "iteration": 498,
                        "passed_time": 23.06640536,
                        "remaining_time": 23.15885588
                      },
                      {
                        "learn": [
                          0.0000309307909
                        ],
                        "iteration": 499,
                        "passed_time": 23.12944436,
                        "remaining_time": 23.12944436
                      },
                      {
                        "learn": [
                          0.0000309307909
                        ],
                        "iteration": 500,
                        "passed_time": 23.1908037,
                        "remaining_time": 23.09822564
                      },
                      {
                        "learn": [
                          0.0000309307909
                        ],
                        "iteration": 501,
                        "passed_time": 23.25212019,
                        "remaining_time": 23.06684433
                      },
                      {
                        "learn": [
                          0.0000309307909
                        ],
                        "iteration": 502,
                        "passed_time": 23.31712665,
                        "remaining_time": 23.03898995
                      },
                      {
                        "learn": [
                          0.0000309307909
                        ],
                        "iteration": 503,
                        "passed_time": 23.37891979,
                        "remaining_time": 23.00782582
                      },
                      {
                        "learn": [
                          0.0000309307909
                        ],
                        "iteration": 504,
                        "passed_time": 23.44580612,
                        "remaining_time": 22.98153274
                      },
                      {
                        "learn": [
                          0.0000309307909
                        ],
                        "iteration": 505,
                        "passed_time": 23.50468854,
                        "remaining_time": 22.94726509
                      },
                      {
                        "learn": [
                          0.0000309307909
                        ],
                        "iteration": 506,
                        "passed_time": 23.5638806,
                        "remaining_time": 22.91320145
                      },
                      {
                        "learn": [
                          0.0000309307909
                        ],
                        "iteration": 507,
                        "passed_time": 23.61985009,
                        "remaining_time": 22.8759178
                      },
                      {
                        "learn": [
                          0.0000309307909
                        ],
                        "iteration": 508,
                        "passed_time": 23.69079003,
                        "remaining_time": 22.85300177
                      },
                      {
                        "learn": [
                          0.0000309307909
                        ],
                        "iteration": 509,
                        "passed_time": 23.75789653,
                        "remaining_time": 22.82621431
                      },
                      {
                        "learn": [
                          0.0000309307909
                        ],
                        "iteration": 510,
                        "passed_time": 23.83391638,
                        "remaining_time": 22.80779865
                      },
                      {
                        "learn": [
                          0.0000309307909
                        ],
                        "iteration": 511,
                        "passed_time": 23.97492941,
                        "remaining_time": 22.85110459
                      },
                      {
                        "learn": [
                          0.0000309307909
                        ],
                        "iteration": 512,
                        "passed_time": 24.03741642,
                        "remaining_time": 22.8191458
                      },
                      {
                        "learn": [
                          0.0000309307909
                        ],
                        "iteration": 513,
                        "passed_time": 24.07017032,
                        "remaining_time": 22.75895482
                      },
                      {
                        "learn": [
                          0.0000309307909
                        ],
                        "iteration": 514,
                        "passed_time": 24.10919513,
                        "remaining_time": 22.704776
                      },
                      {
                        "learn": [
                          0.0000309307909
                        ],
                        "iteration": 515,
                        "passed_time": 24.16409361,
                        "remaining_time": 22.66554516
                      },
                      {
                        "learn": [
                          0.0000309307909
                        ],
                        "iteration": 516,
                        "passed_time": 24.21930494,
                        "remaining_time": 22.62654601
                      },
                      {
                        "learn": [
                          0.0000309307909
                        ],
                        "iteration": 517,
                        "passed_time": 24.28078606,
                        "remaining_time": 22.59331831
                      },
                      {
                        "learn": [
                          0.0000309307909
                        ],
                        "iteration": 518,
                        "passed_time": 24.34595674,
                        "remaining_time": 22.56340114
                      },
                      {
                        "learn": [
                          0.0000309307909
                        ],
                        "iteration": 519,
                        "passed_time": 24.41449463,
                        "remaining_time": 22.53645658
                      },
                      {
                        "learn": [
                          0.0000309307909
                        ],
                        "iteration": 520,
                        "passed_time": 24.47544341,
                        "remaining_time": 22.50237503
                      },
                      {
                        "learn": [
                          0.0000309307909
                        ],
                        "iteration": 521,
                        "passed_time": 24.53676767,
                        "remaining_time": 22.46853438
                      },
                      {
                        "learn": [
                          0.0000309307909
                        ],
                        "iteration": 522,
                        "passed_time": 24.60232624,
                        "remaining_time": 22.43845051
                      },
                      {
                        "learn": [
                          0.0000309307909
                        ],
                        "iteration": 523,
                        "passed_time": 24.66214078,
                        "remaining_time": 22.40301338
                      },
                      {
                        "learn": [
                          0.0000309307909
                        ],
                        "iteration": 524,
                        "passed_time": 24.72081597,
                        "remaining_time": 22.36645254
                      },
                      {
                        "learn": [
                          0.0000309307909
                        ],
                        "iteration": 525,
                        "passed_time": 24.79373171,
                        "remaining_time": 22.34264036
                      },
                      {
                        "learn": [
                          0.0000309307909
                        ],
                        "iteration": 526,
                        "passed_time": 24.8505858,
                        "remaining_time": 22.30422596
                      },
                      {
                        "learn": [
                          0.0000309307909
                        ],
                        "iteration": 527,
                        "passed_time": 24.90467945,
                        "remaining_time": 22.26327405
                      },
                      {
                        "learn": [
                          0.0000309307909
                        ],
                        "iteration": 528,
                        "passed_time": 24.98328646,
                        "remaining_time": 22.24409815
                      },
                      {
                        "learn": [
                          0.0000309307909
                        ],
                        "iteration": 529,
                        "passed_time": 25.04650968,
                        "remaining_time": 22.21105575
                      },
                      {
                        "learn": [
                          0.0000309307909
                        ],
                        "iteration": 530,
                        "passed_time": 25.10006888,
                        "remaining_time": 22.16936404
                      },
                      {
                        "learn": [
                          0.0000309307909
                        ],
                        "iteration": 531,
                        "passed_time": 25.15844648,
                        "remaining_time": 22.13186645
                      },
                      {
                        "learn": [
                          0.0000309307909
                        ],
                        "iteration": 532,
                        "passed_time": 25.21288906,
                        "remaining_time": 22.09084276
                      },
                      {
                        "learn": [
                          0.0000309307909
                        ],
                        "iteration": 533,
                        "passed_time": 25.27430096,
                        "remaining_time": 22.05585065
                      },
                      {
                        "learn": [
                          0.0000309307909
                        ],
                        "iteration": 534,
                        "passed_time": 25.32833453,
                        "remaining_time": 22.01434684
                      },
                      {
                        "learn": [
                          0.0000309307909
                        ],
                        "iteration": 535,
                        "passed_time": 25.40205673,
                        "remaining_time": 21.98984015
                      },
                      {
                        "learn": [
                          0.0000309307909
                        ],
                        "iteration": 536,
                        "passed_time": 25.46096714,
                        "remaining_time": 21.95237949
                      },
                      {
                        "learn": [
                          0.0000309307909
                        ],
                        "iteration": 537,
                        "passed_time": 25.5196542,
                        "remaining_time": 21.91464729
                      },
                      {
                        "learn": [
                          0.0000309307909
                        ],
                        "iteration": 538,
                        "passed_time": 25.5809515,
                        "remaining_time": 21.87906983
                      },
                      {
                        "learn": [
                          0.0000309307909
                        ],
                        "iteration": 539,
                        "passed_time": 25.64665474,
                        "remaining_time": 21.84715033
                      },
                      {
                        "learn": [
                          0.0000309307909
                        ],
                        "iteration": 540,
                        "passed_time": 25.71269969,
                        "remaining_time": 21.81539586
                      },
                      {
                        "learn": [
                          0.0000309307909
                        ],
                        "iteration": 541,
                        "passed_time": 25.80210212,
                        "remaining_time": 21.80325234
                      },
                      {
                        "learn": [
                          0.0000309307909
                        ],
                        "iteration": 542,
                        "passed_time": 25.8893548,
                        "remaining_time": 21.78901499
                      },
                      {
                        "learn": [
                          0.0000309307909
                        ],
                        "iteration": 543,
                        "passed_time": 25.95717551,
                        "remaining_time": 21.75822065
                      },
                      {
                        "learn": [
                          0.0000309307909
                        ],
                        "iteration": 544,
                        "passed_time": 26.02685895,
                        "remaining_time": 21.72884555
                      },
                      {
                        "learn": [
                          0.0000309307909
                        ],
                        "iteration": 545,
                        "passed_time": 26.11665886,
                        "remaining_time": 21.71604967
                      },
                      {
                        "learn": [
                          0.0000309307909
                        ],
                        "iteration": 546,
                        "passed_time": 26.17710304,
                        "remaining_time": 21.6786612
                      },
                      {
                        "learn": [
                          0.0000309307909
                        ],
                        "iteration": 547,
                        "passed_time": 26.23497234,
                        "remaining_time": 21.63906478
                      },
                      {
                        "learn": [
                          0.0000309307909
                        ],
                        "iteration": 548,
                        "passed_time": 26.31133338,
                        "remaining_time": 21.61459263
                      },
                      {
                        "learn": [
                          0.0000309307909
                        ],
                        "iteration": 549,
                        "passed_time": 26.37368401,
                        "remaining_time": 21.57846874
                      },
                      {
                        "learn": [
                          0.0000309307909
                        ],
                        "iteration": 550,
                        "passed_time": 26.44340834,
                        "remaining_time": 21.54825834
                      },
                      {
                        "learn": [
                          0.0000309307909
                        ],
                        "iteration": 551,
                        "passed_time": 26.51964257,
                        "remaining_time": 21.52318817
                      },
                      {
                        "learn": [
                          0.0000309307909
                        ],
                        "iteration": 552,
                        "passed_time": 26.59877409,
                        "remaining_time": 21.50027489
                      },
                      {
                        "learn": [
                          0.0000309307909
                        ],
                        "iteration": 553,
                        "passed_time": 26.66752811,
                        "remaining_time": 21.46880422
                      },
                      {
                        "learn": [
                          0.0000309307909
                        ],
                        "iteration": 554,
                        "passed_time": 26.7182018,
                        "remaining_time": 21.42270234
                      },
                      {
                        "learn": [
                          0.0000309307909
                        ],
                        "iteration": 555,
                        "passed_time": 26.77934188,
                        "remaining_time": 21.38494207
                      },
                      {
                        "learn": [
                          0.0000309307909
                        ],
                        "iteration": 556,
                        "passed_time": 26.80976082,
                        "remaining_time": 21.32266435
                      },
                      {
                        "learn": [
                          0.0000309307909
                        ],
                        "iteration": 557,
                        "passed_time": 26.85954943,
                        "remaining_time": 21.27584381
                      },
                      {
                        "learn": [
                          0.0000309307909
                        ],
                        "iteration": 558,
                        "passed_time": 26.89372118,
                        "remaining_time": 21.21669238
                      },
                      {
                        "learn": [
                          0.0000309307909
                        ],
                        "iteration": 559,
                        "passed_time": 26.93784404,
                        "remaining_time": 21.16544889
                      },
                      {
                        "learn": [
                          0.0000309307909
                        ],
                        "iteration": 560,
                        "passed_time": 26.98700093,
                        "remaining_time": 21.11817007
                      },
                      {
                        "learn": [
                          0.0000309307909
                        ],
                        "iteration": 561,
                        "passed_time": 27.04166766,
                        "remaining_time": 21.07517871
                      },
                      {
                        "learn": [
                          0.0000309307909
                        ],
                        "iteration": 562,
                        "passed_time": 27.12424798,
                        "remaining_time": 21.05381238
                      },
                      {
                        "learn": [
                          0.0000309307909
                        ],
                        "iteration": 563,
                        "passed_time": 27.19537233,
                        "remaining_time": 21.02337293
                      },
                      {
                        "learn": [
                          0.0000309307909
                        ],
                        "iteration": 564,
                        "passed_time": 27.24014324,
                        "remaining_time": 20.97249967
                      },
                      {
                        "learn": [
                          0.0000309307909
                        ],
                        "iteration": 565,
                        "passed_time": 27.28228554,
                        "remaining_time": 20.91963238
                      },
                      {
                        "learn": [
                          0.0000309307909
                        ],
                        "iteration": 566,
                        "passed_time": 27.33608649,
                        "remaining_time": 20.87570626
                      },
                      {
                        "learn": [
                          0.0000309307909
                        ],
                        "iteration": 567,
                        "passed_time": 27.39248287,
                        "remaining_time": 20.83371937
                      },
                      {
                        "learn": [
                          0.0000309307909
                        ],
                        "iteration": 568,
                        "passed_time": 27.45184917,
                        "remaining_time": 20.79393144
                      },
                      {
                        "learn": [
                          0.0000309307909
                        ],
                        "iteration": 569,
                        "passed_time": 27.50346116,
                        "remaining_time": 20.74822509
                      },
                      {
                        "learn": [
                          0.0000309307909
                        ],
                        "iteration": 570,
                        "passed_time": 27.58742109,
                        "remaining_time": 20.72680149
                      },
                      {
                        "learn": [
                          0.0000309307909
                        ],
                        "iteration": 571,
                        "passed_time": 27.63208866,
                        "remaining_time": 20.67575865
                      },
                      {
                        "learn": [
                          0.0000309307909
                        ],
                        "iteration": 572,
                        "passed_time": 27.68906691,
                        "remaining_time": 20.63391199
                      },
                      {
                        "learn": [
                          0.0000309307909
                        ],
                        "iteration": 573,
                        "passed_time": 27.74983936,
                        "remaining_time": 20.59482851
                      },
                      {
                        "learn": [
                          0.0000309307909
                        ],
                        "iteration": 574,
                        "passed_time": 27.8039137,
                        "remaining_time": 20.55071882
                      },
                      {
                        "learn": [
                          0.0000309307909
                        ],
                        "iteration": 575,
                        "passed_time": 27.86723175,
                        "remaining_time": 20.51337893
                      },
                      {
                        "learn": [
                          0.0000309307909
                        ],
                        "iteration": 576,
                        "passed_time": 27.9212627,
                        "remaining_time": 20.46914059
                      },
                      {
                        "learn": [
                          0.0000309307909
                        ],
                        "iteration": 577,
                        "passed_time": 27.97143543,
                        "remaining_time": 20.42205147
                      },
                      {
                        "learn": [
                          0.0000309307909
                        ],
                        "iteration": 578,
                        "passed_time": 28.04286519,
                        "remaining_time": 20.39040802
                      },
                      {
                        "learn": [
                          0.0000309307909
                        ],
                        "iteration": 579,
                        "passed_time": 28.13298332,
                        "remaining_time": 20.37216033
                      },
                      {
                        "learn": [
                          0.0000309307909
                        ],
                        "iteration": 580,
                        "passed_time": 28.20877199,
                        "remaining_time": 20.34333126
                      },
                      {
                        "learn": [
                          0.0000309307909
                        ],
                        "iteration": 581,
                        "passed_time": 28.30199045,
                        "remaining_time": 20.32685912
                      },
                      {
                        "learn": [
                          0.0000309307909
                        ],
                        "iteration": 582,
                        "passed_time": 28.39216296,
                        "remaining_time": 20.30794503
                      },
                      {
                        "learn": [
                          0.0000309307909
                        ],
                        "iteration": 583,
                        "passed_time": 28.47419753,
                        "remaining_time": 20.28299002
                      },
                      {
                        "learn": [
                          0.0000309307909
                        ],
                        "iteration": 584,
                        "passed_time": 28.53496806,
                        "remaining_time": 20.24275512
                      },
                      {
                        "learn": [
                          0.0000309307909
                        ],
                        "iteration": 585,
                        "passed_time": 28.59569153,
                        "remaining_time": 20.20241688
                      },
                      {
                        "learn": [
                          0.0000309307909
                        ],
                        "iteration": 586,
                        "passed_time": 28.68330182,
                        "remaining_time": 20.18092615
                      },
                      {
                        "learn": [
                          0.0000309307909
                        ],
                        "iteration": 587,
                        "passed_time": 28.7550582,
                        "remaining_time": 20.148102
                      },
                      {
                        "learn": [
                          0.0000309307909
                        ],
                        "iteration": 588,
                        "passed_time": 28.82058961,
                        "remaining_time": 20.11080192
                      },
                      {
                        "learn": [
                          0.0000309307909
                        ],
                        "iteration": 589,
                        "passed_time": 28.89521869,
                        "remaining_time": 20.07972824
                      },
                      {
                        "learn": [
                          0.0000309307909
                        ],
                        "iteration": 590,
                        "passed_time": 28.99195573,
                        "remaining_time": 20.06380693
                      },
                      {
                        "learn": [
                          0.0000309307909
                        ],
                        "iteration": 591,
                        "passed_time": 29.04793219,
                        "remaining_time": 20.01952083
                      },
                      {
                        "learn": [
                          0.0000309307909
                        ],
                        "iteration": 592,
                        "passed_time": 29.09215495,
                        "remaining_time": 19.96712827
                      },
                      {
                        "learn": [
                          0.0000309307909
                        ],
                        "iteration": 593,
                        "passed_time": 29.17663279,
                        "remaining_time": 19.94227763
                      },
                      {
                        "learn": [
                          0.0000309307909
                        ],
                        "iteration": 594,
                        "passed_time": 29.2208625,
                        "remaining_time": 19.88983078
                      },
                      {
                        "learn": [
                          0.0000309307909
                        ],
                        "iteration": 595,
                        "passed_time": 29.25627757,
                        "remaining_time": 19.83143648
                      },
                      {
                        "learn": [
                          0.0000309307909
                        ],
                        "iteration": 596,
                        "passed_time": 29.35319906,
                        "remaining_time": 19.81463856
                      },
                      {
                        "learn": [
                          0.0000309307909
                        ],
                        "iteration": 597,
                        "passed_time": 29.42163195,
                        "remaining_time": 19.77842148
                      },
                      {
                        "learn": [
                          0.0000309307909
                        ],
                        "iteration": 598,
                        "passed_time": 29.48042868,
                        "remaining_time": 19.73564591
                      },
                      {
                        "learn": [
                          0.0000309307909
                        ],
                        "iteration": 599,
                        "passed_time": 29.5096041,
                        "remaining_time": 19.6730694
                      },
                      {
                        "learn": [
                          0.0000309307909
                        ],
                        "iteration": 600,
                        "passed_time": 29.57554439,
                        "remaining_time": 19.635012
                      },
                      {
                        "learn": [
                          0.0000309307909
                        ],
                        "iteration": 601,
                        "passed_time": 29.64852914,
                        "remaining_time": 19.60151926
                      },
                      {
                        "learn": [
                          0.0000309307909
                        ],
                        "iteration": 602,
                        "passed_time": 29.71715528,
                        "remaining_time": 19.56502595
                      },
                      {
                        "learn": [
                          0.0000309307909
                        ],
                        "iteration": 603,
                        "passed_time": 29.78175936,
                        "remaining_time": 19.52578925
                      },
                      {
                        "learn": [
                          0.0000309307909
                        ],
                        "iteration": 604,
                        "passed_time": 29.84129668,
                        "remaining_time": 19.48316064
                      },
                      {
                        "learn": [
                          0.0000309307909
                        ],
                        "iteration": 605,
                        "passed_time": 29.91803134,
                        "remaining_time": 19.45165734
                      },
                      {
                        "learn": [
                          0.0000309307909
                        ],
                        "iteration": 606,
                        "passed_time": 30.0031521,
                        "remaining_time": 19.42543455
                      },
                      {
                        "learn": [
                          0.0000309307909
                        ],
                        "iteration": 607,
                        "passed_time": 30.06729969,
                        "remaining_time": 19.38549585
                      },
                      {
                        "learn": [
                          0.0000309307909
                        ],
                        "iteration": 608,
                        "passed_time": 30.14148626,
                        "remaining_time": 19.35192303
                      },
                      {
                        "learn": [
                          0.0000309307909
                        ],
                        "iteration": 609,
                        "passed_time": 30.22102427,
                        "remaining_time": 19.32163847
                      },
                      {
                        "learn": [
                          0.0000309307909
                        ],
                        "iteration": 610,
                        "passed_time": 30.30193164,
                        "remaining_time": 19.2920645
                      },
                      {
                        "learn": [
                          0.0000309307909
                        ],
                        "iteration": 611,
                        "passed_time": 30.38340097,
                        "remaining_time": 19.26267904
                      },
                      {
                        "learn": [
                          0.0000309307909
                        ],
                        "iteration": 612,
                        "passed_time": 30.4836183,
                        "remaining_time": 19.24495968
                      },
                      {
                        "learn": [
                          0.0000309307909
                        ],
                        "iteration": 613,
                        "passed_time": 30.54434831,
                        "remaining_time": 19.20214731
                      },
                      {
                        "learn": [
                          0.0000309307909
                        ],
                        "iteration": 614,
                        "passed_time": 30.6056114,
                        "remaining_time": 19.15961039
                      },
                      {
                        "learn": [
                          0.0000309307909
                        ],
                        "iteration": 615,
                        "passed_time": 30.66389157,
                        "remaining_time": 19.11515318
                      },
                      {
                        "learn": [
                          0.0000309307909
                        ],
                        "iteration": 616,
                        "passed_time": 30.71340775,
                        "remaining_time": 19.06521097
                      },
                      {
                        "learn": [
                          0.0000309307909
                        ],
                        "iteration": 617,
                        "passed_time": 30.74234606,
                        "remaining_time": 19.00255047
                      },
                      {
                        "learn": [
                          0.0000309307909
                        ],
                        "iteration": 618,
                        "passed_time": 30.79952645,
                        "remaining_time": 18.95738219
                      },
                      {
                        "learn": [
                          0.0000309307909
                        ],
                        "iteration": 619,
                        "passed_time": 30.85029865,
                        "remaining_time": 18.90824756
                      },
                      {
                        "learn": [
                          0.0000309307909
                        ],
                        "iteration": 620,
                        "passed_time": 30.9071222,
                        "remaining_time": 18.86280083
                      },
                      {
                        "learn": [
                          0.0000309307909
                        ],
                        "iteration": 621,
                        "passed_time": 30.9674011,
                        "remaining_time": 18.81941739
                      },
                      {
                        "learn": [
                          0.0000309307909
                        ],
                        "iteration": 622,
                        "passed_time": 31.01640706,
                        "remaining_time": 18.76915805
                      },
                      {
                        "learn": [
                          0.0000309307909
                        ],
                        "iteration": 623,
                        "passed_time": 31.06725726,
                        "remaining_time": 18.72001399
                      },
                      {
                        "learn": [
                          0.0000309307909
                        ],
                        "iteration": 624,
                        "passed_time": 31.15907525,
                        "remaining_time": 18.69544515
                      },
                      {
                        "learn": [
                          0.0000309307909
                        ],
                        "iteration": 625,
                        "passed_time": 31.208638,
                        "remaining_time": 18.64541631
                      },
                      {
                        "learn": [
                          0.0000309307909
                        ],
                        "iteration": 626,
                        "passed_time": 31.23501749,
                        "remaining_time": 18.58159733
                      },
                      {
                        "learn": [
                          0.0000309307909
                        ],
                        "iteration": 627,
                        "passed_time": 31.2768986,
                        "remaining_time": 18.52708006
                      },
                      {
                        "learn": [
                          0.0000309307909
                        ],
                        "iteration": 628,
                        "passed_time": 31.35699382,
                        "remaining_time": 18.49514262
                      },
                      {
                        "learn": [
                          0.0000309307909
                        ],
                        "iteration": 629,
                        "passed_time": 31.43042399,
                        "remaining_time": 18.4591379
                      },
                      {
                        "learn": [
                          0.0000309307909
                        ],
                        "iteration": 630,
                        "passed_time": 31.48366804,
                        "remaining_time": 18.41120999
                      },
                      {
                        "learn": [
                          0.0000309307909
                        ],
                        "iteration": 631,
                        "passed_time": 31.61695689,
                        "remaining_time": 18.40987363
                      },
                      {
                        "learn": [
                          0.0000309307909
                        ],
                        "iteration": 632,
                        "passed_time": 31.71226413,
                        "remaining_time": 18.38609943
                      },
                      {
                        "learn": [
                          0.0000309307909
                        ],
                        "iteration": 633,
                        "passed_time": 31.79068804,
                        "remaining_time": 18.35235303
                      },
                      {
                        "learn": [
                          0.0000309307909
                        ],
                        "iteration": 634,
                        "passed_time": 31.86643746,
                        "remaining_time": 18.31692862
                      },
                      {
                        "learn": [
                          0.0000309307909
                        ],
                        "iteration": 635,
                        "passed_time": 31.95022142,
                        "remaining_time": 18.28597578
                      },
                      {
                        "learn": [
                          0.0000309307909
                        ],
                        "iteration": 636,
                        "passed_time": 32.05661975,
                        "remaining_time": 18.26774407
                      },
                      {
                        "learn": [
                          0.0000309307909
                        ],
                        "iteration": 637,
                        "passed_time": 32.18879202,
                        "remaining_time": 18.26386005
                      },
                      {
                        "learn": [
                          0.0000309307909
                        ],
                        "iteration": 638,
                        "passed_time": 32.30117687,
                        "remaining_time": 18.2483957
                      },
                      {
                        "learn": [
                          0.0000309307909
                        ],
                        "iteration": 639,
                        "passed_time": 32.42243857,
                        "remaining_time": 18.2376217
                      },
                      {
                        "learn": [
                          0.0000309307909
                        ],
                        "iteration": 640,
                        "passed_time": 32.48880916,
                        "remaining_time": 18.19576051
                      },
                      {
                        "learn": [
                          0.0000309307909
                        ],
                        "iteration": 641,
                        "passed_time": 32.58018776,
                        "remaining_time": 18.16776825
                      },
                      {
                        "learn": [
                          0.0000309307909
                        ],
                        "iteration": 642,
                        "passed_time": 32.65886606,
                        "remaining_time": 18.1325275
                      },
                      {
                        "learn": [
                          0.0000309307909
                        ],
                        "iteration": 643,
                        "passed_time": 32.69469854,
                        "remaining_time": 18.0734669
                      },
                      {
                        "learn": [
                          0.0000309307909
                        ],
                        "iteration": 644,
                        "passed_time": 32.72405145,
                        "remaining_time": 18.01091204
                      },
                      {
                        "learn": [
                          0.0000309307909
                        ],
                        "iteration": 645,
                        "passed_time": 32.75481196,
                        "remaining_time": 17.94923132
                      },
                      {
                        "learn": [
                          0.0000309307909
                        ],
                        "iteration": 646,
                        "passed_time": 32.79343229,
                        "remaining_time": 17.89193447
                      },
                      {
                        "learn": [
                          0.0000309307909
                        ],
                        "iteration": 647,
                        "passed_time": 32.81548371,
                        "remaining_time": 17.82569486
                      },
                      {
                        "learn": [
                          0.0000309307909
                        ],
                        "iteration": 648,
                        "passed_time": 32.84039854,
                        "remaining_time": 17.76114004
                      },
                      {
                        "learn": [
                          0.0000309307909
                        ],
                        "iteration": 649,
                        "passed_time": 32.86272007,
                        "remaining_time": 17.69531081
                      },
                      {
                        "learn": [
                          0.0000309307909
                        ],
                        "iteration": 650,
                        "passed_time": 32.88501355,
                        "remaining_time": 17.6296002
                      },
                      {
                        "learn": [
                          0.0000309307909
                        ],
                        "iteration": 651,
                        "passed_time": 32.90733548,
                        "remaining_time": 17.56403795
                      },
                      {
                        "learn": [
                          0.0000309307909
                        ],
                        "iteration": 652,
                        "passed_time": 32.92949221,
                        "remaining_time": 17.49852036
                      },
                      {
                        "learn": [
                          0.0000309307909
                        ],
                        "iteration": 653,
                        "passed_time": 32.95172052,
                        "remaining_time": 17.43317324
                      },
                      {
                        "learn": [
                          0.0000309307909
                        ],
                        "iteration": 654,
                        "passed_time": 32.97371166,
                        "remaining_time": 17.36783286
                      },
                      {
                        "learn": [
                          0.0000309307909
                        ],
                        "iteration": 655,
                        "passed_time": 32.99590067,
                        "remaining_time": 17.3027284
                      },
                      {
                        "learn": [
                          0.0000309307909
                        ],
                        "iteration": 656,
                        "passed_time": 33.01804222,
                        "remaining_time": 17.23772981
                      },
                      {
                        "learn": [
                          0.0000309307909
                        ],
                        "iteration": 657,
                        "passed_time": 33.04018871,
                        "remaining_time": 17.17286404
                      },
                      {
                        "learn": [
                          0.0000309307909
                        ],
                        "iteration": 658,
                        "passed_time": 33.06244961,
                        "remaining_time": 17.10818713
                      },
                      {
                        "learn": [
                          0.0000309307909
                        ],
                        "iteration": 659,
                        "passed_time": 33.08517958,
                        "remaining_time": 17.04388039
                      },
                      {
                        "learn": [
                          0.0000309307909
                        ],
                        "iteration": 660,
                        "passed_time": 33.10731706,
                        "remaining_time": 16.97939559
                      },
                      {
                        "learn": [
                          0.0000309307909
                        ],
                        "iteration": 661,
                        "passed_time": 33.12951819,
                        "remaining_time": 16.91507122
                      },
                      {
                        "learn": [
                          0.0000309307909
                        ],
                        "iteration": 662,
                        "passed_time": 33.15357953,
                        "remaining_time": 16.85181946
                      },
                      {
                        "learn": [
                          0.0000309307909
                        ],
                        "iteration": 663,
                        "passed_time": 33.17600001,
                        "remaining_time": 16.78785543
                      },
                      {
                        "learn": [
                          0.0000309307909
                        ],
                        "iteration": 664,
                        "passed_time": 33.19801544,
                        "remaining_time": 16.72381229
                      },
                      {
                        "learn": [
                          0.0000309307909
                        ],
                        "iteration": 665,
                        "passed_time": 33.23162414,
                        "remaining_time": 16.6657094
                      },
                      {
                        "learn": [
                          0.0000309307909
                        ],
                        "iteration": 666,
                        "passed_time": 33.25384754,
                        "remaining_time": 16.60199585
                      },
                      {
                        "learn": [
                          0.0000309307909
                        ],
                        "iteration": 667,
                        "passed_time": 33.27591216,
                        "remaining_time": 16.5383276
                      },
                      {
                        "learn": [
                          0.0000309307909
                        ],
                        "iteration": 668,
                        "passed_time": 33.29784058,
                        "remaining_time": 16.47471634
                      },
                      {
                        "learn": [
                          0.0000309307909
                        ],
                        "iteration": 669,
                        "passed_time": 33.31992336,
                        "remaining_time": 16.41130553
                      },
                      {
                        "learn": [
                          0.0000309307909
                        ],
                        "iteration": 670,
                        "passed_time": 33.34343534,
                        "remaining_time": 16.34871867
                      },
                      {
                        "learn": [
                          0.0000309307909
                        ],
                        "iteration": 671,
                        "passed_time": 33.36585691,
                        "remaining_time": 16.28571587
                      },
                      {
                        "learn": [
                          0.0000309307909
                        ],
                        "iteration": 672,
                        "passed_time": 33.38795045,
                        "remaining_time": 16.22267429
                      },
                      {
                        "learn": [
                          0.0000309307909
                        ],
                        "iteration": 673,
                        "passed_time": 33.40992576,
                        "remaining_time": 16.15969703
                      },
                      {
                        "learn": [
                          0.0000309307909
                        ],
                        "iteration": 674,
                        "passed_time": 33.43236852,
                        "remaining_time": 16.09706633
                      },
                      {
                        "learn": [
                          0.0000309307909
                        ],
                        "iteration": 675,
                        "passed_time": 33.45488128,
                        "remaining_time": 16.03458807
                      },
                      {
                        "learn": [
                          0.0000309307909
                        ],
                        "iteration": 676,
                        "passed_time": 33.47716133,
                        "remaining_time": 15.97211685
                      },
                      {
                        "learn": [
                          0.0000309307909
                        ],
                        "iteration": 677,
                        "passed_time": 33.49954524,
                        "remaining_time": 15.90981352
                      },
                      {
                        "learn": [
                          0.0000309307909
                        ],
                        "iteration": 678,
                        "passed_time": 33.52144104,
                        "remaining_time": 15.84739701
                      },
                      {
                        "learn": [
                          0.0000309307909
                        ],
                        "iteration": 679,
                        "passed_time": 33.54365783,
                        "remaining_time": 15.78525074
                      },
                      {
                        "learn": [
                          0.0000309307909
                        ],
                        "iteration": 680,
                        "passed_time": 33.56604919,
                        "remaining_time": 15.72330351
                      },
                      {
                        "learn": [
                          0.0000309307909
                        ],
                        "iteration": 681,
                        "passed_time": 33.58841086,
                        "remaining_time": 15.66145844
                      },
                      {
                        "learn": [
                          0.0000309307909
                        ],
                        "iteration": 682,
                        "passed_time": 33.61070977,
                        "remaining_time": 15.59969985
                      },
                      {
                        "learn": [
                          0.0000309307909
                        ],
                        "iteration": 683,
                        "passed_time": 33.63297604,
                        "remaining_time": 15.53804156
                      },
                      {
                        "learn": [
                          0.0000309307909
                        ],
                        "iteration": 684,
                        "passed_time": 33.67508192,
                        "remaining_time": 15.48562161
                      },
                      {
                        "learn": [
                          0.0000309307909
                        ],
                        "iteration": 685,
                        "passed_time": 33.73083523,
                        "remaining_time": 15.43947852
                      },
                      {
                        "learn": [
                          0.0000309307909
                        ],
                        "iteration": 686,
                        "passed_time": 33.76576917,
                        "remaining_time": 15.38382205
                      },
                      {
                        "learn": [
                          0.0000309307909
                        ],
                        "iteration": 687,
                        "passed_time": 33.78844291,
                        "remaining_time": 15.32266597
                      },
                      {
                        "learn": [
                          0.0000309307909
                        ],
                        "iteration": 688,
                        "passed_time": 33.81088291,
                        "remaining_time": 15.26151609
                      },
                      {
                        "learn": [
                          0.0000309307909
                        ],
                        "iteration": 689,
                        "passed_time": 33.83307304,
                        "remaining_time": 15.20036615
                      },
                      {
                        "learn": [
                          0.0000309307909
                        ],
                        "iteration": 690,
                        "passed_time": 33.85546652,
                        "remaining_time": 15.13941991
                      },
                      {
                        "learn": [
                          0.0000309307909
                        ],
                        "iteration": 691,
                        "passed_time": 33.87749553,
                        "remaining_time": 15.07842286
                      },
                      {
                        "learn": [
                          0.0000309307909
                        ],
                        "iteration": 692,
                        "passed_time": 33.89981962,
                        "remaining_time": 15.01766901
                      },
                      {
                        "learn": [
                          0.0000309307909
                        ],
                        "iteration": 693,
                        "passed_time": 33.92216528,
                        "remaining_time": 14.95703541
                      },
                      {
                        "learn": [
                          0.0000309307909
                        ],
                        "iteration": 694,
                        "passed_time": 33.94431295,
                        "remaining_time": 14.89642511
                      },
                      {
                        "learn": [
                          0.0000309307909
                        ],
                        "iteration": 695,
                        "passed_time": 33.96637639,
                        "remaining_time": 14.83588854
                      },
                      {
                        "learn": [
                          0.0000309307909
                        ],
                        "iteration": 696,
                        "passed_time": 33.98856893,
                        "remaining_time": 14.77551849
                      },
                      {
                        "learn": [
                          0.0000309307909
                        ],
                        "iteration": 697,
                        "passed_time": 34.01058469,
                        "remaining_time": 14.71518134
                      },
                      {
                        "learn": [
                          0.0000309307909
                        ],
                        "iteration": 698,
                        "passed_time": 34.03296831,
                        "remaining_time": 14.65511225
                      },
                      {
                        "learn": [
                          0.0000309307909
                        ],
                        "iteration": 699,
                        "passed_time": 34.05488951,
                        "remaining_time": 14.59495265
                      },
                      {
                        "learn": [
                          0.0000309307909
                        ],
                        "iteration": 700,
                        "passed_time": 34.07708121,
                        "remaining_time": 14.53501752
                      },
                      {
                        "learn": [
                          0.0000309307909
                        ],
                        "iteration": 701,
                        "passed_time": 34.09932111,
                        "remaining_time": 14.47521038
                      },
                      {
                        "learn": [
                          0.0000309307909
                        ],
                        "iteration": 702,
                        "passed_time": 34.12153514,
                        "remaining_time": 14.4154992
                      },
                      {
                        "learn": [
                          0.0000309307909
                        ],
                        "iteration": 703,
                        "passed_time": 34.14551486,
                        "remaining_time": 14.35663693
                      },
                      {
                        "learn": [
                          0.0000309307909
                        ],
                        "iteration": 704,
                        "passed_time": 34.16787113,
                        "remaining_time": 14.2971943
                      },
                      {
                        "learn": [
                          0.0000309307909
                        ],
                        "iteration": 705,
                        "passed_time": 34.18992162,
                        "remaining_time": 14.2377294
                      },
                      {
                        "learn": [
                          0.0000309307909
                        ],
                        "iteration": 706,
                        "passed_time": 34.21217671,
                        "remaining_time": 14.17845513
                      },
                      {
                        "learn": [
                          0.0000309307909
                        ],
                        "iteration": 707,
                        "passed_time": 34.24356792,
                        "remaining_time": 14.12305344
                      },
                      {
                        "learn": [
                          0.0000309307909
                        ],
                        "iteration": 708,
                        "passed_time": 34.26579944,
                        "remaining_time": 14.06396
                      },
                      {
                        "learn": [
                          0.0000309307909
                        ],
                        "iteration": 709,
                        "passed_time": 34.29267406,
                        "remaining_time": 14.00686687
                      },
                      {
                        "learn": [
                          0.0000309307909
                        ],
                        "iteration": 710,
                        "passed_time": 34.31491994,
                        "remaining_time": 13.9479773
                      },
                      {
                        "learn": [
                          0.0000309307909
                        ],
                        "iteration": 711,
                        "passed_time": 34.33811511,
                        "remaining_time": 13.88957465
                      },
                      {
                        "learn": [
                          0.0000309307909
                        ],
                        "iteration": 712,
                        "passed_time": 34.36045501,
                        "remaining_time": 13.83092649
                      },
                      {
                        "learn": [
                          0.0000309307909
                        ],
                        "iteration": 713,
                        "passed_time": 34.38255835,
                        "remaining_time": 13.77228528
                      },
                      {
                        "learn": [
                          0.0000309307909
                        ],
                        "iteration": 714,
                        "passed_time": 34.40470488,
                        "remaining_time": 13.71376348
                      },
                      {
                        "learn": [
                          0.0000309307909
                        ],
                        "iteration": 715,
                        "passed_time": 34.42698849,
                        "remaining_time": 13.65539767
                      },
                      {
                        "learn": [
                          0.0000309307909
                        ],
                        "iteration": 716,
                        "passed_time": 34.4493219,
                        "remaining_time": 13.59715216
                      },
                      {
                        "learn": [
                          0.0000309307909
                        ],
                        "iteration": 717,
                        "passed_time": 34.47170175,
                        "remaining_time": 13.53902492
                      },
                      {
                        "learn": [
                          0.0000309307909
                        ],
                        "iteration": 718,
                        "passed_time": 34.49378407,
                        "remaining_time": 13.48088084
                      },
                      {
                        "learn": [
                          0.0000309307909
                        ],
                        "iteration": 719,
                        "passed_time": 34.51595987,
                        "remaining_time": 13.42287328
                      },
                      {
                        "learn": [
                          0.0000309307909
                        ],
                        "iteration": 720,
                        "passed_time": 34.53837011,
                        "remaining_time": 13.36505584
                      },
                      {
                        "learn": [
                          0.0000309307909
                        ],
                        "iteration": 721,
                        "passed_time": 34.56048377,
                        "remaining_time": 13.30722228
                      },
                      {
                        "learn": [
                          0.0000309307909
                        ],
                        "iteration": 722,
                        "passed_time": 34.58277198,
                        "remaining_time": 13.24955441
                      },
                      {
                        "learn": [
                          0.0000309307909
                        ],
                        "iteration": 723,
                        "passed_time": 34.60490487,
                        "remaining_time": 13.19192506
                      },
                      {
                        "learn": [
                          0.0000309307909
                        ],
                        "iteration": 724,
                        "passed_time": 34.62751228,
                        "remaining_time": 13.13457362
                      },
                      {
                        "learn": [
                          0.0000309307909
                        ],
                        "iteration": 725,
                        "passed_time": 34.64956777,
                        "remaining_time": 13.0771096
                      },
                      {
                        "learn": [
                          0.0000309307909
                        ],
                        "iteration": 726,
                        "passed_time": 34.6720532,
                        "remaining_time": 13.01990443
                      },
                      {
                        "learn": [
                          0.0000309307909
                        ],
                        "iteration": 727,
                        "passed_time": 34.73741101,
                        "remaining_time": 12.9788129
                      },
                      {
                        "learn": [
                          0.0000309307909
                        ],
                        "iteration": 728,
                        "passed_time": 34.7613374,
                        "remaining_time": 12.922253
                      },
                      {
                        "learn": [
                          0.0000309307909
                        ],
                        "iteration": 729,
                        "passed_time": 34.78357995,
                        "remaining_time": 12.86515971
                      },
                      {
                        "learn": [
                          0.0000309307909
                        ],
                        "iteration": 730,
                        "passed_time": 34.80570748,
                        "remaining_time": 12.80811944
                      },
                      {
                        "learn": [
                          0.0000309307909
                        ],
                        "iteration": 731,
                        "passed_time": 34.8280897,
                        "remaining_time": 12.75126781
                      },
                      {
                        "learn": [
                          0.0000309307909
                        ],
                        "iteration": 732,
                        "passed_time": 34.84996667,
                        "remaining_time": 12.69432619
                      },
                      {
                        "learn": [
                          0.0000309307909
                        ],
                        "iteration": 733,
                        "passed_time": 34.87194342,
                        "remaining_time": 12.63751628
                      },
                      {
                        "learn": [
                          0.0000309307909
                        ],
                        "iteration": 734,
                        "passed_time": 34.89405583,
                        "remaining_time": 12.58085006
                      },
                      {
                        "learn": [
                          0.0000309307909
                        ],
                        "iteration": 735,
                        "passed_time": 34.91889109,
                        "remaining_time": 12.52525441
                      },
                      {
                        "learn": [
                          0.0000309307909
                        ],
                        "iteration": 736,
                        "passed_time": 34.94088495,
                        "remaining_time": 12.46872828
                      },
                      {
                        "learn": [
                          0.0000309307909
                        ],
                        "iteration": 737,
                        "passed_time": 34.96302179,
                        "remaining_time": 12.41234649
                      },
                      {
                        "learn": [
                          0.0000309307909
                        ],
                        "iteration": 738,
                        "passed_time": 34.98534869,
                        "remaining_time": 12.3561245
                      },
                      {
                        "learn": [
                          0.0000309307909
                        ],
                        "iteration": 739,
                        "passed_time": 35.00750889,
                        "remaining_time": 12.29993556
                      },
                      {
                        "learn": [
                          0.0000309307909
                        ],
                        "iteration": 740,
                        "passed_time": 35.02974644,
                        "remaining_time": 12.24386549
                      },
                      {
                        "learn": [
                          0.0000309307909
                        ],
                        "iteration": 741,
                        "passed_time": 35.05760828,
                        "remaining_time": 12.18984223
                      },
                      {
                        "learn": [
                          0.0000309307909
                        ],
                        "iteration": 742,
                        "passed_time": 35.08033512,
                        "remaining_time": 12.13411323
                      },
                      {
                        "learn": [
                          0.0000309307909
                        ],
                        "iteration": 743,
                        "passed_time": 35.10272402,
                        "remaining_time": 12.07835665
                      },
                      {
                        "learn": [
                          0.0000309307909
                        ],
                        "iteration": 744,
                        "passed_time": 35.12693146,
                        "remaining_time": 12.02331211
                      },
                      {
                        "learn": [
                          0.0000309307909
                        ],
                        "iteration": 745,
                        "passed_time": 35.14905966,
                        "remaining_time": 11.9676423
                      },
                      {
                        "learn": [
                          0.0000309307909
                        ],
                        "iteration": 746,
                        "passed_time": 35.17120487,
                        "remaining_time": 11.91206805
                      },
                      {
                        "learn": [
                          0.0000309307909
                        ],
                        "iteration": 747,
                        "passed_time": 35.193268,
                        "remaining_time": 11.85655553
                      },
                      {
                        "learn": [
                          0.0000309307909
                        ],
                        "iteration": 748,
                        "passed_time": 35.21544193,
                        "remaining_time": 11.80116946
                      },
                      {
                        "learn": [
                          0.0000309307909
                        ],
                        "iteration": 749,
                        "passed_time": 35.24023793,
                        "remaining_time": 11.74674598
                      },
                      {
                        "learn": [
                          0.0000309307909
                        ],
                        "iteration": 750,
                        "passed_time": 35.27067572,
                        "remaining_time": 11.69427198
                      },
                      {
                        "learn": [
                          0.0000309307909
                        ],
                        "iteration": 751,
                        "passed_time": 35.29282882,
                        "remaining_time": 11.6391244
                      },
                      {
                        "learn": [
                          0.0000309307909
                        ],
                        "iteration": 752,
                        "passed_time": 35.314938,
                        "remaining_time": 11.58405005
                      },
                      {
                        "learn": [
                          0.0000309307909
                        ],
                        "iteration": 753,
                        "passed_time": 35.33842076,
                        "remaining_time": 11.52951128
                      },
                      {
                        "learn": [
                          0.0000309307909
                        ],
                        "iteration": 754,
                        "passed_time": 35.3607165,
                        "remaining_time": 11.47466959
                      },
                      {
                        "learn": [
                          0.0000309307909
                        ],
                        "iteration": 755,
                        "passed_time": 35.38277199,
                        "remaining_time": 11.41983646
                      },
                      {
                        "learn": [
                          0.0000309307909
                        ],
                        "iteration": 756,
                        "passed_time": 35.40482657,
                        "remaining_time": 11.36508964
                      },
                      {
                        "learn": [
                          0.0000309307909
                        ],
                        "iteration": 757,
                        "passed_time": 35.42760613,
                        "remaining_time": 11.31066053
                      },
                      {
                        "learn": [
                          0.0000309307909
                        ],
                        "iteration": 758,
                        "passed_time": 35.4501808,
                        "remaining_time": 11.25624977
                      },
                      {
                        "learn": [
                          0.0000309307909
                        ],
                        "iteration": 759,
                        "passed_time": 35.47235761,
                        "remaining_time": 11.20179714
                      },
                      {
                        "learn": [
                          0.0000309307909
                        ],
                        "iteration": 760,
                        "passed_time": 35.49449654,
                        "remaining_time": 11.14741744
                      },
                      {
                        "learn": [
                          0.0000309307909
                        ],
                        "iteration": 761,
                        "passed_time": 35.51678145,
                        "remaining_time": 11.09316796
                      },
                      {
                        "learn": [
                          0.0000309307909
                        ],
                        "iteration": 762,
                        "passed_time": 35.53922993,
                        "remaining_time": 11.03905307
                      },
                      {
                        "learn": [
                          0.0000309307909
                        ],
                        "iteration": 763,
                        "passed_time": 35.56157443,
                        "remaining_time": 10.98498896
                      },
                      {
                        "learn": [
                          0.0000309307909
                        ],
                        "iteration": 764,
                        "passed_time": 35.58391665,
                        "remaining_time": 10.93100707
                      },
                      {
                        "learn": [
                          0.0000309307909
                        ],
                        "iteration": 765,
                        "passed_time": 35.60616902,
                        "remaining_time": 10.87708035
                      },
                      {
                        "learn": [
                          0.0000309307909
                        ],
                        "iteration": 766,
                        "passed_time": 35.62931208,
                        "remaining_time": 10.8235068
                      },
                      {
                        "learn": [
                          0.0000309307909
                        ],
                        "iteration": 767,
                        "passed_time": 35.65149236,
                        "remaining_time": 10.76972165
                      },
                      {
                        "learn": [
                          0.0000309307909
                        ],
                        "iteration": 768,
                        "passed_time": 35.67371045,
                        "remaining_time": 10.71603006
                      },
                      {
                        "learn": [
                          0.0000309307909
                        ],
                        "iteration": 769,
                        "passed_time": 35.69619695,
                        "remaining_time": 10.66250039
                      },
                      {
                        "learn": [
                          0.0000309307909
                        ],
                        "iteration": 770,
                        "passed_time": 35.74799317,
                        "remaining_time": 10.61775673
                      },
                      {
                        "learn": [
                          0.0000309307909
                        ],
                        "iteration": 771,
                        "passed_time": 35.78612346,
                        "remaining_time": 10.56895874
                      },
                      {
                        "learn": [
                          0.0000309307909
                        ],
                        "iteration": 772,
                        "passed_time": 35.80833609,
                        "remaining_time": 10.51551396
                      },
                      {
                        "learn": [
                          0.0000309307909
                        ],
                        "iteration": 773,
                        "passed_time": 35.83323071,
                        "remaining_time": 10.462933
                      },
                      {
                        "learn": [
                          0.0000309307909
                        ],
                        "iteration": 774,
                        "passed_time": 35.85528255,
                        "remaining_time": 10.40959816
                      },
                      {
                        "learn": [
                          0.0000309307909
                        ],
                        "iteration": 775,
                        "passed_time": 35.87750123,
                        "remaining_time": 10.35639211
                      },
                      {
                        "learn": [
                          0.0000309307909
                        ],
                        "iteration": 776,
                        "passed_time": 35.89975649,
                        "remaining_time": 10.30327632
                      },
                      {
                        "learn": [
                          0.0000309307909
                        ],
                        "iteration": 777,
                        "passed_time": 35.92199539,
                        "remaining_time": 10.25023519
                      },
                      {
                        "learn": [
                          0.0000309307909
                        ],
                        "iteration": 778,
                        "passed_time": 35.94413018,
                        "remaining_time": 10.19724361
                      },
                      {
                        "learn": [
                          0.0000309307909
                        ],
                        "iteration": 779,
                        "passed_time": 35.96637116,
                        "remaining_time": 10.1443611
                      },
                      {
                        "learn": [
                          0.0000309307909
                        ],
                        "iteration": 780,
                        "passed_time": 35.98832457,
                        "remaining_time": 10.09147642
                      },
                      {
                        "learn": [
                          0.0000309307909
                        ],
                        "iteration": 781,
                        "passed_time": 36.01033174,
                        "remaining_time": 10.03868583
                      },
                      {
                        "learn": [
                          0.0000309307909
                        ],
                        "iteration": 782,
                        "passed_time": 36.03239073,
                        "remaining_time": 9.985988235
                      },
                      {
                        "learn": [
                          0.0000309307909
                        ],
                        "iteration": 783,
                        "passed_time": 36.05435887,
                        "remaining_time": 9.93334377
                      },
                      {
                        "learn": [
                          0.0000309307909
                        ],
                        "iteration": 784,
                        "passed_time": 36.07694868,
                        "remaining_time": 9.880947728
                      },
                      {
                        "learn": [
                          0.0000309307909
                        ],
                        "iteration": 785,
                        "passed_time": 36.09895233,
                        "remaining_time": 9.828467938
                      },
                      {
                        "learn": [
                          0.0000309307909
                        ],
                        "iteration": 786,
                        "passed_time": 36.12336578,
                        "remaining_time": 9.776717803
                      },
                      {
                        "learn": [
                          0.0000309307909
                        ],
                        "iteration": 787,
                        "passed_time": 36.14541741,
                        "remaining_time": 9.724401638
                      },
                      {
                        "learn": [
                          0.0000309307909
                        ],
                        "iteration": 788,
                        "passed_time": 36.16765497,
                        "remaining_time": 9.672211912
                      },
                      {
                        "learn": [
                          0.0000309307909
                        ],
                        "iteration": 789,
                        "passed_time": 36.19021284,
                        "remaining_time": 9.620183161
                      },
                      {
                        "learn": [
                          0.0000309307909
                        ],
                        "iteration": 790,
                        "passed_time": 36.2123004,
                        "remaining_time": 9.568104658
                      },
                      {
                        "learn": [
                          0.0000309307909
                        ],
                        "iteration": 791,
                        "passed_time": 36.23441855,
                        "remaining_time": 9.516109923
                      },
                      {
                        "learn": [
                          0.0000309307909
                        ],
                        "iteration": 792,
                        "passed_time": 36.26418407,
                        "remaining_time": 9.466186762
                      },
                      {
                        "learn": [
                          0.0000309307909
                        ],
                        "iteration": 793,
                        "passed_time": 36.28907159,
                        "remaining_time": 9.415048801
                      },
                      {
                        "learn": [
                          0.0000309307909
                        ],
                        "iteration": 794,
                        "passed_time": 36.31111467,
                        "remaining_time": 9.363243407
                      },
                      {
                        "learn": [
                          0.0000309307909
                        ],
                        "iteration": 795,
                        "passed_time": 36.33492383,
                        "remaining_time": 9.311965404
                      },
                      {
                        "learn": [
                          0.0000309307909
                        ],
                        "iteration": 796,
                        "passed_time": 36.35723902,
                        "remaining_time": 9.26037581
                      },
                      {
                        "learn": [
                          0.0000309307909
                        ],
                        "iteration": 797,
                        "passed_time": 36.38369347,
                        "remaining_time": 9.209907368
                      },
                      {
                        "learn": [
                          0.0000309307909
                        ],
                        "iteration": 798,
                        "passed_time": 36.40585584,
                        "remaining_time": 9.158419304
                      },
                      {
                        "learn": [
                          0.0000309307909
                        ],
                        "iteration": 799,
                        "passed_time": 36.42868857,
                        "remaining_time": 9.107172143
                      },
                      {
                        "learn": [
                          0.0000309307909
                        ],
                        "iteration": 800,
                        "passed_time": 36.45116613,
                        "remaining_time": 9.05590769
                      },
                      {
                        "learn": [
                          0.0000309307909
                        ],
                        "iteration": 801,
                        "passed_time": 36.4733668,
                        "remaining_time": 9.004646667
                      },
                      {
                        "learn": [
                          0.0000309307909
                        ],
                        "iteration": 802,
                        "passed_time": 36.49576461,
                        "remaining_time": 8.953506387
                      },
                      {
                        "learn": [
                          0.0000309307909
                        ],
                        "iteration": 803,
                        "passed_time": 36.51816089,
                        "remaining_time": 8.902437232
                      },
                      {
                        "learn": [
                          0.0000309307909
                        ],
                        "iteration": 804,
                        "passed_time": 36.54056808,
                        "remaining_time": 8.851441956
                      },
                      {
                        "learn": [
                          0.0000309307909
                        ],
                        "iteration": 805,
                        "passed_time": 36.56294217,
                        "remaining_time": 8.800509653
                      },
                      {
                        "learn": [
                          0.0000309307909
                        ],
                        "iteration": 806,
                        "passed_time": 36.58524597,
                        "remaining_time": 8.749631315
                      },
                      {
                        "learn": [
                          0.0000309307909
                        ],
                        "iteration": 807,
                        "passed_time": 36.60964256,
                        "remaining_time": 8.699321004
                      },
                      {
                        "learn": [
                          0.0000309307909
                        ],
                        "iteration": 808,
                        "passed_time": 36.63370416,
                        "remaining_time": 8.648995667
                      },
                      {
                        "learn": [
                          0.0000309307909
                        ],
                        "iteration": 809,
                        "passed_time": 36.65966885,
                        "remaining_time": 8.599181583
                      },
                      {
                        "learn": [
                          0.0000309307909
                        ],
                        "iteration": 810,
                        "passed_time": 36.68171146,
                        "remaining_time": 8.548512288
                      },
                      {
                        "learn": [
                          0.0000309307909
                        ],
                        "iteration": 811,
                        "passed_time": 36.70393412,
                        "remaining_time": 8.49795519
                      },
                      {
                        "learn": [
                          0.0000309307909
                        ],
                        "iteration": 812,
                        "passed_time": 36.72741125,
                        "remaining_time": 8.44775634
                      },
                      {
                        "learn": [
                          0.0000309307909
                        ],
                        "iteration": 813,
                        "passed_time": 36.77957082,
                        "remaining_time": 8.404177116
                      },
                      {
                        "learn": [
                          0.0000309307909
                        ],
                        "iteration": 814,
                        "passed_time": 36.82960531,
                        "remaining_time": 8.360094458
                      },
                      {
                        "learn": [
                          0.0000309307909
                        ],
                        "iteration": 815,
                        "passed_time": 36.8520293,
                        "remaining_time": 8.309771312
                      },
                      {
                        "learn": [
                          0.0000309307909
                        ],
                        "iteration": 816,
                        "passed_time": 36.87441154,
                        "remaining_time": 8.259507114
                      },
                      {
                        "learn": [
                          0.0000309307909
                        ],
                        "iteration": 817,
                        "passed_time": 36.89710643,
                        "remaining_time": 8.209380649
                      },
                      {
                        "learn": [
                          0.0000309307909
                        ],
                        "iteration": 818,
                        "passed_time": 36.91930122,
                        "remaining_time": 8.159210649
                      },
                      {
                        "learn": [
                          0.0000309307909
                        ],
                        "iteration": 819,
                        "passed_time": 36.94136398,
                        "remaining_time": 8.109079898
                      },
                      {
                        "learn": [
                          0.0000309307909
                        ],
                        "iteration": 820,
                        "passed_time": 36.96373197,
                        "remaining_time": 8.059084071
                      },
                      {
                        "learn": [
                          0.0000309307909
                        ],
                        "iteration": 821,
                        "passed_time": 36.98578916,
                        "remaining_time": 8.009088164
                      },
                      {
                        "learn": [
                          0.0000309307909
                        ],
                        "iteration": 822,
                        "passed_time": 37.00816064,
                        "remaining_time": 7.959227743
                      },
                      {
                        "learn": [
                          0.0000309307909
                        ],
                        "iteration": 823,
                        "passed_time": 37.030369,
                        "remaining_time": 7.909399204
                      },
                      {
                        "learn": [
                          0.0000309307909
                        ],
                        "iteration": 824,
                        "passed_time": 37.05283019,
                        "remaining_time": 7.859691252
                      },
                      {
                        "learn": [
                          0.0000309307909
                        ],
                        "iteration": 825,
                        "passed_time": 37.07496209,
                        "remaining_time": 7.809979908
                      },
                      {
                        "learn": [
                          0.0000309307909
                        ],
                        "iteration": 826,
                        "passed_time": 37.09737239,
                        "remaining_time": 7.760393499
                      },
                      {
                        "learn": [
                          0.0000309307909
                        ],
                        "iteration": 827,
                        "passed_time": 37.12217594,
                        "remaining_time": 7.711369882
                      },
                      {
                        "learn": [
                          0.0000309307909
                        ],
                        "iteration": 828,
                        "passed_time": 37.14432407,
                        "remaining_time": 7.661856956
                      },
                      {
                        "learn": [
                          0.0000309307909
                        ],
                        "iteration": 829,
                        "passed_time": 37.16628102,
                        "remaining_time": 7.612370811
                      },
                      {
                        "learn": [
                          0.0000309307909
                        ],
                        "iteration": 830,
                        "passed_time": 37.18831105,
                        "remaining_time": 7.562965785
                      },
                      {
                        "learn": [
                          0.0000309307909
                        ],
                        "iteration": 831,
                        "passed_time": 37.21043552,
                        "remaining_time": 7.513645634
                      },
                      {
                        "learn": [
                          0.0000309307909
                        ],
                        "iteration": 832,
                        "passed_time": 37.23252635,
                        "remaining_time": 7.464384034
                      },
                      {
                        "learn": [
                          0.0000309307909
                        ],
                        "iteration": 833,
                        "passed_time": 37.25452264,
                        "remaining_time": 7.415168775
                      },
                      {
                        "learn": [
                          0.0000309307909
                        ],
                        "iteration": 834,
                        "passed_time": 37.28563008,
                        "remaining_time": 7.367819118
                      },
                      {
                        "learn": [
                          0.0000309307909
                        ],
                        "iteration": 835,
                        "passed_time": 37.30803825,
                        "remaining_time": 7.318801763
                      },
                      {
                        "learn": [
                          0.0000309307909
                        ],
                        "iteration": 836,
                        "passed_time": 37.33126122,
                        "remaining_time": 7.270006666
                      },
                      {
                        "learn": [
                          0.0000309307909
                        ],
                        "iteration": 837,
                        "passed_time": 37.35341152,
                        "remaining_time": 7.221065235
                      },
                      {
                        "learn": [
                          0.0000309307909
                        ],
                        "iteration": 838,
                        "passed_time": 37.37539052,
                        "remaining_time": 7.172154796
                      },
                      {
                        "learn": [
                          0.0000309307909
                        ],
                        "iteration": 839,
                        "passed_time": 37.39791882,
                        "remaining_time": 7.123413109
                      },
                      {
                        "learn": [
                          0.0000309307909
                        ],
                        "iteration": 840,
                        "passed_time": 37.4202433,
                        "remaining_time": 7.074695225
                      },
                      {
                        "learn": [
                          0.0000309307909
                        ],
                        "iteration": 841,
                        "passed_time": 37.44258399,
                        "remaining_time": 7.026043076
                      },
                      {
                        "learn": [
                          0.0000309307909
                        ],
                        "iteration": 842,
                        "passed_time": 37.46519322,
                        "remaining_time": 6.977503364
                      },
                      {
                        "learn": [
                          0.0000309307909
                        ],
                        "iteration": 843,
                        "passed_time": 37.48738309,
                        "remaining_time": 6.928947586
                      },
                      {
                        "learn": [
                          0.0000309307909
                        ],
                        "iteration": 844,
                        "passed_time": 37.50997164,
                        "remaining_time": 6.880527341
                      },
                      {
                        "learn": [
                          0.0000309307909
                        ],
                        "iteration": 845,
                        "passed_time": 37.53218521,
                        "remaining_time": 6.832099908
                      },
                      {
                        "learn": [
                          0.0000309307909
                        ],
                        "iteration": 846,
                        "passed_time": 37.55448332,
                        "remaining_time": 6.783749643
                      },
                      {
                        "learn": [
                          0.0000309307909
                        ],
                        "iteration": 847,
                        "passed_time": 37.57705921,
                        "remaining_time": 6.735510613
                      },
                      {
                        "learn": [
                          0.0000309307909
                        ],
                        "iteration": 848,
                        "passed_time": 37.59962352,
                        "remaining_time": 6.687329978
                      },
                      {
                        "learn": [
                          0.0000309307909
                        ],
                        "iteration": 849,
                        "passed_time": 37.62224311,
                        "remaining_time": 6.639219372
                      },
                      {
                        "learn": [
                          0.0000309307909
                        ],
                        "iteration": 850,
                        "passed_time": 37.64434922,
                        "remaining_time": 6.59107877
                      },
                      {
                        "learn": [
                          0.0000309307909
                        ],
                        "iteration": 851,
                        "passed_time": 37.66705859,
                        "remaining_time": 6.543104075
                      },
                      {
                        "learn": [
                          0.0000309307909
                        ],
                        "iteration": 852,
                        "passed_time": 37.68933464,
                        "remaining_time": 6.495113942
                      },
                      {
                        "learn": [
                          0.0000309307909
                        ],
                        "iteration": 853,
                        "passed_time": 37.71157562,
                        "remaining_time": 6.447178034
                      },
                      {
                        "learn": [
                          0.0000309307909
                        ],
                        "iteration": 854,
                        "passed_time": 37.73957257,
                        "remaining_time": 6.400278389
                      },
                      {
                        "learn": [
                          0.0000309307909
                        ],
                        "iteration": 855,
                        "passed_time": 37.76170662,
                        "remaining_time": 6.352436628
                      },
                      {
                        "learn": [
                          0.0000309307909
                        ],
                        "iteration": 856,
                        "passed_time": 37.80177986,
                        "remaining_time": 6.307648215
                      },
                      {
                        "learn": [
                          0.0000309307909
                        ],
                        "iteration": 857,
                        "passed_time": 37.85375322,
                        "remaining_time": 6.264840277
                      },
                      {
                        "learn": [
                          0.0000309307909
                        ],
                        "iteration": 858,
                        "passed_time": 37.87609202,
                        "remaining_time": 6.217146653
                      },
                      {
                        "learn": [
                          0.0000309307909
                        ],
                        "iteration": 859,
                        "passed_time": 37.89825003,
                        "remaining_time": 6.169482563
                      },
                      {
                        "learn": [
                          0.0000309307909
                        ],
                        "iteration": 860,
                        "passed_time": 37.92314671,
                        "remaining_time": 6.122319852
                      },
                      {
                        "learn": [
                          0.0000309307909
                        ],
                        "iteration": 861,
                        "passed_time": 37.94538339,
                        "remaining_time": 6.074782956
                      },
                      {
                        "learn": [
                          0.0000309307909
                        ],
                        "iteration": 862,
                        "passed_time": 37.9675544,
                        "remaining_time": 6.027294267
                      },
                      {
                        "learn": [
                          0.0000309307909
                        ],
                        "iteration": 863,
                        "passed_time": 37.98997535,
                        "remaining_time": 5.979903528
                      },
                      {
                        "learn": [
                          0.0000309307909
                        ],
                        "iteration": 864,
                        "passed_time": 38.01244413,
                        "remaining_time": 5.932577986
                      },
                      {
                        "learn": [
                          0.0000309307909
                        ],
                        "iteration": 865,
                        "passed_time": 38.03449369,
                        "remaining_time": 5.885244983
                      },
                      {
                        "learn": [
                          0.0000309307909
                        ],
                        "iteration": 866,
                        "passed_time": 38.05676048,
                        "remaining_time": 5.838003627
                      },
                      {
                        "learn": [
                          0.0000309307909
                        ],
                        "iteration": 867,
                        "passed_time": 38.07871149,
                        "remaining_time": 5.790771794
                      },
                      {
                        "learn": [
                          0.0000309307909
                        ],
                        "iteration": 868,
                        "passed_time": 38.10088738,
                        "remaining_time": 5.743632045
                      },
                      {
                        "learn": [
                          0.0000309307909
                        ],
                        "iteration": 869,
                        "passed_time": 38.13065153,
                        "remaining_time": 5.697683563
                      },
                      {
                        "learn": [
                          0.0000309307909
                        ],
                        "iteration": 870,
                        "passed_time": 38.15274997,
                        "remaining_time": 5.650636908
                      },
                      {
                        "learn": [
                          0.0000309307909
                        ],
                        "iteration": 871,
                        "passed_time": 38.17503754,
                        "remaining_time": 5.603675235
                      },
                      {
                        "learn": [
                          0.0000309307909
                        ],
                        "iteration": 872,
                        "passed_time": 38.19777093,
                        "remaining_time": 5.556834947
                      },
                      {
                        "learn": [
                          0.0000309307909
                        ],
                        "iteration": 873,
                        "passed_time": 38.22053352,
                        "remaining_time": 5.510054032
                      },
                      {
                        "learn": [
                          0.0000309307909
                        ],
                        "iteration": 874,
                        "passed_time": 38.24285376,
                        "remaining_time": 5.463264823
                      },
                      {
                        "learn": [
                          0.0000309307909
                        ],
                        "iteration": 875,
                        "passed_time": 38.26538337,
                        "remaining_time": 5.416561117
                      },
                      {
                        "learn": [
                          0.0000309307909
                        ],
                        "iteration": 876,
                        "passed_time": 38.29574234,
                        "remaining_time": 5.371010613
                      },
                      {
                        "learn": [
                          0.0000309307909
                        ],
                        "iteration": 877,
                        "passed_time": 38.3206805,
                        "remaining_time": 5.324741481
                      },
                      {
                        "learn": [
                          0.0000309307909
                        ],
                        "iteration": 878,
                        "passed_time": 38.34310031,
                        "remaining_time": 5.278174218
                      },
                      {
                        "learn": [
                          0.0000309307909
                        ],
                        "iteration": 879,
                        "passed_time": 38.3653867,
                        "remaining_time": 5.231643641
                      },
                      {
                        "learn": [
                          0.0000309307909
                        ],
                        "iteration": 880,
                        "passed_time": 38.38771658,
                        "remaining_time": 5.185173976
                      },
                      {
                        "learn": [
                          0.0000309307909
                        ],
                        "iteration": 881,
                        "passed_time": 38.41098756,
                        "remaining_time": 5.138884957
                      },
                      {
                        "learn": [
                          0.0000309307909
                        ],
                        "iteration": 882,
                        "passed_time": 38.43380821,
                        "remaining_time": 5.092588404
                      },
                      {
                        "learn": [
                          0.0000309307909
                        ],
                        "iteration": 883,
                        "passed_time": 38.45609145,
                        "remaining_time": 5.046274444
                      },
                      {
                        "learn": [
                          0.0000309307909
                        ],
                        "iteration": 884,
                        "passed_time": 38.47830601,
                        "remaining_time": 5.000005866
                      },
                      {
                        "learn": [
                          0.0000309307909
                        ],
                        "iteration": 885,
                        "passed_time": 38.50054472,
                        "remaining_time": 4.953794693
                      },
                      {
                        "learn": [
                          0.0000309307909
                        ],
                        "iteration": 886,
                        "passed_time": 38.5228161,
                        "remaining_time": 4.907641736
                      },
                      {
                        "learn": [
                          0.0000309307909
                        ],
                        "iteration": 887,
                        "passed_time": 38.54523956,
                        "remaining_time": 4.861561746
                      },
                      {
                        "learn": [
                          0.0000309307909
                        ],
                        "iteration": 888,
                        "passed_time": 38.56766795,
                        "remaining_time": 4.815535593
                      },
                      {
                        "learn": [
                          0.0000309307909
                        ],
                        "iteration": 889,
                        "passed_time": 38.59016158,
                        "remaining_time": 4.769570532
                      },
                      {
                        "learn": [
                          0.0000309307909
                        ],
                        "iteration": 890,
                        "passed_time": 38.61296997,
                        "remaining_time": 4.723696663
                      },
                      {
                        "learn": [
                          0.0000309307909
                        ],
                        "iteration": 891,
                        "passed_time": 38.63533435,
                        "remaining_time": 4.677820751
                      },
                      {
                        "learn": [
                          0.0000309307909
                        ],
                        "iteration": 892,
                        "passed_time": 38.65760647,
                        "remaining_time": 4.631986441
                      },
                      {
                        "learn": [
                          0.0000309307909
                        ],
                        "iteration": 893,
                        "passed_time": 38.67995779,
                        "remaining_time": 4.586214234
                      },
                      {
                        "learn": [
                          0.0000309307909
                        ],
                        "iteration": 894,
                        "passed_time": 38.70246689,
                        "remaining_time": 4.540512875
                      },
                      {
                        "learn": [
                          0.0000309307909
                        ],
                        "iteration": 895,
                        "passed_time": 38.72477236,
                        "remaining_time": 4.494839649
                      },
                      {
                        "learn": [
                          0.0000309307909
                        ],
                        "iteration": 896,
                        "passed_time": 38.74723783,
                        "remaining_time": 4.449236897
                      },
                      {
                        "learn": [
                          0.0000309307909
                        ],
                        "iteration": 897,
                        "passed_time": 38.7694075,
                        "remaining_time": 4.403652077
                      },
                      {
                        "learn": [
                          0.0000309307909
                        ],
                        "iteration": 898,
                        "passed_time": 38.79155407,
                        "remaining_time": 4.358116753
                      },
                      {
                        "learn": [
                          0.0000309307909
                        ],
                        "iteration": 899,
                        "passed_time": 38.81629563,
                        "remaining_time": 4.312921737
                      },
                      {
                        "learn": [
                          0.0000309307909
                        ],
                        "iteration": 900,
                        "passed_time": 38.95427113,
                        "remaining_time": 4.280214031
                      },
                      {
                        "learn": [
                          0.0000309307909
                        ],
                        "iteration": 901,
                        "passed_time": 38.97715501,
                        "remaining_time": 4.234768504
                      },
                      {
                        "learn": [
                          0.0000309307909
                        ],
                        "iteration": 902,
                        "passed_time": 38.99944626,
                        "remaining_time": 4.189309288
                      },
                      {
                        "learn": [
                          0.0000309307909
                        ],
                        "iteration": 903,
                        "passed_time": 39.02154228,
                        "remaining_time": 4.143880596
                      },
                      {
                        "learn": [
                          0.0000309307909
                        ],
                        "iteration": 904,
                        "passed_time": 39.0436675,
                        "remaining_time": 4.098506533
                      },
                      {
                        "learn": [
                          0.0000309307909
                        ],
                        "iteration": 905,
                        "passed_time": 39.06583969,
                        "remaining_time": 4.053188665
                      },
                      {
                        "learn": [
                          0.0000309307909
                        ],
                        "iteration": 906,
                        "passed_time": 39.08806275,
                        "remaining_time": 4.007927051
                      },
                      {
                        "learn": [
                          0.0000309307909
                        ],
                        "iteration": 907,
                        "passed_time": 39.11313566,
                        "remaining_time": 3.963004935
                      },
                      {
                        "learn": [
                          0.0000309307909
                        ],
                        "iteration": 908,
                        "passed_time": 39.13562861,
                        "remaining_time": 3.917868211
                      },
                      {
                        "learn": [
                          0.0000309307909
                        ],
                        "iteration": 909,
                        "passed_time": 39.16219813,
                        "remaining_time": 3.87318443
                      },
                      {
                        "learn": [
                          0.0000309307909
                        ],
                        "iteration": 910,
                        "passed_time": 39.18467835,
                        "remaining_time": 3.828140914
                      },
                      {
                        "learn": [
                          0.0000309307909
                        ],
                        "iteration": 911,
                        "passed_time": 39.20712731,
                        "remaining_time": 3.783143863
                      },
                      {
                        "learn": [
                          0.0000309307909
                        ],
                        "iteration": 912,
                        "passed_time": 39.22940845,
                        "remaining_time": 3.738180214
                      },
                      {
                        "learn": [
                          0.0000309307909
                        ],
                        "iteration": 913,
                        "passed_time": 39.2603312,
                        "remaining_time": 3.694079303
                      },
                      {
                        "learn": [
                          0.0000309307909
                        ],
                        "iteration": 914,
                        "passed_time": 39.28297025,
                        "remaining_time": 3.649237674
                      },
                      {
                        "learn": [
                          0.0000309307909
                        ],
                        "iteration": 915,
                        "passed_time": 39.31272997,
                        "remaining_time": 3.605097508
                      },
                      {
                        "learn": [
                          0.0000309307909
                        ],
                        "iteration": 916,
                        "passed_time": 39.33867861,
                        "remaining_time": 3.560643757
                      },
                      {
                        "learn": [
                          0.0000309307909
                        ],
                        "iteration": 917,
                        "passed_time": 39.36113754,
                        "remaining_time": 3.515918604
                      },
                      {
                        "learn": [
                          0.0000309307909
                        ],
                        "iteration": 918,
                        "passed_time": 39.3834649,
                        "remaining_time": 3.471230312
                      },
                      {
                        "learn": [
                          0.0000309307909
                        ],
                        "iteration": 919,
                        "passed_time": 39.40604562,
                        "remaining_time": 3.426612663
                      },
                      {
                        "learn": [
                          0.0000309307909
                        ],
                        "iteration": 920,
                        "passed_time": 39.42833255,
                        "remaining_time": 3.382017667
                      },
                      {
                        "learn": [
                          0.0000309307909
                        ],
                        "iteration": 921,
                        "passed_time": 39.45104885,
                        "remaining_time": 3.337507387
                      },
                      {
                        "learn": [
                          0.0000309307909
                        ],
                        "iteration": 922,
                        "passed_time": 39.47321695,
                        "remaining_time": 3.292998597
                      },
                      {
                        "learn": [
                          0.0000309307909
                        ],
                        "iteration": 923,
                        "passed_time": 39.49566515,
                        "remaining_time": 3.248561203
                      },
                      {
                        "learn": [
                          0.0000309307909
                        ],
                        "iteration": 924,
                        "passed_time": 39.5182258,
                        "remaining_time": 3.20418047
                      },
                      {
                        "learn": [
                          0.0000309307909
                        ],
                        "iteration": 925,
                        "passed_time": 39.54073712,
                        "remaining_time": 3.159842923
                      },
                      {
                        "learn": [
                          0.0000309307909
                        ],
                        "iteration": 926,
                        "passed_time": 39.56300424,
                        "remaining_time": 3.115533236
                      },
                      {
                        "learn": [
                          0.0000309307909
                        ],
                        "iteration": 927,
                        "passed_time": 39.58530544,
                        "remaining_time": 3.071273698
                      },
                      {
                        "learn": [
                          0.0000309307909
                        ],
                        "iteration": 928,
                        "passed_time": 39.6078068,
                        "remaining_time": 3.027076731
                      },
                      {
                        "learn": [
                          0.0000309307909
                        ],
                        "iteration": 929,
                        "passed_time": 39.63009918,
                        "remaining_time": 2.982910691
                      },
                      {
                        "learn": [
                          0.0000309307909
                        ],
                        "iteration": 930,
                        "passed_time": 39.65215073,
                        "remaining_time": 2.938773792
                      },
                      {
                        "learn": [
                          0.0000309307909
                        ],
                        "iteration": 931,
                        "passed_time": 39.67813246,
                        "remaining_time": 2.894971038
                      },
                      {
                        "learn": [
                          0.0000309307909
                        ],
                        "iteration": 932,
                        "passed_time": 39.70225492,
                        "remaining_time": 2.851072968
                      },
                      {
                        "learn": [
                          0.0000309307909
                        ],
                        "iteration": 933,
                        "passed_time": 39.72466036,
                        "remaining_time": 2.807095914
                      },
                      {
                        "learn": [
                          0.0000309307909
                        ],
                        "iteration": 934,
                        "passed_time": 39.74724581,
                        "remaining_time": 2.763177516
                      },
                      {
                        "learn": [
                          0.0000309307909
                        ],
                        "iteration": 935,
                        "passed_time": 39.76954491,
                        "remaining_time": 2.719285122
                      },
                      {
                        "learn": [
                          0.0000309307909
                        ],
                        "iteration": 936,
                        "passed_time": 39.79192203,
                        "remaining_time": 2.675444064
                      },
                      {
                        "learn": [
                          0.0000309307909
                        ],
                        "iteration": 937,
                        "passed_time": 39.81421979,
                        "remaining_time": 2.631643525
                      },
                      {
                        "learn": [
                          0.0000309307909
                        ],
                        "iteration": 938,
                        "passed_time": 39.83634752,
                        "remaining_time": 2.587877741
                      },
                      {
                        "learn": [
                          0.0000309307909
                        ],
                        "iteration": 939,
                        "passed_time": 39.85849624,
                        "remaining_time": 2.544159335
                      },
                      {
                        "learn": [
                          0.0000309307909
                        ],
                        "iteration": 940,
                        "passed_time": 39.88086428,
                        "remaining_time": 2.500500524
                      },
                      {
                        "learn": [
                          0.0000309307909
                        ],
                        "iteration": 941,
                        "passed_time": 39.90316142,
                        "remaining_time": 2.45688255
                      },
                      {
                        "learn": [
                          0.0000309307909
                        ],
                        "iteration": 942,
                        "passed_time": 39.9570387,
                        "remaining_time": 2.41521867
                      },
                      {
                        "learn": [
                          0.0000309307909
                        ],
                        "iteration": 943,
                        "passed_time": 40.00440953,
                        "remaining_time": 2.373142938
                      },
                      {
                        "learn": [
                          0.0000309307909
                        ],
                        "iteration": 944,
                        "passed_time": 40.02643759,
                        "remaining_time": 2.329581024
                      },
                      {
                        "learn": [
                          0.0000309307909
                        ],
                        "iteration": 945,
                        "passed_time": 40.04873022,
                        "remaining_time": 2.286079738
                      },
                      {
                        "learn": [
                          0.0000309307909
                        ],
                        "iteration": 946,
                        "passed_time": 40.07094701,
                        "remaining_time": 2.242618999
                      },
                      {
                        "learn": [
                          0.0000309307909
                        ],
                        "iteration": 947,
                        "passed_time": 40.09293012,
                        "remaining_time": 2.19919026
                      },
                      {
                        "learn": [
                          0.0000309307909
                        ],
                        "iteration": 948,
                        "passed_time": 40.11677214,
                        "remaining_time": 2.155906617
                      },
                      {
                        "learn": [
                          0.0000309307909
                        ],
                        "iteration": 949,
                        "passed_time": 40.13875457,
                        "remaining_time": 2.11256603
                      },
                      {
                        "learn": [
                          0.0000309307909
                        ],
                        "iteration": 950,
                        "passed_time": 40.16079095,
                        "remaining_time": 2.06927314
                      },
                      {
                        "learn": [
                          0.0000309307909
                        ],
                        "iteration": 951,
                        "passed_time": 40.1828516,
                        "remaining_time": 2.026026131
                      },
                      {
                        "learn": [
                          0.0000309307909
                        ],
                        "iteration": 952,
                        "passed_time": 40.2050558,
                        "remaining_time": 1.982830664
                      },
                      {
                        "learn": [
                          0.0000309307909
                        ],
                        "iteration": 953,
                        "passed_time": 40.22702132,
                        "remaining_time": 1.939667695
                      },
                      {
                        "learn": [
                          0.0000309307909
                        ],
                        "iteration": 954,
                        "passed_time": 40.24939402,
                        "remaining_time": 1.896568304
                      },
                      {
                        "learn": [
                          0.0000309307909
                        ],
                        "iteration": 955,
                        "passed_time": 40.27149558,
                        "remaining_time": 1.853499797
                      },
                      {
                        "learn": [
                          0.0000309307909
                        ],
                        "iteration": 956,
                        "passed_time": 40.29360951,
                        "remaining_time": 1.810475662
                      },
                      {
                        "learn": [
                          0.0000309307909
                        ],
                        "iteration": 957,
                        "passed_time": 40.31741631,
                        "remaining_time": 1.7675694
                      },
                      {
                        "learn": [
                          0.0000309307909
                        ],
                        "iteration": 958,
                        "passed_time": 40.34875968,
                        "remaining_time": 1.725025179
                      },
                      {
                        "learn": [
                          0.0000309307909
                        ],
                        "iteration": 959,
                        "passed_time": 40.37073889,
                        "remaining_time": 1.68211412
                      },
                      {
                        "learn": [
                          0.0000309307909
                        ],
                        "iteration": 960,
                        "passed_time": 40.39335614,
                        "remaining_time": 1.639272518
                      },
                      {
                        "learn": [
                          0.0000309307909
                        ],
                        "iteration": 961,
                        "passed_time": 40.41570957,
                        "remaining_time": 1.59646254
                      },
                      {
                        "learn": [
                          0.0000309307909
                        ],
                        "iteration": 962,
                        "passed_time": 40.43773786,
                        "remaining_time": 1.553682555
                      },
                      {
                        "learn": [
                          0.0000309307909
                        ],
                        "iteration": 963,
                        "passed_time": 40.46044378,
                        "remaining_time": 1.510970929
                      },
                      {
                        "learn": [
                          0.0000309307909
                        ],
                        "iteration": 964,
                        "passed_time": 40.48268645,
                        "remaining_time": 1.468283964
                      },
                      {
                        "learn": [
                          0.0000309307909
                        ],
                        "iteration": 965,
                        "passed_time": 40.50499024,
                        "remaining_time": 1.425641478
                      },
                      {
                        "learn": [
                          0.0000309307909
                        ],
                        "iteration": 966,
                        "passed_time": 40.52710998,
                        "remaining_time": 1.383034777
                      },
                      {
                        "learn": [
                          0.0000309307909
                        ],
                        "iteration": 967,
                        "passed_time": 40.54926579,
                        "remaining_time": 1.340471596
                      },
                      {
                        "learn": [
                          0.0000309307909
                        ],
                        "iteration": 968,
                        "passed_time": 40.57287103,
                        "remaining_time": 1.297996906
                      },
                      {
                        "learn": [
                          0.0000309307909
                        ],
                        "iteration": 969,
                        "passed_time": 40.59561412,
                        "remaining_time": 1.255534457
                      },
                      {
                        "learn": [
                          0.0000309307909
                        ],
                        "iteration": 970,
                        "passed_time": 40.62039644,
                        "remaining_time": 1.213173529
                      },
                      {
                        "learn": [
                          0.0000309307909
                        ],
                        "iteration": 971,
                        "passed_time": 40.64280177,
                        "remaining_time": 1.170780298
                      },
                      {
                        "learn": [
                          0.0000309307909
                        ],
                        "iteration": 972,
                        "passed_time": 40.66485896,
                        "remaining_time": 1.128418491
                      },
                      {
                        "learn": [
                          0.0000309307909
                        ],
                        "iteration": 973,
                        "passed_time": 40.68679062,
                        "remaining_time": 1.086095027
                      },
                      {
                        "learn": [
                          0.0000309307909
                        ],
                        "iteration": 974,
                        "passed_time": 40.70896086,
                        "remaining_time": 1.043819509
                      },
                      {
                        "learn": [
                          0.0000309307909
                        ],
                        "iteration": 975,
                        "passed_time": 40.73086632,
                        "remaining_time": 1.00157868
                      },
                      {
                        "learn": [
                          0.0000309307909
                        ],
                        "iteration": 976,
                        "passed_time": 40.75625979,
                        "remaining_time": 0.9594615918
                      },
                      {
                        "learn": [
                          0.0000309307909
                        ],
                        "iteration": 977,
                        "passed_time": 40.77908232,
                        "remaining_time": 0.9173208701
                      },
                      {
                        "learn": [
                          0.0000309307909
                        ],
                        "iteration": 978,
                        "passed_time": 40.80138738,
                        "remaining_time": 0.8752085137
                      },
                      {
                        "learn": [
                          0.0000309307909
                        ],
                        "iteration": 979,
                        "passed_time": 40.82331889,
                        "remaining_time": 0.833128957
                      },
                      {
                        "learn": [
                          0.0000309307909
                        ],
                        "iteration": 980,
                        "passed_time": 40.84542096,
                        "remaining_time": 0.79109378
                      },
                      {
                        "learn": [
                          0.0000309307909
                        ],
                        "iteration": 981,
                        "passed_time": 40.86721973,
                        "remaining_time": 0.7490936406
                      },
                      {
                        "learn": [
                          0.0000309307909
                        ],
                        "iteration": 982,
                        "passed_time": 40.88918437,
                        "remaining_time": 0.7071374713
                      },
                      {
                        "learn": [
                          0.0000309307909
                        ],
                        "iteration": 983,
                        "passed_time": 40.91164702,
                        "remaining_time": 0.6652300329
                      },
                      {
                        "learn": [
                          0.0000309307909
                        ],
                        "iteration": 984,
                        "passed_time": 40.9336754,
                        "remaining_time": 0.623355463
                      },
                      {
                        "learn": [
                          0.0000309307909
                        ],
                        "iteration": 985,
                        "passed_time": 40.95565318,
                        "remaining_time": 0.5815204305
                      },
                      {
                        "learn": [
                          0.0000309307909
                        ],
                        "iteration": 986,
                        "passed_time": 41.03716093,
                        "remaining_time": 0.5405097184
                      },
                      {
                        "learn": [
                          0.0000309307909
                        ],
                        "iteration": 987,
                        "passed_time": 41.0832573,
                        "remaining_time": 0.4989869308
                      },
                      {
                        "learn": [
                          0.0000309307909
                        ],
                        "iteration": 988,
                        "passed_time": 41.10730677,
                        "remaining_time": 0.457209681
                      },
                      {
                        "learn": [
                          0.0000309307909
                        ],
                        "iteration": 989,
                        "passed_time": 41.12977232,
                        "remaining_time": 0.4154522457
                      },
                      {
                        "learn": [
                          0.0000309307909
                        ],
                        "iteration": 990,
                        "passed_time": 41.15187327,
                        "remaining_time": 0.3737304333
                      },
                      {
                        "learn": [
                          0.0000309307909
                        ],
                        "iteration": 991,
                        "passed_time": 41.17388852,
                        "remaining_time": 0.3320474881
                      },
                      {
                        "learn": [
                          0.0000309307909
                        ],
                        "iteration": 992,
                        "passed_time": 41.19655814,
                        "remaining_time": 0.2904087683
                      },
                      {
                        "learn": [
                          0.0000309307909
                        ],
                        "iteration": 993,
                        "passed_time": 41.21853198,
                        "remaining_time": 0.248804016
                      },
                      {
                        "learn": [
                          0.0000309307909
                        ],
                        "iteration": 994,
                        "passed_time": 41.2405621,
                        "remaining_time": 0.2072390055
                      },
                      {
                        "learn": [
                          0.0000309307909
                        ],
                        "iteration": 995,
                        "passed_time": 41.26246258,
                        "remaining_time": 0.1657127011
                      },
                      {
                        "learn": [
                          0.0000309307909
                        ],
                        "iteration": 996,
                        "passed_time": 41.28452712,
                        "remaining_time": 0.1242262601
                      },
                      {
                        "learn": [
                          0.0000309307909
                        ],
                        "iteration": 997,
                        "passed_time": 41.30777371,
                        "remaining_time": 0.08278110963
                      },
                      {
                        "learn": [
                          0.0000309307909
                        ],
                        "iteration": 998,
                        "passed_time": 41.32991207,
                        "remaining_time": 0.04137128336
                      },
                      {
                        "learn": [
                          0.0000309307909
                        ],
                        "iteration": 999,
                        "passed_time": 41.36131085,
                        "remaining_time": 0
                      }
                    ],
                    "meta": {
                      "test_sets": [],
                      "test_metrics": [],
                      "learn_metrics": [
                        {
                          "best_value": "Min",
                          "name": "Logloss"
                        }
                      ],
                      "launch_mode": "Train",
                      "parameters": "",
                      "iteration_count": 1000,
                      "learn_sets": [
                        "learn"
                      ],
                      "name": "experiment"
                    }
                  }
                }
              }
            },
            "layout": "IPY_MODEL_8c02a4f2bbec4d35a44784be0ded7843"
          }
        }
      }
    }
  },
  "cells": [
    {
      "cell_type": "markdown",
      "source": [
        "***Creating a dataset with 200000 enteries and performing catboost classifier and logistic regression.***"
      ],
      "metadata": {
        "id": "FJmX9c50jdkL"
      }
    },
    {
      "cell_type": "code",
      "source": [
        "import pandas as pd\n",
        "import numpy as np"
      ],
      "metadata": {
        "id": "fpTcj5p-OuN7"
      },
      "execution_count": null,
      "outputs": []
    },
    {
      "cell_type": "code",
      "execution_count": null,
      "metadata": {
        "id": "LLLCcQLyOkPW"
      },
      "outputs": [],
      "source": [
        "df=pd.DataFrame()"
      ]
    },
    {
      "cell_type": "code",
      "source": [
        "data = np.random.randint(23000, 850000, size=200000)\n",
        "df = pd.DataFrame(data, columns=['user_id'])\n",
        "df[\"user_id\"].value_counts()"
      ],
      "metadata": {
        "colab": {
          "base_uri": "https://localhost:8080/"
        },
        "id": "TnRHtXr0VuZp",
        "outputId": "84f36525-2861-4f9a-f838-a4beb362b346"
      },
      "execution_count": null,
      "outputs": [
        {
          "output_type": "execute_result",
          "data": {
            "text/plain": [
              "207910    6\n",
              "398838    5\n",
              "315619    5\n",
              "788015    5\n",
              "272076    4\n",
              "         ..\n",
              "337944    1\n",
              "238136    1\n",
              "332845    1\n",
              "104890    1\n",
              "480740    1\n",
              "Name: user_id, Length: 177623, dtype: int64"
            ]
          },
          "metadata": {},
          "execution_count": 3
        }
      ]
    },
    {
      "cell_type": "code",
      "source": [
        "request=[\"Hardware\",\"Software\"]\n",
        "df[\"type of Request\"]=np.random.choice(request,p=[0.7, 0.3], size=200000)\n",
        "df[\"type of Request\"].value_counts()"
      ],
      "metadata": {
        "colab": {
          "base_uri": "https://localhost:8080/"
        },
        "id": "HHwAiGdQRu2v",
        "outputId": "3334de76-7aa6-4254-e124-792c5909634e"
      },
      "execution_count": null,
      "outputs": [
        {
          "output_type": "execute_result",
          "data": {
            "text/plain": [
              "Hardware    139963\n",
              "Software     60037\n",
              "Name: type of Request, dtype: int64"
            ]
          },
          "metadata": {},
          "execution_count": 4
        }
      ]
    },
    {
      "cell_type": "code",
      "source": [
        "hardware=['Display', 'Battery', 'Memory', 'Camera', 'Touch Screen', 'Processor', 'SIM']\n",
        "software=[\"OS\",\"Network Type\", \"GPS\", \"UI\"]\n",
        "df.loc[df[\"type of Request\"]==\"Software\", 'type of hardware'] = 0\n",
        "df.loc[df[\"type of Request\"]==\"Hardware\", 'type of software'] = 0"
      ],
      "metadata": {
        "id": "dLL2mzEfSQoc"
      },
      "execution_count": null,
      "outputs": []
    },
    {
      "cell_type": "code",
      "source": [
        "df[\"type of hardware\"].value_counts()"
      ],
      "metadata": {
        "colab": {
          "base_uri": "https://localhost:8080/"
        },
        "id": "Wk0gJtkRTsgQ",
        "outputId": "08ac71de-218a-4a2e-b566-f479a5d90f0c"
      },
      "execution_count": null,
      "outputs": [
        {
          "output_type": "execute_result",
          "data": {
            "text/plain": [
              "0.0    60037\n",
              "Name: type of hardware, dtype: int64"
            ]
          },
          "metadata": {},
          "execution_count": 6
        }
      ]
    },
    {
      "cell_type": "code",
      "source": [
        "for i in range(0,200000):\n",
        "  if df[\"type of hardware\"][i]==0:\n",
        "    df['type of software'][i]=np.random.choice(software,p=[0.3, 0.3,0.2,0.2])\n",
        "  else:\n",
        "    df['type of hardware'][i]==0 "
      ],
      "metadata": {
        "colab": {
          "base_uri": "https://localhost:8080/"
        },
        "id": "f3BwpVtETXkK",
        "outputId": "56c5d288-96de-427f-aa86-9397e2f25b63"
      },
      "execution_count": null,
      "outputs": [
        {
          "output_type": "stream",
          "name": "stderr",
          "text": [
            "/usr/local/lib/python3.7/dist-packages/ipykernel_launcher.py:3: SettingWithCopyWarning: \n",
            "A value is trying to be set on a copy of a slice from a DataFrame\n",
            "\n",
            "See the caveats in the documentation: https://pandas.pydata.org/pandas-docs/stable/user_guide/indexing.html#returning-a-view-versus-a-copy\n",
            "  This is separate from the ipykernel package so we can avoid doing imports until\n",
            "/usr/local/lib/python3.7/dist-packages/pandas/core/indexing.py:1732: SettingWithCopyWarning: \n",
            "A value is trying to be set on a copy of a slice from a DataFrame\n",
            "\n",
            "See the caveats in the documentation: https://pandas.pydata.org/pandas-docs/stable/user_guide/indexing.html#returning-a-view-versus-a-copy\n",
            "  self._setitem_single_block(indexer, value, name)\n"
          ]
        }
      ]
    },
    {
      "cell_type": "code",
      "source": [
        "df[\"type of software\"].value_counts()"
      ],
      "metadata": {
        "colab": {
          "base_uri": "https://localhost:8080/"
        },
        "id": "8xoqYPHJT9wc",
        "outputId": "9ad13ad6-9253-4da4-b84c-614bb468d8f9"
      },
      "execution_count": null,
      "outputs": [
        {
          "output_type": "execute_result",
          "data": {
            "text/plain": [
              "0.0             139963\n",
              "Network Type     18132\n",
              "OS               17945\n",
              "GPS              12129\n",
              "UI               11831\n",
              "Name: type of software, dtype: int64"
            ]
          },
          "metadata": {},
          "execution_count": 8
        }
      ]
    },
    {
      "cell_type": "code",
      "source": [
        "for i in range(0,200000):\n",
        "  if df[\"type of software\"][i]==0:\n",
        "    df['type of hardware'][i]=np.random.choice(hardware,p=[0.15,0.15,0.2,0.3,0.1,0.05,0.05])\n",
        "  else:\n",
        "    df['type of software'][i]==0 "
      ],
      "metadata": {
        "colab": {
          "base_uri": "https://localhost:8080/"
        },
        "id": "L5lW5HSnUGLn",
        "outputId": "68023cae-c58b-48d7-b992-23da1495f309"
      },
      "execution_count": null,
      "outputs": [
        {
          "output_type": "stream",
          "name": "stderr",
          "text": [
            "/usr/local/lib/python3.7/dist-packages/ipykernel_launcher.py:3: SettingWithCopyWarning: \n",
            "A value is trying to be set on a copy of a slice from a DataFrame\n",
            "\n",
            "See the caveats in the documentation: https://pandas.pydata.org/pandas-docs/stable/user_guide/indexing.html#returning-a-view-versus-a-copy\n",
            "  This is separate from the ipykernel package so we can avoid doing imports until\n",
            "/usr/local/lib/python3.7/dist-packages/pandas/core/indexing.py:1732: SettingWithCopyWarning: \n",
            "A value is trying to be set on a copy of a slice from a DataFrame\n",
            "\n",
            "See the caveats in the documentation: https://pandas.pydata.org/pandas-docs/stable/user_guide/indexing.html#returning-a-view-versus-a-copy\n",
            "  self._setitem_single_block(indexer, value, name)\n"
          ]
        }
      ]
    },
    {
      "cell_type": "code",
      "source": [
        "df[\"type of hardware\"].value_counts()"
      ],
      "metadata": {
        "colab": {
          "base_uri": "https://localhost:8080/"
        },
        "id": "V0G2N70VUWZA",
        "outputId": "ffbd745b-06e3-4ed7-ac46-44531779b04f"
      },
      "execution_count": null,
      "outputs": [
        {
          "output_type": "execute_result",
          "data": {
            "text/plain": [
              "0.0             60037\n",
              "Camera          42259\n",
              "Memory          27677\n",
              "Display         21191\n",
              "Battery         21150\n",
              "Touch Screen    13847\n",
              "Processor        6968\n",
              "SIM              6871\n",
              "Name: type of hardware, dtype: int64"
            ]
          },
          "metadata": {},
          "execution_count": 10
        }
      ]
    },
    {
      "cell_type": "code",
      "source": [
        "display=['Display Size',\"Display Type\"]\n",
        "battery=[\" Good Battery capacity \"]\n",
        "memory=[\"RAM\",\"ROM\",\"Expandable\"]\n",
        "camera=[\"Front camera pixel\",\"Back camera pixel size\",\"Type of camera\"]\n",
        "touchscreen=[\"Required\",\"Dial Pad\"]\n",
        "processor=[\"No:of cores\",\"processor speed\"]\n",
        "sim=[\"single sim\",\"dual sim\"]\n",
        "\n",
        "os=[\"Android\",\"ios\"]\n",
        "network_type=[\"4G\",\"3G\",\"GSM\"]\n",
        "GPS=[\"availablity of gps_required\"]\n",
        "UI=[\"Touch sensitivity\"]\n",
        "\n",
        "df.loc[df[\"type of hardware\"]==0.0, 'Description'] = 0\n",
        "#mobile_data_new.loc[mobile_data_new[\"type of hardware\"]==0.0, 'Description'] = 0\n",
        "for i in range(0,200000):\n",
        "    \n",
        "      if df[\"type of hardware\"][i]==\"Display\":\n",
        "        df[\"Description\"][i]=np.random.choice(display,p=[0.4,0.6])\n",
        "      elif df[\"type of hardware\"][i]==\"Battery\":\n",
        "        df[\"Description\"][i]=np.random.choice(battery)\n",
        "      elif df[\"type of hardware\"][i]==\"Memory\": \n",
        "        df[\"Description\"][i]=np.random.choice(memory,p=[0.45,0.2,0.35]) \n",
        "      elif df[\"type of hardware\"][i]==\"Camera\":\n",
        "        df[\"Description\"][i]=np.random.choice(camera,p=[0.3,0.45,0.25])  \n",
        "      elif df[\"type of hardware\"][i]==\"Touch Screen\":\n",
        "        df[\"Description\"][i]=np.random.choice(touchscreen)   \n",
        "      elif df[\"type of hardware\"][i]==\"Processor\":\n",
        "        df[\"Description\"][i]=np.random.choice(processor,p=[0.4,0.6]) \n",
        "      elif df[\"type of hardware\"][i]==\"SIM\":\n",
        "        df[\"Description\"][i]=np.random.choice(sim,p=[0.4,0.6])  \n",
        "      elif  df[\"type of software\"][i]==\"OS\":\n",
        "        df[\"Description\"][i]=np.random.choice(os,p=[0.65,0.35])  \n",
        "      elif df[\"type of software\"][i]==\"Network Type\":\n",
        "        df[\"Description\"][i]=np.random.choice(network_type,p=[0.6,0.3,0.1])  \n",
        "      elif df[\"type of software\"][i]==\"GPS\":\n",
        "        df[\"Description\"][i]=np.random.choice(GPS)  \n",
        "      elif df[\"type of software\"][i]==\"UI\":\n",
        "          df[\"Description\"][i]=np.random.choice(UI) \n",
        "\n",
        "\n",
        "  #mobile_data_new.loc[mobile_data_new[\"type of hardware\"].isnull(),'type of hardware'] = np.random.choice(hardware,size=len(mobile_data_new))\n",
        "print(df['Description'].value_counts())"
      ],
      "metadata": {
        "colab": {
          "base_uri": "https://localhost:8080/"
        },
        "id": "D2qzcS-OUck1",
        "outputId": "a77436e9-fffc-48c2-9f7c-39644eea4a70"
      },
      "execution_count": null,
      "outputs": [
        {
          "output_type": "stream",
          "name": "stderr",
          "text": [
            "/usr/local/lib/python3.7/dist-packages/ipykernel_launcher.py:35: SettingWithCopyWarning: \n",
            "A value is trying to be set on a copy of a slice from a DataFrame\n",
            "\n",
            "See the caveats in the documentation: https://pandas.pydata.org/pandas-docs/stable/user_guide/indexing.html#returning-a-view-versus-a-copy\n",
            "/usr/local/lib/python3.7/dist-packages/pandas/core/indexing.py:1732: SettingWithCopyWarning: \n",
            "A value is trying to be set on a copy of a slice from a DataFrame\n",
            "\n",
            "See the caveats in the documentation: https://pandas.pydata.org/pandas-docs/stable/user_guide/indexing.html#returning-a-view-versus-a-copy\n",
            "  self._setitem_single_block(indexer, value, name)\n"
          ]
        },
        {
          "output_type": "stream",
          "name": "stdout",
          "text": [
            " Good Battery capacity         21150\n",
            "Back camera pixel size         19155\n",
            "Display Type                   12824\n",
            "Front camera pixel             12594\n",
            "RAM                            12333\n",
            "availablity of gps_required    12129\n",
            "Touch sensitivity              11831\n",
            "Android                        11625\n",
            "4G                             10820\n",
            "Type of camera                 10510\n",
            "Expandable                      9762\n",
            "Display Size                    8367\n",
            "Dial Pad                        7072\n",
            "Required                        6775\n",
            "ios                             6320\n",
            "ROM                             5582\n",
            "3G                              5529\n",
            "dual sim                        4132\n",
            "processor speed                 4122\n",
            "No:of cores                     2846\n",
            "single sim                      2739\n",
            "GSM                             1783\n",
            "Name: Description, dtype: int64\n"
          ]
        }
      ]
    },
    {
      "cell_type": "code",
      "source": [
        "df.head()"
      ],
      "metadata": {
        "colab": {
          "base_uri": "https://localhost:8080/",
          "height": 206
        },
        "id": "IcnQouTGVOSs",
        "outputId": "7769b7c9-7f5f-4e6b-8f68-6576346dea81"
      },
      "execution_count": null,
      "outputs": [
        {
          "output_type": "execute_result",
          "data": {
            "text/plain": [
              "   user_id type of Request type of hardware type of software  \\\n",
              "0   417884        Software              0.0     Network Type   \n",
              "1   823322        Hardware           Camera              0.0   \n",
              "2   611471        Hardware          Battery              0.0   \n",
              "3   589828        Hardware          Display              0.0   \n",
              "4   146153        Software              0.0               OS   \n",
              "\n",
              "               Description  \n",
              "0                       3G  \n",
              "1   Back camera pixel size  \n",
              "2   Good Battery capacity   \n",
              "3             Display Type  \n",
              "4                  Android  "
            ],
            "text/html": [
              "\n",
              "  <div id=\"df-be065298-1019-4c75-80fe-6343228ed166\">\n",
              "    <div class=\"colab-df-container\">\n",
              "      <div>\n",
              "<style scoped>\n",
              "    .dataframe tbody tr th:only-of-type {\n",
              "        vertical-align: middle;\n",
              "    }\n",
              "\n",
              "    .dataframe tbody tr th {\n",
              "        vertical-align: top;\n",
              "    }\n",
              "\n",
              "    .dataframe thead th {\n",
              "        text-align: right;\n",
              "    }\n",
              "</style>\n",
              "<table border=\"1\" class=\"dataframe\">\n",
              "  <thead>\n",
              "    <tr style=\"text-align: right;\">\n",
              "      <th></th>\n",
              "      <th>user_id</th>\n",
              "      <th>type of Request</th>\n",
              "      <th>type of hardware</th>\n",
              "      <th>type of software</th>\n",
              "      <th>Description</th>\n",
              "    </tr>\n",
              "  </thead>\n",
              "  <tbody>\n",
              "    <tr>\n",
              "      <th>0</th>\n",
              "      <td>417884</td>\n",
              "      <td>Software</td>\n",
              "      <td>0.0</td>\n",
              "      <td>Network Type</td>\n",
              "      <td>3G</td>\n",
              "    </tr>\n",
              "    <tr>\n",
              "      <th>1</th>\n",
              "      <td>823322</td>\n",
              "      <td>Hardware</td>\n",
              "      <td>Camera</td>\n",
              "      <td>0.0</td>\n",
              "      <td>Back camera pixel size</td>\n",
              "    </tr>\n",
              "    <tr>\n",
              "      <th>2</th>\n",
              "      <td>611471</td>\n",
              "      <td>Hardware</td>\n",
              "      <td>Battery</td>\n",
              "      <td>0.0</td>\n",
              "      <td>Good Battery capacity</td>\n",
              "    </tr>\n",
              "    <tr>\n",
              "      <th>3</th>\n",
              "      <td>589828</td>\n",
              "      <td>Hardware</td>\n",
              "      <td>Display</td>\n",
              "      <td>0.0</td>\n",
              "      <td>Display Type</td>\n",
              "    </tr>\n",
              "    <tr>\n",
              "      <th>4</th>\n",
              "      <td>146153</td>\n",
              "      <td>Software</td>\n",
              "      <td>0.0</td>\n",
              "      <td>OS</td>\n",
              "      <td>Android</td>\n",
              "    </tr>\n",
              "  </tbody>\n",
              "</table>\n",
              "</div>\n",
              "      <button class=\"colab-df-convert\" onclick=\"convertToInteractive('df-be065298-1019-4c75-80fe-6343228ed166')\"\n",
              "              title=\"Convert this dataframe to an interactive table.\"\n",
              "              style=\"display:none;\">\n",
              "        \n",
              "  <svg xmlns=\"http://www.w3.org/2000/svg\" height=\"24px\"viewBox=\"0 0 24 24\"\n",
              "       width=\"24px\">\n",
              "    <path d=\"M0 0h24v24H0V0z\" fill=\"none\"/>\n",
              "    <path d=\"M18.56 5.44l.94 2.06.94-2.06 2.06-.94-2.06-.94-.94-2.06-.94 2.06-2.06.94zm-11 1L8.5 8.5l.94-2.06 2.06-.94-2.06-.94L8.5 2.5l-.94 2.06-2.06.94zm10 10l.94 2.06.94-2.06 2.06-.94-2.06-.94-.94-2.06-.94 2.06-2.06.94z\"/><path d=\"M17.41 7.96l-1.37-1.37c-.4-.4-.92-.59-1.43-.59-.52 0-1.04.2-1.43.59L10.3 9.45l-7.72 7.72c-.78.78-.78 2.05 0 2.83L4 21.41c.39.39.9.59 1.41.59.51 0 1.02-.2 1.41-.59l7.78-7.78 2.81-2.81c.8-.78.8-2.07 0-2.86zM5.41 20L4 18.59l7.72-7.72 1.47 1.35L5.41 20z\"/>\n",
              "  </svg>\n",
              "      </button>\n",
              "      \n",
              "  <style>\n",
              "    .colab-df-container {\n",
              "      display:flex;\n",
              "      flex-wrap:wrap;\n",
              "      gap: 12px;\n",
              "    }\n",
              "\n",
              "    .colab-df-convert {\n",
              "      background-color: #E8F0FE;\n",
              "      border: none;\n",
              "      border-radius: 50%;\n",
              "      cursor: pointer;\n",
              "      display: none;\n",
              "      fill: #1967D2;\n",
              "      height: 32px;\n",
              "      padding: 0 0 0 0;\n",
              "      width: 32px;\n",
              "    }\n",
              "\n",
              "    .colab-df-convert:hover {\n",
              "      background-color: #E2EBFA;\n",
              "      box-shadow: 0px 1px 2px rgba(60, 64, 67, 0.3), 0px 1px 3px 1px rgba(60, 64, 67, 0.15);\n",
              "      fill: #174EA6;\n",
              "    }\n",
              "\n",
              "    [theme=dark] .colab-df-convert {\n",
              "      background-color: #3B4455;\n",
              "      fill: #D2E3FC;\n",
              "    }\n",
              "\n",
              "    [theme=dark] .colab-df-convert:hover {\n",
              "      background-color: #434B5C;\n",
              "      box-shadow: 0px 1px 3px 1px rgba(0, 0, 0, 0.15);\n",
              "      filter: drop-shadow(0px 1px 2px rgba(0, 0, 0, 0.3));\n",
              "      fill: #FFFFFF;\n",
              "    }\n",
              "  </style>\n",
              "\n",
              "      <script>\n",
              "        const buttonEl =\n",
              "          document.querySelector('#df-be065298-1019-4c75-80fe-6343228ed166 button.colab-df-convert');\n",
              "        buttonEl.style.display =\n",
              "          google.colab.kernel.accessAllowed ? 'block' : 'none';\n",
              "\n",
              "        async function convertToInteractive(key) {\n",
              "          const element = document.querySelector('#df-be065298-1019-4c75-80fe-6343228ed166');\n",
              "          const dataTable =\n",
              "            await google.colab.kernel.invokeFunction('convertToInteractive',\n",
              "                                                     [key], {});\n",
              "          if (!dataTable) return;\n",
              "\n",
              "          const docLinkHtml = 'Like what you see? Visit the ' +\n",
              "            '<a target=\"_blank\" href=https://colab.research.google.com/notebooks/data_table.ipynb>data table notebook</a>'\n",
              "            + ' to learn more about interactive tables.';\n",
              "          element.innerHTML = '';\n",
              "          dataTable['output_type'] = 'display_data';\n",
              "          await google.colab.output.renderOutput(dataTable, element);\n",
              "          const docLink = document.createElement('div');\n",
              "          docLink.innerHTML = docLinkHtml;\n",
              "          element.appendChild(docLink);\n",
              "        }\n",
              "      </script>\n",
              "    </div>\n",
              "  </div>\n",
              "  "
            ]
          },
          "metadata": {},
          "execution_count": 12
        }
      ]
    },
    {
      "cell_type": "markdown",
      "source": [
        " **A dummy dataset of 200000 enteries and columns user id, type of request, type of hardware, type of software and description is created.**"
      ],
      "metadata": {
        "id": "6_PthFqQvJBv"
      }
    },
    {
      "cell_type": "markdown",
      "source": [
        "Converting that into a CSV file"
      ],
      "metadata": {
        "id": "r60145Cqvf88"
      }
    },
    {
      "cell_type": "code",
      "source": [
        "df.to_csv(\"hardware_software.csv\",header=True,index=False)"
      ],
      "metadata": {
        "id": "L0UjBs2OVeqe"
      },
      "execution_count": null,
      "outputs": []
    },
    {
      "cell_type": "code",
      "source": [
        "#new data is the name of our dummy dataset\n",
        "new_data=pd.read_csv(\"/content/hardware_software.csv\")"
      ],
      "metadata": {
        "id": "zZM0YMqiWD6F"
      },
      "execution_count": null,
      "outputs": []
    },
    {
      "cell_type": "code",
      "source": [
        "#two copies of our dataset is created\n",
        "new_data_copy=new_data.copy()\n",
        "new_data_2= new_data"
      ],
      "metadata": {
        "id": "ZEtzS-B5krIm"
      },
      "execution_count": null,
      "outputs": []
    },
    {
      "cell_type": "code",
      "source": [
        "new_data_2.shape"
      ],
      "metadata": {
        "colab": {
          "base_uri": "https://localhost:8080/"
        },
        "id": "2xH7P0J0vwtj",
        "outputId": "7dfb174f-d1ad-4206-c3fa-f6b2486658f1"
      },
      "execution_count": null,
      "outputs": [
        {
          "output_type": "execute_result",
          "data": {
            "text/plain": [
              "(200000, 5)"
            ]
          },
          "metadata": {},
          "execution_count": 16
        }
      ]
    },
    {
      "cell_type": "code",
      "source": [
        "new_data_copy.head(2)"
      ],
      "metadata": {
        "colab": {
          "base_uri": "https://localhost:8080/",
          "height": 112
        },
        "id": "HTA4a9z0lPiq",
        "outputId": "8d6c1601-800d-43c5-dc5c-c4c36d0f3680"
      },
      "execution_count": null,
      "outputs": [
        {
          "output_type": "execute_result",
          "data": {
            "text/plain": [
              "   user_id type of Request type of hardware type of software  \\\n",
              "0   417884        Software              0.0     Network Type   \n",
              "1   823322        Hardware           Camera              0.0   \n",
              "\n",
              "              Description  \n",
              "0                      3G  \n",
              "1  Back camera pixel size  "
            ],
            "text/html": [
              "\n",
              "  <div id=\"df-d4325c13-610f-4322-a872-3c6cf7dc8dd1\">\n",
              "    <div class=\"colab-df-container\">\n",
              "      <div>\n",
              "<style scoped>\n",
              "    .dataframe tbody tr th:only-of-type {\n",
              "        vertical-align: middle;\n",
              "    }\n",
              "\n",
              "    .dataframe tbody tr th {\n",
              "        vertical-align: top;\n",
              "    }\n",
              "\n",
              "    .dataframe thead th {\n",
              "        text-align: right;\n",
              "    }\n",
              "</style>\n",
              "<table border=\"1\" class=\"dataframe\">\n",
              "  <thead>\n",
              "    <tr style=\"text-align: right;\">\n",
              "      <th></th>\n",
              "      <th>user_id</th>\n",
              "      <th>type of Request</th>\n",
              "      <th>type of hardware</th>\n",
              "      <th>type of software</th>\n",
              "      <th>Description</th>\n",
              "    </tr>\n",
              "  </thead>\n",
              "  <tbody>\n",
              "    <tr>\n",
              "      <th>0</th>\n",
              "      <td>417884</td>\n",
              "      <td>Software</td>\n",
              "      <td>0.0</td>\n",
              "      <td>Network Type</td>\n",
              "      <td>3G</td>\n",
              "    </tr>\n",
              "    <tr>\n",
              "      <th>1</th>\n",
              "      <td>823322</td>\n",
              "      <td>Hardware</td>\n",
              "      <td>Camera</td>\n",
              "      <td>0.0</td>\n",
              "      <td>Back camera pixel size</td>\n",
              "    </tr>\n",
              "  </tbody>\n",
              "</table>\n",
              "</div>\n",
              "      <button class=\"colab-df-convert\" onclick=\"convertToInteractive('df-d4325c13-610f-4322-a872-3c6cf7dc8dd1')\"\n",
              "              title=\"Convert this dataframe to an interactive table.\"\n",
              "              style=\"display:none;\">\n",
              "        \n",
              "  <svg xmlns=\"http://www.w3.org/2000/svg\" height=\"24px\"viewBox=\"0 0 24 24\"\n",
              "       width=\"24px\">\n",
              "    <path d=\"M0 0h24v24H0V0z\" fill=\"none\"/>\n",
              "    <path d=\"M18.56 5.44l.94 2.06.94-2.06 2.06-.94-2.06-.94-.94-2.06-.94 2.06-2.06.94zm-11 1L8.5 8.5l.94-2.06 2.06-.94-2.06-.94L8.5 2.5l-.94 2.06-2.06.94zm10 10l.94 2.06.94-2.06 2.06-.94-2.06-.94-.94-2.06-.94 2.06-2.06.94z\"/><path d=\"M17.41 7.96l-1.37-1.37c-.4-.4-.92-.59-1.43-.59-.52 0-1.04.2-1.43.59L10.3 9.45l-7.72 7.72c-.78.78-.78 2.05 0 2.83L4 21.41c.39.39.9.59 1.41.59.51 0 1.02-.2 1.41-.59l7.78-7.78 2.81-2.81c.8-.78.8-2.07 0-2.86zM5.41 20L4 18.59l7.72-7.72 1.47 1.35L5.41 20z\"/>\n",
              "  </svg>\n",
              "      </button>\n",
              "      \n",
              "  <style>\n",
              "    .colab-df-container {\n",
              "      display:flex;\n",
              "      flex-wrap:wrap;\n",
              "      gap: 12px;\n",
              "    }\n",
              "\n",
              "    .colab-df-convert {\n",
              "      background-color: #E8F0FE;\n",
              "      border: none;\n",
              "      border-radius: 50%;\n",
              "      cursor: pointer;\n",
              "      display: none;\n",
              "      fill: #1967D2;\n",
              "      height: 32px;\n",
              "      padding: 0 0 0 0;\n",
              "      width: 32px;\n",
              "    }\n",
              "\n",
              "    .colab-df-convert:hover {\n",
              "      background-color: #E2EBFA;\n",
              "      box-shadow: 0px 1px 2px rgba(60, 64, 67, 0.3), 0px 1px 3px 1px rgba(60, 64, 67, 0.15);\n",
              "      fill: #174EA6;\n",
              "    }\n",
              "\n",
              "    [theme=dark] .colab-df-convert {\n",
              "      background-color: #3B4455;\n",
              "      fill: #D2E3FC;\n",
              "    }\n",
              "\n",
              "    [theme=dark] .colab-df-convert:hover {\n",
              "      background-color: #434B5C;\n",
              "      box-shadow: 0px 1px 3px 1px rgba(0, 0, 0, 0.15);\n",
              "      filter: drop-shadow(0px 1px 2px rgba(0, 0, 0, 0.3));\n",
              "      fill: #FFFFFF;\n",
              "    }\n",
              "  </style>\n",
              "\n",
              "      <script>\n",
              "        const buttonEl =\n",
              "          document.querySelector('#df-d4325c13-610f-4322-a872-3c6cf7dc8dd1 button.colab-df-convert');\n",
              "        buttonEl.style.display =\n",
              "          google.colab.kernel.accessAllowed ? 'block' : 'none';\n",
              "\n",
              "        async function convertToInteractive(key) {\n",
              "          const element = document.querySelector('#df-d4325c13-610f-4322-a872-3c6cf7dc8dd1');\n",
              "          const dataTable =\n",
              "            await google.colab.kernel.invokeFunction('convertToInteractive',\n",
              "                                                     [key], {});\n",
              "          if (!dataTable) return;\n",
              "\n",
              "          const docLinkHtml = 'Like what you see? Visit the ' +\n",
              "            '<a target=\"_blank\" href=https://colab.research.google.com/notebooks/data_table.ipynb>data table notebook</a>'\n",
              "            + ' to learn more about interactive tables.';\n",
              "          element.innerHTML = '';\n",
              "          dataTable['output_type'] = 'display_data';\n",
              "          await google.colab.output.renderOutput(dataTable, element);\n",
              "          const docLink = document.createElement('div');\n",
              "          docLink.innerHTML = docLinkHtml;\n",
              "          element.appendChild(docLink);\n",
              "        }\n",
              "      </script>\n",
              "    </div>\n",
              "  </div>\n",
              "  "
            ]
          },
          "metadata": {},
          "execution_count": 17
        }
      ]
    },
    {
      "cell_type": "code",
      "source": [
        "new_data.head()"
      ],
      "metadata": {
        "colab": {
          "base_uri": "https://localhost:8080/",
          "height": 206
        },
        "id": "OIErAmPZWMnw",
        "outputId": "8843cd93-7e09-46f8-e094-466c9319b246"
      },
      "execution_count": null,
      "outputs": [
        {
          "output_type": "execute_result",
          "data": {
            "text/plain": [
              "   user_id type of Request type of hardware type of software  \\\n",
              "0   417884        Software              0.0     Network Type   \n",
              "1   823322        Hardware           Camera              0.0   \n",
              "2   611471        Hardware          Battery              0.0   \n",
              "3   589828        Hardware          Display              0.0   \n",
              "4   146153        Software              0.0               OS   \n",
              "\n",
              "               Description  \n",
              "0                       3G  \n",
              "1   Back camera pixel size  \n",
              "2   Good Battery capacity   \n",
              "3             Display Type  \n",
              "4                  Android  "
            ],
            "text/html": [
              "\n",
              "  <div id=\"df-2e699333-2ae1-41f0-989c-d43141107b72\">\n",
              "    <div class=\"colab-df-container\">\n",
              "      <div>\n",
              "<style scoped>\n",
              "    .dataframe tbody tr th:only-of-type {\n",
              "        vertical-align: middle;\n",
              "    }\n",
              "\n",
              "    .dataframe tbody tr th {\n",
              "        vertical-align: top;\n",
              "    }\n",
              "\n",
              "    .dataframe thead th {\n",
              "        text-align: right;\n",
              "    }\n",
              "</style>\n",
              "<table border=\"1\" class=\"dataframe\">\n",
              "  <thead>\n",
              "    <tr style=\"text-align: right;\">\n",
              "      <th></th>\n",
              "      <th>user_id</th>\n",
              "      <th>type of Request</th>\n",
              "      <th>type of hardware</th>\n",
              "      <th>type of software</th>\n",
              "      <th>Description</th>\n",
              "    </tr>\n",
              "  </thead>\n",
              "  <tbody>\n",
              "    <tr>\n",
              "      <th>0</th>\n",
              "      <td>417884</td>\n",
              "      <td>Software</td>\n",
              "      <td>0.0</td>\n",
              "      <td>Network Type</td>\n",
              "      <td>3G</td>\n",
              "    </tr>\n",
              "    <tr>\n",
              "      <th>1</th>\n",
              "      <td>823322</td>\n",
              "      <td>Hardware</td>\n",
              "      <td>Camera</td>\n",
              "      <td>0.0</td>\n",
              "      <td>Back camera pixel size</td>\n",
              "    </tr>\n",
              "    <tr>\n",
              "      <th>2</th>\n",
              "      <td>611471</td>\n",
              "      <td>Hardware</td>\n",
              "      <td>Battery</td>\n",
              "      <td>0.0</td>\n",
              "      <td>Good Battery capacity</td>\n",
              "    </tr>\n",
              "    <tr>\n",
              "      <th>3</th>\n",
              "      <td>589828</td>\n",
              "      <td>Hardware</td>\n",
              "      <td>Display</td>\n",
              "      <td>0.0</td>\n",
              "      <td>Display Type</td>\n",
              "    </tr>\n",
              "    <tr>\n",
              "      <th>4</th>\n",
              "      <td>146153</td>\n",
              "      <td>Software</td>\n",
              "      <td>0.0</td>\n",
              "      <td>OS</td>\n",
              "      <td>Android</td>\n",
              "    </tr>\n",
              "  </tbody>\n",
              "</table>\n",
              "</div>\n",
              "      <button class=\"colab-df-convert\" onclick=\"convertToInteractive('df-2e699333-2ae1-41f0-989c-d43141107b72')\"\n",
              "              title=\"Convert this dataframe to an interactive table.\"\n",
              "              style=\"display:none;\">\n",
              "        \n",
              "  <svg xmlns=\"http://www.w3.org/2000/svg\" height=\"24px\"viewBox=\"0 0 24 24\"\n",
              "       width=\"24px\">\n",
              "    <path d=\"M0 0h24v24H0V0z\" fill=\"none\"/>\n",
              "    <path d=\"M18.56 5.44l.94 2.06.94-2.06 2.06-.94-2.06-.94-.94-2.06-.94 2.06-2.06.94zm-11 1L8.5 8.5l.94-2.06 2.06-.94-2.06-.94L8.5 2.5l-.94 2.06-2.06.94zm10 10l.94 2.06.94-2.06 2.06-.94-2.06-.94-.94-2.06-.94 2.06-2.06.94z\"/><path d=\"M17.41 7.96l-1.37-1.37c-.4-.4-.92-.59-1.43-.59-.52 0-1.04.2-1.43.59L10.3 9.45l-7.72 7.72c-.78.78-.78 2.05 0 2.83L4 21.41c.39.39.9.59 1.41.59.51 0 1.02-.2 1.41-.59l7.78-7.78 2.81-2.81c.8-.78.8-2.07 0-2.86zM5.41 20L4 18.59l7.72-7.72 1.47 1.35L5.41 20z\"/>\n",
              "  </svg>\n",
              "      </button>\n",
              "      \n",
              "  <style>\n",
              "    .colab-df-container {\n",
              "      display:flex;\n",
              "      flex-wrap:wrap;\n",
              "      gap: 12px;\n",
              "    }\n",
              "\n",
              "    .colab-df-convert {\n",
              "      background-color: #E8F0FE;\n",
              "      border: none;\n",
              "      border-radius: 50%;\n",
              "      cursor: pointer;\n",
              "      display: none;\n",
              "      fill: #1967D2;\n",
              "      height: 32px;\n",
              "      padding: 0 0 0 0;\n",
              "      width: 32px;\n",
              "    }\n",
              "\n",
              "    .colab-df-convert:hover {\n",
              "      background-color: #E2EBFA;\n",
              "      box-shadow: 0px 1px 2px rgba(60, 64, 67, 0.3), 0px 1px 3px 1px rgba(60, 64, 67, 0.15);\n",
              "      fill: #174EA6;\n",
              "    }\n",
              "\n",
              "    [theme=dark] .colab-df-convert {\n",
              "      background-color: #3B4455;\n",
              "      fill: #D2E3FC;\n",
              "    }\n",
              "\n",
              "    [theme=dark] .colab-df-convert:hover {\n",
              "      background-color: #434B5C;\n",
              "      box-shadow: 0px 1px 3px 1px rgba(0, 0, 0, 0.15);\n",
              "      filter: drop-shadow(0px 1px 2px rgba(0, 0, 0, 0.3));\n",
              "      fill: #FFFFFF;\n",
              "    }\n",
              "  </style>\n",
              "\n",
              "      <script>\n",
              "        const buttonEl =\n",
              "          document.querySelector('#df-2e699333-2ae1-41f0-989c-d43141107b72 button.colab-df-convert');\n",
              "        buttonEl.style.display =\n",
              "          google.colab.kernel.accessAllowed ? 'block' : 'none';\n",
              "\n",
              "        async function convertToInteractive(key) {\n",
              "          const element = document.querySelector('#df-2e699333-2ae1-41f0-989c-d43141107b72');\n",
              "          const dataTable =\n",
              "            await google.colab.kernel.invokeFunction('convertToInteractive',\n",
              "                                                     [key], {});\n",
              "          if (!dataTable) return;\n",
              "\n",
              "          const docLinkHtml = 'Like what you see? Visit the ' +\n",
              "            '<a target=\"_blank\" href=https://colab.research.google.com/notebooks/data_table.ipynb>data table notebook</a>'\n",
              "            + ' to learn more about interactive tables.';\n",
              "          element.innerHTML = '';\n",
              "          dataTable['output_type'] = 'display_data';\n",
              "          await google.colab.output.renderOutput(dataTable, element);\n",
              "          const docLink = document.createElement('div');\n",
              "          docLink.innerHTML = docLinkHtml;\n",
              "          element.appendChild(docLink);\n",
              "        }\n",
              "      </script>\n",
              "    </div>\n",
              "  </div>\n",
              "  "
            ]
          },
          "metadata": {},
          "execution_count": 18
        }
      ]
    },
    {
      "cell_type": "code",
      "source": [
        "df.to_csv(\"F:\\\\ictak_internship\\\\MobileDataSets\\\\hardware_software.csv\",header=True,index=False)"
      ],
      "metadata": {
        "id": "NymFad_fbqcq"
      },
      "execution_count": null,
      "outputs": []
    },
    {
      "cell_type": "code",
      "source": [
        ""
      ],
      "metadata": {
        "id": "699p78J1olbL"
      },
      "execution_count": null,
      "outputs": []
    },
    {
      "cell_type": "markdown",
      "source": [
        "**Classification modelling** "
      ],
      "metadata": {
        "id": "iIwgmozqv7ux"
      }
    },
    {
      "cell_type": "markdown",
      "source": [
        "***Encoding Standard scaling and train and test splitting of our dataset***"
      ],
      "metadata": {
        "id": "JPy9D84GwBjr"
      }
    },
    {
      "cell_type": "code",
      "source": [
        "pip install catboost"
      ],
      "metadata": {
        "colab": {
          "base_uri": "https://localhost:8080/"
        },
        "id": "BGu9w3I8iIah",
        "outputId": "4709655b-e5b9-4466-8c9b-1a8a446cf2b5"
      },
      "execution_count": null,
      "outputs": [
        {
          "output_type": "stream",
          "name": "stdout",
          "text": [
            "Collecting catboost\n",
            "  Downloading catboost-1.0.4-cp37-none-manylinux1_x86_64.whl (76.1 MB)\n",
            "\u001b[K     |████████████████████████████████| 76.1 MB 1.3 MB/s \n",
            "\u001b[?25hRequirement already satisfied: scipy in /usr/local/lib/python3.7/dist-packages (from catboost) (1.4.1)\n",
            "Requirement already satisfied: six in /usr/local/lib/python3.7/dist-packages (from catboost) (1.15.0)\n",
            "Requirement already satisfied: matplotlib in /usr/local/lib/python3.7/dist-packages (from catboost) (3.2.2)\n",
            "Requirement already satisfied: numpy>=1.16.0 in /usr/local/lib/python3.7/dist-packages (from catboost) (1.21.5)\n",
            "Requirement already satisfied: pandas>=0.24.0 in /usr/local/lib/python3.7/dist-packages (from catboost) (1.3.5)\n",
            "Requirement already satisfied: graphviz in /usr/local/lib/python3.7/dist-packages (from catboost) (0.10.1)\n",
            "Requirement already satisfied: plotly in /usr/local/lib/python3.7/dist-packages (from catboost) (5.5.0)\n",
            "Requirement already satisfied: python-dateutil>=2.7.3 in /usr/local/lib/python3.7/dist-packages (from pandas>=0.24.0->catboost) (2.8.2)\n",
            "Requirement already satisfied: pytz>=2017.3 in /usr/local/lib/python3.7/dist-packages (from pandas>=0.24.0->catboost) (2018.9)\n",
            "Requirement already satisfied: pyparsing!=2.0.4,!=2.1.2,!=2.1.6,>=2.0.1 in /usr/local/lib/python3.7/dist-packages (from matplotlib->catboost) (3.0.7)\n",
            "Requirement already satisfied: kiwisolver>=1.0.1 in /usr/local/lib/python3.7/dist-packages (from matplotlib->catboost) (1.3.2)\n",
            "Requirement already satisfied: cycler>=0.10 in /usr/local/lib/python3.7/dist-packages (from matplotlib->catboost) (0.11.0)\n",
            "Requirement already satisfied: tenacity>=6.2.0 in /usr/local/lib/python3.7/dist-packages (from plotly->catboost) (8.0.1)\n",
            "Installing collected packages: catboost\n",
            "Successfully installed catboost-1.0.4\n"
          ]
        }
      ]
    },
    {
      "cell_type": "markdown",
      "source": [
        "Label Encoding of *type of Request*"
      ],
      "metadata": {
        "id": "V9va7DvGcSTV"
      }
    },
    {
      "cell_type": "code",
      "source": [
        "from sklearn.preprocessing import LabelEncoder\n",
        "# creating instance of labelencoder\n",
        "labelencoder = LabelEncoder()\n",
        "# Assigning numerical values and storing in another column\n",
        "new_data['type of Request'] = labelencoder.fit_transform(new_data['type of Request'])\n",
        "new_data.head()"
      ],
      "metadata": {
        "id": "IB9ebtRzb-KW",
        "colab": {
          "base_uri": "https://localhost:8080/",
          "height": 206
        },
        "outputId": "81567365-c6f4-40a4-80a5-9aa9ad394271"
      },
      "execution_count": null,
      "outputs": [
        {
          "output_type": "execute_result",
          "data": {
            "text/plain": [
              "   user_id  type of Request type of hardware type of software  \\\n",
              "0   417884                1              0.0     Network Type   \n",
              "1   823322                0           Camera              0.0   \n",
              "2   611471                0          Battery              0.0   \n",
              "3   589828                0          Display              0.0   \n",
              "4   146153                1              0.0               OS   \n",
              "\n",
              "               Description  \n",
              "0                       3G  \n",
              "1   Back camera pixel size  \n",
              "2   Good Battery capacity   \n",
              "3             Display Type  \n",
              "4                  Android  "
            ],
            "text/html": [
              "\n",
              "  <div id=\"df-850caa1c-2378-4442-a7f2-99fc167bda16\">\n",
              "    <div class=\"colab-df-container\">\n",
              "      <div>\n",
              "<style scoped>\n",
              "    .dataframe tbody tr th:only-of-type {\n",
              "        vertical-align: middle;\n",
              "    }\n",
              "\n",
              "    .dataframe tbody tr th {\n",
              "        vertical-align: top;\n",
              "    }\n",
              "\n",
              "    .dataframe thead th {\n",
              "        text-align: right;\n",
              "    }\n",
              "</style>\n",
              "<table border=\"1\" class=\"dataframe\">\n",
              "  <thead>\n",
              "    <tr style=\"text-align: right;\">\n",
              "      <th></th>\n",
              "      <th>user_id</th>\n",
              "      <th>type of Request</th>\n",
              "      <th>type of hardware</th>\n",
              "      <th>type of software</th>\n",
              "      <th>Description</th>\n",
              "    </tr>\n",
              "  </thead>\n",
              "  <tbody>\n",
              "    <tr>\n",
              "      <th>0</th>\n",
              "      <td>417884</td>\n",
              "      <td>1</td>\n",
              "      <td>0.0</td>\n",
              "      <td>Network Type</td>\n",
              "      <td>3G</td>\n",
              "    </tr>\n",
              "    <tr>\n",
              "      <th>1</th>\n",
              "      <td>823322</td>\n",
              "      <td>0</td>\n",
              "      <td>Camera</td>\n",
              "      <td>0.0</td>\n",
              "      <td>Back camera pixel size</td>\n",
              "    </tr>\n",
              "    <tr>\n",
              "      <th>2</th>\n",
              "      <td>611471</td>\n",
              "      <td>0</td>\n",
              "      <td>Battery</td>\n",
              "      <td>0.0</td>\n",
              "      <td>Good Battery capacity</td>\n",
              "    </tr>\n",
              "    <tr>\n",
              "      <th>3</th>\n",
              "      <td>589828</td>\n",
              "      <td>0</td>\n",
              "      <td>Display</td>\n",
              "      <td>0.0</td>\n",
              "      <td>Display Type</td>\n",
              "    </tr>\n",
              "    <tr>\n",
              "      <th>4</th>\n",
              "      <td>146153</td>\n",
              "      <td>1</td>\n",
              "      <td>0.0</td>\n",
              "      <td>OS</td>\n",
              "      <td>Android</td>\n",
              "    </tr>\n",
              "  </tbody>\n",
              "</table>\n",
              "</div>\n",
              "      <button class=\"colab-df-convert\" onclick=\"convertToInteractive('df-850caa1c-2378-4442-a7f2-99fc167bda16')\"\n",
              "              title=\"Convert this dataframe to an interactive table.\"\n",
              "              style=\"display:none;\">\n",
              "        \n",
              "  <svg xmlns=\"http://www.w3.org/2000/svg\" height=\"24px\"viewBox=\"0 0 24 24\"\n",
              "       width=\"24px\">\n",
              "    <path d=\"M0 0h24v24H0V0z\" fill=\"none\"/>\n",
              "    <path d=\"M18.56 5.44l.94 2.06.94-2.06 2.06-.94-2.06-.94-.94-2.06-.94 2.06-2.06.94zm-11 1L8.5 8.5l.94-2.06 2.06-.94-2.06-.94L8.5 2.5l-.94 2.06-2.06.94zm10 10l.94 2.06.94-2.06 2.06-.94-2.06-.94-.94-2.06-.94 2.06-2.06.94z\"/><path d=\"M17.41 7.96l-1.37-1.37c-.4-.4-.92-.59-1.43-.59-.52 0-1.04.2-1.43.59L10.3 9.45l-7.72 7.72c-.78.78-.78 2.05 0 2.83L4 21.41c.39.39.9.59 1.41.59.51 0 1.02-.2 1.41-.59l7.78-7.78 2.81-2.81c.8-.78.8-2.07 0-2.86zM5.41 20L4 18.59l7.72-7.72 1.47 1.35L5.41 20z\"/>\n",
              "  </svg>\n",
              "      </button>\n",
              "      \n",
              "  <style>\n",
              "    .colab-df-container {\n",
              "      display:flex;\n",
              "      flex-wrap:wrap;\n",
              "      gap: 12px;\n",
              "    }\n",
              "\n",
              "    .colab-df-convert {\n",
              "      background-color: #E8F0FE;\n",
              "      border: none;\n",
              "      border-radius: 50%;\n",
              "      cursor: pointer;\n",
              "      display: none;\n",
              "      fill: #1967D2;\n",
              "      height: 32px;\n",
              "      padding: 0 0 0 0;\n",
              "      width: 32px;\n",
              "    }\n",
              "\n",
              "    .colab-df-convert:hover {\n",
              "      background-color: #E2EBFA;\n",
              "      box-shadow: 0px 1px 2px rgba(60, 64, 67, 0.3), 0px 1px 3px 1px rgba(60, 64, 67, 0.15);\n",
              "      fill: #174EA6;\n",
              "    }\n",
              "\n",
              "    [theme=dark] .colab-df-convert {\n",
              "      background-color: #3B4455;\n",
              "      fill: #D2E3FC;\n",
              "    }\n",
              "\n",
              "    [theme=dark] .colab-df-convert:hover {\n",
              "      background-color: #434B5C;\n",
              "      box-shadow: 0px 1px 3px 1px rgba(0, 0, 0, 0.15);\n",
              "      filter: drop-shadow(0px 1px 2px rgba(0, 0, 0, 0.3));\n",
              "      fill: #FFFFFF;\n",
              "    }\n",
              "  </style>\n",
              "\n",
              "      <script>\n",
              "        const buttonEl =\n",
              "          document.querySelector('#df-850caa1c-2378-4442-a7f2-99fc167bda16 button.colab-df-convert');\n",
              "        buttonEl.style.display =\n",
              "          google.colab.kernel.accessAllowed ? 'block' : 'none';\n",
              "\n",
              "        async function convertToInteractive(key) {\n",
              "          const element = document.querySelector('#df-850caa1c-2378-4442-a7f2-99fc167bda16');\n",
              "          const dataTable =\n",
              "            await google.colab.kernel.invokeFunction('convertToInteractive',\n",
              "                                                     [key], {});\n",
              "          if (!dataTable) return;\n",
              "\n",
              "          const docLinkHtml = 'Like what you see? Visit the ' +\n",
              "            '<a target=\"_blank\" href=https://colab.research.google.com/notebooks/data_table.ipynb>data table notebook</a>'\n",
              "            + ' to learn more about interactive tables.';\n",
              "          element.innerHTML = '';\n",
              "          dataTable['output_type'] = 'display_data';\n",
              "          await google.colab.output.renderOutput(dataTable, element);\n",
              "          const docLink = document.createElement('div');\n",
              "          docLink.innerHTML = docLinkHtml;\n",
              "          element.appendChild(docLink);\n",
              "        }\n",
              "      </script>\n",
              "    </div>\n",
              "  </div>\n",
              "  "
            ]
          },
          "metadata": {},
          "execution_count": 21
        }
      ]
    },
    {
      "cell_type": "code",
      "source": [
        "categorical_columns = [\"type of hardware\",\t\"type of software\",\t\"Description\"]\n",
        "for column in categorical_columns:\n",
        "    tempdf = pd.get_dummies(new_data[column], prefix=column)\n",
        "    new_data = pd.merge(\n",
        "        left=new_data,\n",
        "        right=tempdf,\n",
        "        left_index=True,\n",
        "        right_index=True,\n",
        "    )\n",
        "    new_data = new_data.drop(columns=column)\n",
        "new_data.head()"
      ],
      "metadata": {
        "id": "JvF8wi-ZfH2S",
        "colab": {
          "base_uri": "https://localhost:8080/",
          "height": 334
        },
        "outputId": "c27d5e56-7973-46cb-c23e-eb5ce50a8a95"
      },
      "execution_count": null,
      "outputs": [
        {
          "output_type": "execute_result",
          "data": {
            "text/plain": [
              "   user_id  type of Request  type of hardware_0.0  type of hardware_Battery  \\\n",
              "0   417884                1                     1                         0   \n",
              "1   823322                0                     0                         0   \n",
              "2   611471                0                     0                         1   \n",
              "3   589828                0                     0                         0   \n",
              "4   146153                1                     1                         0   \n",
              "\n",
              "   type of hardware_Camera  type of hardware_Display  type of hardware_Memory  \\\n",
              "0                        0                         0                        0   \n",
              "1                        1                         0                        0   \n",
              "2                        0                         0                        0   \n",
              "3                        0                         1                        0   \n",
              "4                        0                         0                        0   \n",
              "\n",
              "   type of hardware_Processor  type of hardware_SIM  \\\n",
              "0                           0                     0   \n",
              "1                           0                     0   \n",
              "2                           0                     0   \n",
              "3                           0                     0   \n",
              "4                           0                     0   \n",
              "\n",
              "   type of hardware_Touch Screen  ...  Description_RAM  Description_ROM  \\\n",
              "0                              0  ...                0                0   \n",
              "1                              0  ...                0                0   \n",
              "2                              0  ...                0                0   \n",
              "3                              0  ...                0                0   \n",
              "4                              0  ...                0                0   \n",
              "\n",
              "   Description_Required  Description_Touch sensitivity  \\\n",
              "0                     0                              0   \n",
              "1                     0                              0   \n",
              "2                     0                              0   \n",
              "3                     0                              0   \n",
              "4                     0                              0   \n",
              "\n",
              "   Description_Type of camera  Description_availablity of gps_required  \\\n",
              "0                           0                                        0   \n",
              "1                           0                                        0   \n",
              "2                           0                                        0   \n",
              "3                           0                                        0   \n",
              "4                           0                                        0   \n",
              "\n",
              "   Description_dual sim  Description_ios  Description_processor speed  \\\n",
              "0                     0                0                            0   \n",
              "1                     0                0                            0   \n",
              "2                     0                0                            0   \n",
              "3                     0                0                            0   \n",
              "4                     0                0                            0   \n",
              "\n",
              "   Description_single sim  \n",
              "0                       0  \n",
              "1                       0  \n",
              "2                       0  \n",
              "3                       0  \n",
              "4                       0  \n",
              "\n",
              "[5 rows x 37 columns]"
            ],
            "text/html": [
              "\n",
              "  <div id=\"df-8fa862ad-2c24-4ff7-908f-5515067ad9bc\">\n",
              "    <div class=\"colab-df-container\">\n",
              "      <div>\n",
              "<style scoped>\n",
              "    .dataframe tbody tr th:only-of-type {\n",
              "        vertical-align: middle;\n",
              "    }\n",
              "\n",
              "    .dataframe tbody tr th {\n",
              "        vertical-align: top;\n",
              "    }\n",
              "\n",
              "    .dataframe thead th {\n",
              "        text-align: right;\n",
              "    }\n",
              "</style>\n",
              "<table border=\"1\" class=\"dataframe\">\n",
              "  <thead>\n",
              "    <tr style=\"text-align: right;\">\n",
              "      <th></th>\n",
              "      <th>user_id</th>\n",
              "      <th>type of Request</th>\n",
              "      <th>type of hardware_0.0</th>\n",
              "      <th>type of hardware_Battery</th>\n",
              "      <th>type of hardware_Camera</th>\n",
              "      <th>type of hardware_Display</th>\n",
              "      <th>type of hardware_Memory</th>\n",
              "      <th>type of hardware_Processor</th>\n",
              "      <th>type of hardware_SIM</th>\n",
              "      <th>type of hardware_Touch Screen</th>\n",
              "      <th>...</th>\n",
              "      <th>Description_RAM</th>\n",
              "      <th>Description_ROM</th>\n",
              "      <th>Description_Required</th>\n",
              "      <th>Description_Touch sensitivity</th>\n",
              "      <th>Description_Type of camera</th>\n",
              "      <th>Description_availablity of gps_required</th>\n",
              "      <th>Description_dual sim</th>\n",
              "      <th>Description_ios</th>\n",
              "      <th>Description_processor speed</th>\n",
              "      <th>Description_single sim</th>\n",
              "    </tr>\n",
              "  </thead>\n",
              "  <tbody>\n",
              "    <tr>\n",
              "      <th>0</th>\n",
              "      <td>417884</td>\n",
              "      <td>1</td>\n",
              "      <td>1</td>\n",
              "      <td>0</td>\n",
              "      <td>0</td>\n",
              "      <td>0</td>\n",
              "      <td>0</td>\n",
              "      <td>0</td>\n",
              "      <td>0</td>\n",
              "      <td>0</td>\n",
              "      <td>...</td>\n",
              "      <td>0</td>\n",
              "      <td>0</td>\n",
              "      <td>0</td>\n",
              "      <td>0</td>\n",
              "      <td>0</td>\n",
              "      <td>0</td>\n",
              "      <td>0</td>\n",
              "      <td>0</td>\n",
              "      <td>0</td>\n",
              "      <td>0</td>\n",
              "    </tr>\n",
              "    <tr>\n",
              "      <th>1</th>\n",
              "      <td>823322</td>\n",
              "      <td>0</td>\n",
              "      <td>0</td>\n",
              "      <td>0</td>\n",
              "      <td>1</td>\n",
              "      <td>0</td>\n",
              "      <td>0</td>\n",
              "      <td>0</td>\n",
              "      <td>0</td>\n",
              "      <td>0</td>\n",
              "      <td>...</td>\n",
              "      <td>0</td>\n",
              "      <td>0</td>\n",
              "      <td>0</td>\n",
              "      <td>0</td>\n",
              "      <td>0</td>\n",
              "      <td>0</td>\n",
              "      <td>0</td>\n",
              "      <td>0</td>\n",
              "      <td>0</td>\n",
              "      <td>0</td>\n",
              "    </tr>\n",
              "    <tr>\n",
              "      <th>2</th>\n",
              "      <td>611471</td>\n",
              "      <td>0</td>\n",
              "      <td>0</td>\n",
              "      <td>1</td>\n",
              "      <td>0</td>\n",
              "      <td>0</td>\n",
              "      <td>0</td>\n",
              "      <td>0</td>\n",
              "      <td>0</td>\n",
              "      <td>0</td>\n",
              "      <td>...</td>\n",
              "      <td>0</td>\n",
              "      <td>0</td>\n",
              "      <td>0</td>\n",
              "      <td>0</td>\n",
              "      <td>0</td>\n",
              "      <td>0</td>\n",
              "      <td>0</td>\n",
              "      <td>0</td>\n",
              "      <td>0</td>\n",
              "      <td>0</td>\n",
              "    </tr>\n",
              "    <tr>\n",
              "      <th>3</th>\n",
              "      <td>589828</td>\n",
              "      <td>0</td>\n",
              "      <td>0</td>\n",
              "      <td>0</td>\n",
              "      <td>0</td>\n",
              "      <td>1</td>\n",
              "      <td>0</td>\n",
              "      <td>0</td>\n",
              "      <td>0</td>\n",
              "      <td>0</td>\n",
              "      <td>...</td>\n",
              "      <td>0</td>\n",
              "      <td>0</td>\n",
              "      <td>0</td>\n",
              "      <td>0</td>\n",
              "      <td>0</td>\n",
              "      <td>0</td>\n",
              "      <td>0</td>\n",
              "      <td>0</td>\n",
              "      <td>0</td>\n",
              "      <td>0</td>\n",
              "    </tr>\n",
              "    <tr>\n",
              "      <th>4</th>\n",
              "      <td>146153</td>\n",
              "      <td>1</td>\n",
              "      <td>1</td>\n",
              "      <td>0</td>\n",
              "      <td>0</td>\n",
              "      <td>0</td>\n",
              "      <td>0</td>\n",
              "      <td>0</td>\n",
              "      <td>0</td>\n",
              "      <td>0</td>\n",
              "      <td>...</td>\n",
              "      <td>0</td>\n",
              "      <td>0</td>\n",
              "      <td>0</td>\n",
              "      <td>0</td>\n",
              "      <td>0</td>\n",
              "      <td>0</td>\n",
              "      <td>0</td>\n",
              "      <td>0</td>\n",
              "      <td>0</td>\n",
              "      <td>0</td>\n",
              "    </tr>\n",
              "  </tbody>\n",
              "</table>\n",
              "<p>5 rows × 37 columns</p>\n",
              "</div>\n",
              "      <button class=\"colab-df-convert\" onclick=\"convertToInteractive('df-8fa862ad-2c24-4ff7-908f-5515067ad9bc')\"\n",
              "              title=\"Convert this dataframe to an interactive table.\"\n",
              "              style=\"display:none;\">\n",
              "        \n",
              "  <svg xmlns=\"http://www.w3.org/2000/svg\" height=\"24px\"viewBox=\"0 0 24 24\"\n",
              "       width=\"24px\">\n",
              "    <path d=\"M0 0h24v24H0V0z\" fill=\"none\"/>\n",
              "    <path d=\"M18.56 5.44l.94 2.06.94-2.06 2.06-.94-2.06-.94-.94-2.06-.94 2.06-2.06.94zm-11 1L8.5 8.5l.94-2.06 2.06-.94-2.06-.94L8.5 2.5l-.94 2.06-2.06.94zm10 10l.94 2.06.94-2.06 2.06-.94-2.06-.94-.94-2.06-.94 2.06-2.06.94z\"/><path d=\"M17.41 7.96l-1.37-1.37c-.4-.4-.92-.59-1.43-.59-.52 0-1.04.2-1.43.59L10.3 9.45l-7.72 7.72c-.78.78-.78 2.05 0 2.83L4 21.41c.39.39.9.59 1.41.59.51 0 1.02-.2 1.41-.59l7.78-7.78 2.81-2.81c.8-.78.8-2.07 0-2.86zM5.41 20L4 18.59l7.72-7.72 1.47 1.35L5.41 20z\"/>\n",
              "  </svg>\n",
              "      </button>\n",
              "      \n",
              "  <style>\n",
              "    .colab-df-container {\n",
              "      display:flex;\n",
              "      flex-wrap:wrap;\n",
              "      gap: 12px;\n",
              "    }\n",
              "\n",
              "    .colab-df-convert {\n",
              "      background-color: #E8F0FE;\n",
              "      border: none;\n",
              "      border-radius: 50%;\n",
              "      cursor: pointer;\n",
              "      display: none;\n",
              "      fill: #1967D2;\n",
              "      height: 32px;\n",
              "      padding: 0 0 0 0;\n",
              "      width: 32px;\n",
              "    }\n",
              "\n",
              "    .colab-df-convert:hover {\n",
              "      background-color: #E2EBFA;\n",
              "      box-shadow: 0px 1px 2px rgba(60, 64, 67, 0.3), 0px 1px 3px 1px rgba(60, 64, 67, 0.15);\n",
              "      fill: #174EA6;\n",
              "    }\n",
              "\n",
              "    [theme=dark] .colab-df-convert {\n",
              "      background-color: #3B4455;\n",
              "      fill: #D2E3FC;\n",
              "    }\n",
              "\n",
              "    [theme=dark] .colab-df-convert:hover {\n",
              "      background-color: #434B5C;\n",
              "      box-shadow: 0px 1px 3px 1px rgba(0, 0, 0, 0.15);\n",
              "      filter: drop-shadow(0px 1px 2px rgba(0, 0, 0, 0.3));\n",
              "      fill: #FFFFFF;\n",
              "    }\n",
              "  </style>\n",
              "\n",
              "      <script>\n",
              "        const buttonEl =\n",
              "          document.querySelector('#df-8fa862ad-2c24-4ff7-908f-5515067ad9bc button.colab-df-convert');\n",
              "        buttonEl.style.display =\n",
              "          google.colab.kernel.accessAllowed ? 'block' : 'none';\n",
              "\n",
              "        async function convertToInteractive(key) {\n",
              "          const element = document.querySelector('#df-8fa862ad-2c24-4ff7-908f-5515067ad9bc');\n",
              "          const dataTable =\n",
              "            await google.colab.kernel.invokeFunction('convertToInteractive',\n",
              "                                                     [key], {});\n",
              "          if (!dataTable) return;\n",
              "\n",
              "          const docLinkHtml = 'Like what you see? Visit the ' +\n",
              "            '<a target=\"_blank\" href=https://colab.research.google.com/notebooks/data_table.ipynb>data table notebook</a>'\n",
              "            + ' to learn more about interactive tables.';\n",
              "          element.innerHTML = '';\n",
              "          dataTable['output_type'] = 'display_data';\n",
              "          await google.colab.output.renderOutput(dataTable, element);\n",
              "          const docLink = document.createElement('div');\n",
              "          docLink.innerHTML = docLinkHtml;\n",
              "          element.appendChild(docLink);\n",
              "        }\n",
              "      </script>\n",
              "    </div>\n",
              "  </div>\n",
              "  "
            ]
          },
          "metadata": {},
          "execution_count": 22
        }
      ]
    },
    {
      "cell_type": "code",
      "source": [
        "x_data=new_data.drop([\"type of Request\",\"user_id\"],axis=1)\n",
        "y_data=new_data[[\"type of Request\"]]\n",
        "print(\"The size of original dataset: \", new_data.shape)\n",
        "print(\"The size of dependent dataset: \", y_data.shape)\n",
        "print(\"The size of independent dataset\", x_data.shape)"
      ],
      "metadata": {
        "id": "6IWKLG5DgKDe",
        "colab": {
          "base_uri": "https://localhost:8080/"
        },
        "outputId": "73e5bb07-343e-4320-df83-3d27f131d3e8"
      },
      "execution_count": null,
      "outputs": [
        {
          "output_type": "stream",
          "name": "stdout",
          "text": [
            "The size of original dataset:  (200000, 37)\n",
            "The size of dependent dataset:  (200000, 1)\n",
            "The size of independent dataset (200000, 35)\n"
          ]
        }
      ]
    },
    {
      "cell_type": "code",
      "source": [
        "x_data_1=x_data.copy()\n",
        "x_data_1.shape"
      ],
      "metadata": {
        "id": "6lp78DfAhNY5",
        "colab": {
          "base_uri": "https://localhost:8080/"
        },
        "outputId": "226f0d34-41d9-4a13-819a-b22f6bb8cdcb"
      },
      "execution_count": null,
      "outputs": [
        {
          "output_type": "execute_result",
          "data": {
            "text/plain": [
              "(200000, 35)"
            ]
          },
          "metadata": {},
          "execution_count": 24
        }
      ]
    },
    {
      "cell_type": "code",
      "source": [
        "#standard scaling\n",
        "from sklearn.preprocessing import StandardScaler\n",
        "scalar=StandardScaler()\n",
        "\n",
        "x_data=scalar.fit_transform(x_data)\n",
        "\n",
        "x_data=pd.DataFrame(x_data,columns=x_data_1.columns)\n",
        "x_data.head(3)"
      ],
      "metadata": {
        "id": "oTl7pCnlg3ev",
        "colab": {
          "base_uri": "https://localhost:8080/",
          "height": 272
        },
        "outputId": "a94e9260-fb55-4a1b-feb3-3505e5324762"
      },
      "execution_count": null,
      "outputs": [
        {
          "output_type": "execute_result",
          "data": {
            "text/plain": [
              "   type of hardware_0.0  type of hardware_Battery  type of hardware_Camera  \\\n",
              "0              1.526853                 -0.343883                -0.517592   \n",
              "1             -0.654942                 -0.343883                 1.932025   \n",
              "2             -0.654942                  2.907966                -0.517592   \n",
              "\n",
              "   type of hardware_Display  type of hardware_Memory  \\\n",
              "0                 -0.344256                -0.400763   \n",
              "1                 -0.344256                -0.400763   \n",
              "2                 -0.344256                -0.400763   \n",
              "\n",
              "   type of hardware_Processor  type of hardware_SIM  \\\n",
              "0                   -0.189994             -0.188619   \n",
              "1                   -0.189994             -0.188619   \n",
              "2                   -0.189994             -0.188619   \n",
              "\n",
              "   type of hardware_Touch Screen  type of software_0.0  type of software_GPS  \\\n",
              "0                      -0.272736             -1.526853             -0.254087   \n",
              "1                      -0.272736              0.654942             -0.254087   \n",
              "2                      -0.272736              0.654942             -0.254087   \n",
              "\n",
              "   ...  Description_RAM  Description_ROM  Description_Required  \\\n",
              "0  ...        -0.256354        -0.169444             -0.187251   \n",
              "1  ...        -0.256354        -0.169444             -0.187251   \n",
              "2  ...        -0.256354        -0.169444             -0.187251   \n",
              "\n",
              "   Description_Touch sensitivity  Description_Type of camera  \\\n",
              "0                      -0.250748                   -0.235509   \n",
              "1                      -0.250748                   -0.235509   \n",
              "2                      -0.250748                   -0.235509   \n",
              "\n",
              "   Description_availablity of gps_required  Description_dual sim  \\\n",
              "0                                -0.254087             -0.145244   \n",
              "1                                -0.254087             -0.145244   \n",
              "2                                -0.254087             -0.145244   \n",
              "\n",
              "   Description_ios  Description_processor speed  Description_single sim  \n",
              "0        -0.180641                    -0.145065               -0.117835  \n",
              "1        -0.180641                    -0.145065               -0.117835  \n",
              "2        -0.180641                    -0.145065               -0.117835  \n",
              "\n",
              "[3 rows x 35 columns]"
            ],
            "text/html": [
              "\n",
              "  <div id=\"df-62beb29e-4fc6-43b4-b3aa-b3c191c76b57\">\n",
              "    <div class=\"colab-df-container\">\n",
              "      <div>\n",
              "<style scoped>\n",
              "    .dataframe tbody tr th:only-of-type {\n",
              "        vertical-align: middle;\n",
              "    }\n",
              "\n",
              "    .dataframe tbody tr th {\n",
              "        vertical-align: top;\n",
              "    }\n",
              "\n",
              "    .dataframe thead th {\n",
              "        text-align: right;\n",
              "    }\n",
              "</style>\n",
              "<table border=\"1\" class=\"dataframe\">\n",
              "  <thead>\n",
              "    <tr style=\"text-align: right;\">\n",
              "      <th></th>\n",
              "      <th>type of hardware_0.0</th>\n",
              "      <th>type of hardware_Battery</th>\n",
              "      <th>type of hardware_Camera</th>\n",
              "      <th>type of hardware_Display</th>\n",
              "      <th>type of hardware_Memory</th>\n",
              "      <th>type of hardware_Processor</th>\n",
              "      <th>type of hardware_SIM</th>\n",
              "      <th>type of hardware_Touch Screen</th>\n",
              "      <th>type of software_0.0</th>\n",
              "      <th>type of software_GPS</th>\n",
              "      <th>...</th>\n",
              "      <th>Description_RAM</th>\n",
              "      <th>Description_ROM</th>\n",
              "      <th>Description_Required</th>\n",
              "      <th>Description_Touch sensitivity</th>\n",
              "      <th>Description_Type of camera</th>\n",
              "      <th>Description_availablity of gps_required</th>\n",
              "      <th>Description_dual sim</th>\n",
              "      <th>Description_ios</th>\n",
              "      <th>Description_processor speed</th>\n",
              "      <th>Description_single sim</th>\n",
              "    </tr>\n",
              "  </thead>\n",
              "  <tbody>\n",
              "    <tr>\n",
              "      <th>0</th>\n",
              "      <td>1.526853</td>\n",
              "      <td>-0.343883</td>\n",
              "      <td>-0.517592</td>\n",
              "      <td>-0.344256</td>\n",
              "      <td>-0.400763</td>\n",
              "      <td>-0.189994</td>\n",
              "      <td>-0.188619</td>\n",
              "      <td>-0.272736</td>\n",
              "      <td>-1.526853</td>\n",
              "      <td>-0.254087</td>\n",
              "      <td>...</td>\n",
              "      <td>-0.256354</td>\n",
              "      <td>-0.169444</td>\n",
              "      <td>-0.187251</td>\n",
              "      <td>-0.250748</td>\n",
              "      <td>-0.235509</td>\n",
              "      <td>-0.254087</td>\n",
              "      <td>-0.145244</td>\n",
              "      <td>-0.180641</td>\n",
              "      <td>-0.145065</td>\n",
              "      <td>-0.117835</td>\n",
              "    </tr>\n",
              "    <tr>\n",
              "      <th>1</th>\n",
              "      <td>-0.654942</td>\n",
              "      <td>-0.343883</td>\n",
              "      <td>1.932025</td>\n",
              "      <td>-0.344256</td>\n",
              "      <td>-0.400763</td>\n",
              "      <td>-0.189994</td>\n",
              "      <td>-0.188619</td>\n",
              "      <td>-0.272736</td>\n",
              "      <td>0.654942</td>\n",
              "      <td>-0.254087</td>\n",
              "      <td>...</td>\n",
              "      <td>-0.256354</td>\n",
              "      <td>-0.169444</td>\n",
              "      <td>-0.187251</td>\n",
              "      <td>-0.250748</td>\n",
              "      <td>-0.235509</td>\n",
              "      <td>-0.254087</td>\n",
              "      <td>-0.145244</td>\n",
              "      <td>-0.180641</td>\n",
              "      <td>-0.145065</td>\n",
              "      <td>-0.117835</td>\n",
              "    </tr>\n",
              "    <tr>\n",
              "      <th>2</th>\n",
              "      <td>-0.654942</td>\n",
              "      <td>2.907966</td>\n",
              "      <td>-0.517592</td>\n",
              "      <td>-0.344256</td>\n",
              "      <td>-0.400763</td>\n",
              "      <td>-0.189994</td>\n",
              "      <td>-0.188619</td>\n",
              "      <td>-0.272736</td>\n",
              "      <td>0.654942</td>\n",
              "      <td>-0.254087</td>\n",
              "      <td>...</td>\n",
              "      <td>-0.256354</td>\n",
              "      <td>-0.169444</td>\n",
              "      <td>-0.187251</td>\n",
              "      <td>-0.250748</td>\n",
              "      <td>-0.235509</td>\n",
              "      <td>-0.254087</td>\n",
              "      <td>-0.145244</td>\n",
              "      <td>-0.180641</td>\n",
              "      <td>-0.145065</td>\n",
              "      <td>-0.117835</td>\n",
              "    </tr>\n",
              "  </tbody>\n",
              "</table>\n",
              "<p>3 rows × 35 columns</p>\n",
              "</div>\n",
              "      <button class=\"colab-df-convert\" onclick=\"convertToInteractive('df-62beb29e-4fc6-43b4-b3aa-b3c191c76b57')\"\n",
              "              title=\"Convert this dataframe to an interactive table.\"\n",
              "              style=\"display:none;\">\n",
              "        \n",
              "  <svg xmlns=\"http://www.w3.org/2000/svg\" height=\"24px\"viewBox=\"0 0 24 24\"\n",
              "       width=\"24px\">\n",
              "    <path d=\"M0 0h24v24H0V0z\" fill=\"none\"/>\n",
              "    <path d=\"M18.56 5.44l.94 2.06.94-2.06 2.06-.94-2.06-.94-.94-2.06-.94 2.06-2.06.94zm-11 1L8.5 8.5l.94-2.06 2.06-.94-2.06-.94L8.5 2.5l-.94 2.06-2.06.94zm10 10l.94 2.06.94-2.06 2.06-.94-2.06-.94-.94-2.06-.94 2.06-2.06.94z\"/><path d=\"M17.41 7.96l-1.37-1.37c-.4-.4-.92-.59-1.43-.59-.52 0-1.04.2-1.43.59L10.3 9.45l-7.72 7.72c-.78.78-.78 2.05 0 2.83L4 21.41c.39.39.9.59 1.41.59.51 0 1.02-.2 1.41-.59l7.78-7.78 2.81-2.81c.8-.78.8-2.07 0-2.86zM5.41 20L4 18.59l7.72-7.72 1.47 1.35L5.41 20z\"/>\n",
              "  </svg>\n",
              "      </button>\n",
              "      \n",
              "  <style>\n",
              "    .colab-df-container {\n",
              "      display:flex;\n",
              "      flex-wrap:wrap;\n",
              "      gap: 12px;\n",
              "    }\n",
              "\n",
              "    .colab-df-convert {\n",
              "      background-color: #E8F0FE;\n",
              "      border: none;\n",
              "      border-radius: 50%;\n",
              "      cursor: pointer;\n",
              "      display: none;\n",
              "      fill: #1967D2;\n",
              "      height: 32px;\n",
              "      padding: 0 0 0 0;\n",
              "      width: 32px;\n",
              "    }\n",
              "\n",
              "    .colab-df-convert:hover {\n",
              "      background-color: #E2EBFA;\n",
              "      box-shadow: 0px 1px 2px rgba(60, 64, 67, 0.3), 0px 1px 3px 1px rgba(60, 64, 67, 0.15);\n",
              "      fill: #174EA6;\n",
              "    }\n",
              "\n",
              "    [theme=dark] .colab-df-convert {\n",
              "      background-color: #3B4455;\n",
              "      fill: #D2E3FC;\n",
              "    }\n",
              "\n",
              "    [theme=dark] .colab-df-convert:hover {\n",
              "      background-color: #434B5C;\n",
              "      box-shadow: 0px 1px 3px 1px rgba(0, 0, 0, 0.15);\n",
              "      filter: drop-shadow(0px 1px 2px rgba(0, 0, 0, 0.3));\n",
              "      fill: #FFFFFF;\n",
              "    }\n",
              "  </style>\n",
              "\n",
              "      <script>\n",
              "        const buttonEl =\n",
              "          document.querySelector('#df-62beb29e-4fc6-43b4-b3aa-b3c191c76b57 button.colab-df-convert');\n",
              "        buttonEl.style.display =\n",
              "          google.colab.kernel.accessAllowed ? 'block' : 'none';\n",
              "\n",
              "        async function convertToInteractive(key) {\n",
              "          const element = document.querySelector('#df-62beb29e-4fc6-43b4-b3aa-b3c191c76b57');\n",
              "          const dataTable =\n",
              "            await google.colab.kernel.invokeFunction('convertToInteractive',\n",
              "                                                     [key], {});\n",
              "          if (!dataTable) return;\n",
              "\n",
              "          const docLinkHtml = 'Like what you see? Visit the ' +\n",
              "            '<a target=\"_blank\" href=https://colab.research.google.com/notebooks/data_table.ipynb>data table notebook</a>'\n",
              "            + ' to learn more about interactive tables.';\n",
              "          element.innerHTML = '';\n",
              "          dataTable['output_type'] = 'display_data';\n",
              "          await google.colab.output.renderOutput(dataTable, element);\n",
              "          const docLink = document.createElement('div');\n",
              "          docLink.innerHTML = docLinkHtml;\n",
              "          element.appendChild(docLink);\n",
              "        }\n",
              "      </script>\n",
              "    </div>\n",
              "  </div>\n",
              "  "
            ]
          },
          "metadata": {},
          "execution_count": 25
        }
      ]
    },
    {
      "cell_type": "code",
      "source": [
        "from sklearn.model_selection import train_test_split\n",
        "\n",
        "x_train,x_test,y_train,y_test=train_test_split(x_data,y_data,random_state=0,test_size=0.25)\n",
        "\n",
        "print(x_train.shape)\n",
        "print(y_train.shape)\n",
        "\n",
        "print(x_test.shape)\n",
        "print(y_test.shape)"
      ],
      "metadata": {
        "id": "sHXpcV2ohhwb",
        "colab": {
          "base_uri": "https://localhost:8080/"
        },
        "outputId": "cfc954b2-7fb6-4823-9299-2e74dfc0637f"
      },
      "execution_count": null,
      "outputs": [
        {
          "output_type": "stream",
          "name": "stdout",
          "text": [
            "(150000, 35)\n",
            "(150000, 1)\n",
            "(50000, 35)\n",
            "(50000, 1)\n"
          ]
        }
      ]
    },
    {
      "cell_type": "markdown",
      "source": [
        "**Logistic Regression**"
      ],
      "metadata": {
        "id": "Ua7hdq-mwlbX"
      }
    },
    {
      "cell_type": "code",
      "source": [
        "from sklearn.linear_model import LogisticRegression\n",
        "\n",
        "from sklearn.metrics import confusion_matrix, accuracy_score, f1_score,precision_score,recall_score,classification_report"
      ],
      "metadata": {
        "id": "rT96TwR0hkIR"
      },
      "execution_count": null,
      "outputs": []
    },
    {
      "cell_type": "code",
      "source": [
        "#creating an instance of logistic regression\n",
        "lr = LogisticRegression()\n",
        "#fitting the model\n",
        "lr.fit(x_train,y_train)\n",
        "#predicting the model\n",
        "y_pred_lr=lr.predict(x_test)\n",
        "\n",
        "#evaluation metrics\n",
        "#training score\n",
        "train_lr=round(lr.score(x_train,y_train),3)\n",
        "print(\"the training score of logistic regression is : \", round(lr.score(x_train,y_train),3))\n",
        "#testing score\n",
        "acc_lr=accuracy_score(y_test,y_pred_lr)\n",
        "print(\"Test Accuracy of Logistic Regression is : \",round(acc_lr,4)*100,\"%\" )\n",
        "#confusion matrix\n",
        "con_lr=confusion_matrix(y_test,y_pred_lr)\n",
        "print(\"\\n The confusion matrix of logistic regression is \\n\\n\",con_lr)\n",
        "#classification report\n",
        "print(\"\\n The classification report of logistic regression is : \\n\")\n",
        "print(classification_report(y_test, y_pred_lr))"
      ],
      "metadata": {
        "id": "ebU4CJ0Dhppn",
        "colab": {
          "base_uri": "https://localhost:8080/"
        },
        "outputId": "98fb0b0c-af95-48be-c70f-c768c8687c82"
      },
      "execution_count": null,
      "outputs": [
        {
          "output_type": "stream",
          "name": "stderr",
          "text": [
            "/usr/local/lib/python3.7/dist-packages/sklearn/utils/validation.py:993: DataConversionWarning: A column-vector y was passed when a 1d array was expected. Please change the shape of y to (n_samples, ), for example using ravel().\n",
            "  y = column_or_1d(y, warn=True)\n"
          ]
        },
        {
          "output_type": "stream",
          "name": "stdout",
          "text": [
            "the training score of logistic regression is :  1.0\n",
            "Test Accuracy of Logistic Regression is :  100.0 %\n",
            "\n",
            " The confusion matrix of logistic regression is \n",
            "\n",
            " [[35027     0]\n",
            " [    0 14973]]\n",
            "\n",
            " The classification report of logistic regression is : \n",
            "\n",
            "              precision    recall  f1-score   support\n",
            "\n",
            "           0       1.00      1.00      1.00     35027\n",
            "           1       1.00      1.00      1.00     14973\n",
            "\n",
            "    accuracy                           1.00     50000\n",
            "   macro avg       1.00      1.00      1.00     50000\n",
            "weighted avg       1.00      1.00      1.00     50000\n",
            "\n"
          ]
        }
      ]
    },
    {
      "cell_type": "markdown",
      "source": [
        "**Model has 100% accuracy**"
      ],
      "metadata": {
        "id": "a50oYaMqwqwQ"
      }
    },
    {
      "cell_type": "markdown",
      "source": [
        "**CAT boost classifier**"
      ],
      "metadata": {
        "id": "2baa6F4ZwzTo"
      }
    },
    {
      "cell_type": "code",
      "source": [
        "\n",
        "from catboost import CatBoostClassifier\n",
        "\n",
        "cat = CatBoostClassifier()\n",
        "\n",
        "cat.fit(x_train, y_train, plot=True, early_stopping_rounds=30, verbose=100)\n",
        "\n",
        "y_pred_cat=cat.predict(x_test)"
      ],
      "metadata": {
        "colab": {
          "base_uri": "https://localhost:8080/",
          "height": 236,
          "referenced_widgets": [
            "4a43f0056ac245aba31a944399f333b5"
          ]
        },
        "id": "zrPsdevbh_Iz",
        "outputId": "b1c028cf-f72b-4a0c-e5b0-9989d8f8bd9e"
      },
      "execution_count": null,
      "outputs": [
        {
          "output_type": "display_data",
          "data": {
            "text/plain": [
              "MetricVisualizer(layout=Layout(align_self='stretch', height='500px'))"
            ],
            "application/vnd.jupyter.widget-view+json": {
              "version_major": 2,
              "version_minor": 0,
              "model_id": "4a43f0056ac245aba31a944399f333b5"
            }
          },
          "metadata": {}
        },
        {
          "output_type": "stream",
          "name": "stdout",
          "text": [
            "Learning rate set to 0.087524\n",
            "0:\tlearn: 0.3458705\ttotal: 74.7ms\tremaining: 1m 14s\n",
            "100:\tlearn: 0.0000309\ttotal: 2.62s\tremaining: 23.4s\n",
            "200:\tlearn: 0.0000309\ttotal: 5.13s\tremaining: 20.4s\n",
            "300:\tlearn: 0.0000309\ttotal: 9.78s\tremaining: 22.7s\n",
            "400:\tlearn: 0.0000309\ttotal: 16.3s\tremaining: 24.3s\n",
            "500:\tlearn: 0.0000309\ttotal: 23.2s\tremaining: 23.1s\n",
            "600:\tlearn: 0.0000309\ttotal: 29.6s\tremaining: 19.6s\n",
            "700:\tlearn: 0.0000309\ttotal: 34.1s\tremaining: 14.5s\n",
            "800:\tlearn: 0.0000309\ttotal: 36.5s\tremaining: 9.05s\n",
            "900:\tlearn: 0.0000309\ttotal: 39s\tremaining: 4.28s\n",
            "999:\tlearn: 0.0000309\ttotal: 41.4s\tremaining: 0us\n"
          ]
        }
      ]
    },
    {
      "cell_type": "code",
      "source": [
        "y_pred_cat=cat.predict(x_test)\n",
        "\n",
        "from sklearn.metrics import confusion_matrix, accuracy_score, f1_score,precision_score,recall_score,classification_report\n",
        "\n",
        "\n",
        "#training score\n",
        "train_cat=round(cat.score(x_train,y_train),3)\n",
        "print(\"Training score of catboost classifier is : \", round(cat.score(x_train,y_train),3))\n",
        "acc_cat=accuracy_score(y_test,y_pred_cat)\n",
        "print(\"Test Accuracy of Cat Boost is : \",round(acc_cat,3)*100,\"%\" )\n",
        "\n",
        "con_cat=confusion_matrix(y_test,y_pred_cat)\n",
        "print(\"\\n The confusion matrix of Cat Boost is \\n\\n\",con_cat)\n",
        "\n",
        "#classification report\n",
        "print(\"\\nThe classification report of category booster is:\")\n",
        "print(classification_report(y_test, y_pred_cat))"
      ],
      "metadata": {
        "id": "4fSbDdj6iV5x",
        "colab": {
          "base_uri": "https://localhost:8080/"
        },
        "outputId": "9313851a-fedf-4bb2-c6da-4e3fa2edbc43"
      },
      "execution_count": null,
      "outputs": [
        {
          "output_type": "stream",
          "name": "stdout",
          "text": [
            "Training score of catboost classifier is :  1.0\n",
            "Test Accuracy of Cat Boost is :  100.0 %\n",
            "\n",
            " The confusion matrix of Cat Boost is \n",
            "\n",
            " [[35027     0]\n",
            " [    0 14973]]\n",
            "\n",
            "The classification report of category booster is:\n",
            "              precision    recall  f1-score   support\n",
            "\n",
            "           0       1.00      1.00      1.00     35027\n",
            "           1       1.00      1.00      1.00     14973\n",
            "\n",
            "    accuracy                           1.00     50000\n",
            "   macro avg       1.00      1.00      1.00     50000\n",
            "weighted avg       1.00      1.00      1.00     50000\n",
            "\n"
          ]
        }
      ]
    },
    {
      "cell_type": "markdown",
      "source": [
        "***Both logistic regression and cat boost classifier has 100% accuracy.***"
      ],
      "metadata": {
        "id": "zqnZmWU1w6AS"
      }
    },
    {
      "cell_type": "code",
      "source": [
        ""
      ],
      "metadata": {
        "id": "PA3o5EI4y_VL"
      },
      "execution_count": null,
      "outputs": []
    },
    {
      "cell_type": "markdown",
      "source": [
        "***Ranking***"
      ],
      "metadata": {
        "id": "QBLI8XYNqpoH"
      }
    },
    {
      "cell_type": "code",
      "source": [
        "from sklearn.preprocessing import LabelEncoder\n",
        "# creating instance of labelencoder\n",
        "le = LabelEncoder()\n"
      ],
      "metadata": {
        "id": "gmbbrS7KqtZN"
      },
      "execution_count": null,
      "outputs": []
    },
    {
      "cell_type": "code",
      "source": [
        "from sklearn.preprocessing import LabelEncoder\n",
        "# creating instance of labelencoder\n",
        "labelencoder = LabelEncoder()\n",
        "# Assigning numerical values and storing in another column\n",
        "new_data_2['type of Request'] = labelencoder.fit_transform(new_data_2['type of Request'])\n",
        "new_data_2['type of hardware'] = labelencoder.fit_transform(new_data_2['type of hardware'])\n",
        "new_data_2['type of software'] = labelencoder.fit_transform(new_data_2['type of software'])\n",
        "new_data_2['Description'] = labelencoder.fit_transform(new_data_2['Description'])\n",
        "new_data_2.head()"
      ],
      "metadata": {
        "colab": {
          "base_uri": "https://localhost:8080/",
          "height": 206
        },
        "id": "s0Pna837tEUP",
        "outputId": "a6c03c73-a1dc-4fde-ef61-e05c1acc2048"
      },
      "execution_count": null,
      "outputs": [
        {
          "output_type": "execute_result",
          "data": {
            "text/plain": [
              "   user_id  type of Request  type of hardware  type of software  Description\n",
              "0   417884                1                 0                 2            1\n",
              "1   823322                0                 2                 0            4\n",
              "2   611471                0                 1                 0            0\n",
              "3   589828                0                 3                 0            7\n",
              "4   146153                1                 0                 3            3"
            ],
            "text/html": [
              "\n",
              "  <div id=\"df-cf11c45f-a9bc-41cc-9836-a1eaedf20eee\">\n",
              "    <div class=\"colab-df-container\">\n",
              "      <div>\n",
              "<style scoped>\n",
              "    .dataframe tbody tr th:only-of-type {\n",
              "        vertical-align: middle;\n",
              "    }\n",
              "\n",
              "    .dataframe tbody tr th {\n",
              "        vertical-align: top;\n",
              "    }\n",
              "\n",
              "    .dataframe thead th {\n",
              "        text-align: right;\n",
              "    }\n",
              "</style>\n",
              "<table border=\"1\" class=\"dataframe\">\n",
              "  <thead>\n",
              "    <tr style=\"text-align: right;\">\n",
              "      <th></th>\n",
              "      <th>user_id</th>\n",
              "      <th>type of Request</th>\n",
              "      <th>type of hardware</th>\n",
              "      <th>type of software</th>\n",
              "      <th>Description</th>\n",
              "    </tr>\n",
              "  </thead>\n",
              "  <tbody>\n",
              "    <tr>\n",
              "      <th>0</th>\n",
              "      <td>417884</td>\n",
              "      <td>1</td>\n",
              "      <td>0</td>\n",
              "      <td>2</td>\n",
              "      <td>1</td>\n",
              "    </tr>\n",
              "    <tr>\n",
              "      <th>1</th>\n",
              "      <td>823322</td>\n",
              "      <td>0</td>\n",
              "      <td>2</td>\n",
              "      <td>0</td>\n",
              "      <td>4</td>\n",
              "    </tr>\n",
              "    <tr>\n",
              "      <th>2</th>\n",
              "      <td>611471</td>\n",
              "      <td>0</td>\n",
              "      <td>1</td>\n",
              "      <td>0</td>\n",
              "      <td>0</td>\n",
              "    </tr>\n",
              "    <tr>\n",
              "      <th>3</th>\n",
              "      <td>589828</td>\n",
              "      <td>0</td>\n",
              "      <td>3</td>\n",
              "      <td>0</td>\n",
              "      <td>7</td>\n",
              "    </tr>\n",
              "    <tr>\n",
              "      <th>4</th>\n",
              "      <td>146153</td>\n",
              "      <td>1</td>\n",
              "      <td>0</td>\n",
              "      <td>3</td>\n",
              "      <td>3</td>\n",
              "    </tr>\n",
              "  </tbody>\n",
              "</table>\n",
              "</div>\n",
              "      <button class=\"colab-df-convert\" onclick=\"convertToInteractive('df-cf11c45f-a9bc-41cc-9836-a1eaedf20eee')\"\n",
              "              title=\"Convert this dataframe to an interactive table.\"\n",
              "              style=\"display:none;\">\n",
              "        \n",
              "  <svg xmlns=\"http://www.w3.org/2000/svg\" height=\"24px\"viewBox=\"0 0 24 24\"\n",
              "       width=\"24px\">\n",
              "    <path d=\"M0 0h24v24H0V0z\" fill=\"none\"/>\n",
              "    <path d=\"M18.56 5.44l.94 2.06.94-2.06 2.06-.94-2.06-.94-.94-2.06-.94 2.06-2.06.94zm-11 1L8.5 8.5l.94-2.06 2.06-.94-2.06-.94L8.5 2.5l-.94 2.06-2.06.94zm10 10l.94 2.06.94-2.06 2.06-.94-2.06-.94-.94-2.06-.94 2.06-2.06.94z\"/><path d=\"M17.41 7.96l-1.37-1.37c-.4-.4-.92-.59-1.43-.59-.52 0-1.04.2-1.43.59L10.3 9.45l-7.72 7.72c-.78.78-.78 2.05 0 2.83L4 21.41c.39.39.9.59 1.41.59.51 0 1.02-.2 1.41-.59l7.78-7.78 2.81-2.81c.8-.78.8-2.07 0-2.86zM5.41 20L4 18.59l7.72-7.72 1.47 1.35L5.41 20z\"/>\n",
              "  </svg>\n",
              "      </button>\n",
              "      \n",
              "  <style>\n",
              "    .colab-df-container {\n",
              "      display:flex;\n",
              "      flex-wrap:wrap;\n",
              "      gap: 12px;\n",
              "    }\n",
              "\n",
              "    .colab-df-convert {\n",
              "      background-color: #E8F0FE;\n",
              "      border: none;\n",
              "      border-radius: 50%;\n",
              "      cursor: pointer;\n",
              "      display: none;\n",
              "      fill: #1967D2;\n",
              "      height: 32px;\n",
              "      padding: 0 0 0 0;\n",
              "      width: 32px;\n",
              "    }\n",
              "\n",
              "    .colab-df-convert:hover {\n",
              "      background-color: #E2EBFA;\n",
              "      box-shadow: 0px 1px 2px rgba(60, 64, 67, 0.3), 0px 1px 3px 1px rgba(60, 64, 67, 0.15);\n",
              "      fill: #174EA6;\n",
              "    }\n",
              "\n",
              "    [theme=dark] .colab-df-convert {\n",
              "      background-color: #3B4455;\n",
              "      fill: #D2E3FC;\n",
              "    }\n",
              "\n",
              "    [theme=dark] .colab-df-convert:hover {\n",
              "      background-color: #434B5C;\n",
              "      box-shadow: 0px 1px 3px 1px rgba(0, 0, 0, 0.15);\n",
              "      filter: drop-shadow(0px 1px 2px rgba(0, 0, 0, 0.3));\n",
              "      fill: #FFFFFF;\n",
              "    }\n",
              "  </style>\n",
              "\n",
              "      <script>\n",
              "        const buttonEl =\n",
              "          document.querySelector('#df-cf11c45f-a9bc-41cc-9836-a1eaedf20eee button.colab-df-convert');\n",
              "        buttonEl.style.display =\n",
              "          google.colab.kernel.accessAllowed ? 'block' : 'none';\n",
              "\n",
              "        async function convertToInteractive(key) {\n",
              "          const element = document.querySelector('#df-cf11c45f-a9bc-41cc-9836-a1eaedf20eee');\n",
              "          const dataTable =\n",
              "            await google.colab.kernel.invokeFunction('convertToInteractive',\n",
              "                                                     [key], {});\n",
              "          if (!dataTable) return;\n",
              "\n",
              "          const docLinkHtml = 'Like what you see? Visit the ' +\n",
              "            '<a target=\"_blank\" href=https://colab.research.google.com/notebooks/data_table.ipynb>data table notebook</a>'\n",
              "            + ' to learn more about interactive tables.';\n",
              "          element.innerHTML = '';\n",
              "          dataTable['output_type'] = 'display_data';\n",
              "          await google.colab.output.renderOutput(dataTable, element);\n",
              "          const docLink = document.createElement('div');\n",
              "          docLink.innerHTML = docLinkHtml;\n",
              "          element.appendChild(docLink);\n",
              "        }\n",
              "      </script>\n",
              "    </div>\n",
              "  </div>\n",
              "  "
            ]
          },
          "metadata": {},
          "execution_count": 32
        }
      ]
    },
    {
      "cell_type": "code",
      "source": [
        "new_data_2=new_data_2.drop(\"user_id\",axis=1)"
      ],
      "metadata": {
        "id": "C8fidG_yyATm"
      },
      "execution_count": null,
      "outputs": []
    },
    {
      "cell_type": "code",
      "source": [
        "new_data_copy[\"rank by type of hardware\"]=new_data_2.groupby(\"type of Request\")[\"type of hardware\"].rank(method=\"dense\",ascending=False)\n",
        "new_data_copy.head()"
      ],
      "metadata": {
        "colab": {
          "base_uri": "https://localhost:8080/",
          "height": 285
        },
        "id": "-7TuHG8iENEy",
        "outputId": "b792bbc1-7211-4592-c268-9c3ac78f1eeb"
      },
      "execution_count": null,
      "outputs": [
        {
          "output_type": "execute_result",
          "data": {
            "text/plain": [
              "   user_id type of Request type of hardware type of software  \\\n",
              "0   417884        Software              0.0     Network Type   \n",
              "1   823322        Hardware           Camera              0.0   \n",
              "2   611471        Hardware          Battery              0.0   \n",
              "3   589828        Hardware          Display              0.0   \n",
              "4   146153        Software              0.0               OS   \n",
              "\n",
              "               Description  rank by type of hardware  \n",
              "0                       3G                       1.0  \n",
              "1   Back camera pixel size                       6.0  \n",
              "2   Good Battery capacity                        7.0  \n",
              "3             Display Type                       5.0  \n",
              "4                  Android                       1.0  "
            ],
            "text/html": [
              "\n",
              "  <div id=\"df-00c0e734-bfd8-44c6-b499-831157b28e7e\">\n",
              "    <div class=\"colab-df-container\">\n",
              "      <div>\n",
              "<style scoped>\n",
              "    .dataframe tbody tr th:only-of-type {\n",
              "        vertical-align: middle;\n",
              "    }\n",
              "\n",
              "    .dataframe tbody tr th {\n",
              "        vertical-align: top;\n",
              "    }\n",
              "\n",
              "    .dataframe thead th {\n",
              "        text-align: right;\n",
              "    }\n",
              "</style>\n",
              "<table border=\"1\" class=\"dataframe\">\n",
              "  <thead>\n",
              "    <tr style=\"text-align: right;\">\n",
              "      <th></th>\n",
              "      <th>user_id</th>\n",
              "      <th>type of Request</th>\n",
              "      <th>type of hardware</th>\n",
              "      <th>type of software</th>\n",
              "      <th>Description</th>\n",
              "      <th>rank by type of hardware</th>\n",
              "    </tr>\n",
              "  </thead>\n",
              "  <tbody>\n",
              "    <tr>\n",
              "      <th>0</th>\n",
              "      <td>417884</td>\n",
              "      <td>Software</td>\n",
              "      <td>0.0</td>\n",
              "      <td>Network Type</td>\n",
              "      <td>3G</td>\n",
              "      <td>1.0</td>\n",
              "    </tr>\n",
              "    <tr>\n",
              "      <th>1</th>\n",
              "      <td>823322</td>\n",
              "      <td>Hardware</td>\n",
              "      <td>Camera</td>\n",
              "      <td>0.0</td>\n",
              "      <td>Back camera pixel size</td>\n",
              "      <td>6.0</td>\n",
              "    </tr>\n",
              "    <tr>\n",
              "      <th>2</th>\n",
              "      <td>611471</td>\n",
              "      <td>Hardware</td>\n",
              "      <td>Battery</td>\n",
              "      <td>0.0</td>\n",
              "      <td>Good Battery capacity</td>\n",
              "      <td>7.0</td>\n",
              "    </tr>\n",
              "    <tr>\n",
              "      <th>3</th>\n",
              "      <td>589828</td>\n",
              "      <td>Hardware</td>\n",
              "      <td>Display</td>\n",
              "      <td>0.0</td>\n",
              "      <td>Display Type</td>\n",
              "      <td>5.0</td>\n",
              "    </tr>\n",
              "    <tr>\n",
              "      <th>4</th>\n",
              "      <td>146153</td>\n",
              "      <td>Software</td>\n",
              "      <td>0.0</td>\n",
              "      <td>OS</td>\n",
              "      <td>Android</td>\n",
              "      <td>1.0</td>\n",
              "    </tr>\n",
              "  </tbody>\n",
              "</table>\n",
              "</div>\n",
              "      <button class=\"colab-df-convert\" onclick=\"convertToInteractive('df-00c0e734-bfd8-44c6-b499-831157b28e7e')\"\n",
              "              title=\"Convert this dataframe to an interactive table.\"\n",
              "              style=\"display:none;\">\n",
              "        \n",
              "  <svg xmlns=\"http://www.w3.org/2000/svg\" height=\"24px\"viewBox=\"0 0 24 24\"\n",
              "       width=\"24px\">\n",
              "    <path d=\"M0 0h24v24H0V0z\" fill=\"none\"/>\n",
              "    <path d=\"M18.56 5.44l.94 2.06.94-2.06 2.06-.94-2.06-.94-.94-2.06-.94 2.06-2.06.94zm-11 1L8.5 8.5l.94-2.06 2.06-.94-2.06-.94L8.5 2.5l-.94 2.06-2.06.94zm10 10l.94 2.06.94-2.06 2.06-.94-2.06-.94-.94-2.06-.94 2.06-2.06.94z\"/><path d=\"M17.41 7.96l-1.37-1.37c-.4-.4-.92-.59-1.43-.59-.52 0-1.04.2-1.43.59L10.3 9.45l-7.72 7.72c-.78.78-.78 2.05 0 2.83L4 21.41c.39.39.9.59 1.41.59.51 0 1.02-.2 1.41-.59l7.78-7.78 2.81-2.81c.8-.78.8-2.07 0-2.86zM5.41 20L4 18.59l7.72-7.72 1.47 1.35L5.41 20z\"/>\n",
              "  </svg>\n",
              "      </button>\n",
              "      \n",
              "  <style>\n",
              "    .colab-df-container {\n",
              "      display:flex;\n",
              "      flex-wrap:wrap;\n",
              "      gap: 12px;\n",
              "    }\n",
              "\n",
              "    .colab-df-convert {\n",
              "      background-color: #E8F0FE;\n",
              "      border: none;\n",
              "      border-radius: 50%;\n",
              "      cursor: pointer;\n",
              "      display: none;\n",
              "      fill: #1967D2;\n",
              "      height: 32px;\n",
              "      padding: 0 0 0 0;\n",
              "      width: 32px;\n",
              "    }\n",
              "\n",
              "    .colab-df-convert:hover {\n",
              "      background-color: #E2EBFA;\n",
              "      box-shadow: 0px 1px 2px rgba(60, 64, 67, 0.3), 0px 1px 3px 1px rgba(60, 64, 67, 0.15);\n",
              "      fill: #174EA6;\n",
              "    }\n",
              "\n",
              "    [theme=dark] .colab-df-convert {\n",
              "      background-color: #3B4455;\n",
              "      fill: #D2E3FC;\n",
              "    }\n",
              "\n",
              "    [theme=dark] .colab-df-convert:hover {\n",
              "      background-color: #434B5C;\n",
              "      box-shadow: 0px 1px 3px 1px rgba(0, 0, 0, 0.15);\n",
              "      filter: drop-shadow(0px 1px 2px rgba(0, 0, 0, 0.3));\n",
              "      fill: #FFFFFF;\n",
              "    }\n",
              "  </style>\n",
              "\n",
              "      <script>\n",
              "        const buttonEl =\n",
              "          document.querySelector('#df-00c0e734-bfd8-44c6-b499-831157b28e7e button.colab-df-convert');\n",
              "        buttonEl.style.display =\n",
              "          google.colab.kernel.accessAllowed ? 'block' : 'none';\n",
              "\n",
              "        async function convertToInteractive(key) {\n",
              "          const element = document.querySelector('#df-00c0e734-bfd8-44c6-b499-831157b28e7e');\n",
              "          const dataTable =\n",
              "            await google.colab.kernel.invokeFunction('convertToInteractive',\n",
              "                                                     [key], {});\n",
              "          if (!dataTable) return;\n",
              "\n",
              "          const docLinkHtml = 'Like what you see? Visit the ' +\n",
              "            '<a target=\"_blank\" href=https://colab.research.google.com/notebooks/data_table.ipynb>data table notebook</a>'\n",
              "            + ' to learn more about interactive tables.';\n",
              "          element.innerHTML = '';\n",
              "          dataTable['output_type'] = 'display_data';\n",
              "          await google.colab.output.renderOutput(dataTable, element);\n",
              "          const docLink = document.createElement('div');\n",
              "          docLink.innerHTML = docLinkHtml;\n",
              "          element.appendChild(docLink);\n",
              "        }\n",
              "      </script>\n",
              "    </div>\n",
              "  </div>\n",
              "  "
            ]
          },
          "metadata": {},
          "execution_count": 34
        }
      ]
    },
    {
      "cell_type": "code",
      "source": [
        "ranked_hardware = new_data_copy.drop_duplicates(subset=[\"type of hardware\"])\n",
        "ranked_hardware"
      ],
      "metadata": {
        "colab": {
          "base_uri": "https://localhost:8080/",
          "height": 396
        },
        "id": "ZN0eOOvOFNPe",
        "outputId": "568ec1d0-3c53-4c79-bbdd-cb003e4b6073"
      },
      "execution_count": null,
      "outputs": [
        {
          "output_type": "execute_result",
          "data": {
            "text/plain": [
              "    user_id type of Request type of hardware type of software  \\\n",
              "0    417884        Software              0.0     Network Type   \n",
              "1    823322        Hardware           Camera              0.0   \n",
              "2    611471        Hardware          Battery              0.0   \n",
              "3    589828        Hardware          Display              0.0   \n",
              "9    506026        Hardware           Memory              0.0   \n",
              "19   846339        Hardware     Touch Screen              0.0   \n",
              "36   315346        Hardware              SIM              0.0   \n",
              "55   753776        Hardware        Processor              0.0   \n",
              "\n",
              "                Description  rank by type of hardware  \n",
              "0                        3G                       1.0  \n",
              "1    Back camera pixel size                       6.0  \n",
              "2    Good Battery capacity                        7.0  \n",
              "3              Display Type                       5.0  \n",
              "9                Expandable                       4.0  \n",
              "19                 Required                       1.0  \n",
              "36               single sim                       2.0  \n",
              "55              No:of cores                       3.0  "
            ],
            "text/html": [
              "\n",
              "  <div id=\"df-e8ebc33c-34e6-4676-bd48-7a04f0f64c09\">\n",
              "    <div class=\"colab-df-container\">\n",
              "      <div>\n",
              "<style scoped>\n",
              "    .dataframe tbody tr th:only-of-type {\n",
              "        vertical-align: middle;\n",
              "    }\n",
              "\n",
              "    .dataframe tbody tr th {\n",
              "        vertical-align: top;\n",
              "    }\n",
              "\n",
              "    .dataframe thead th {\n",
              "        text-align: right;\n",
              "    }\n",
              "</style>\n",
              "<table border=\"1\" class=\"dataframe\">\n",
              "  <thead>\n",
              "    <tr style=\"text-align: right;\">\n",
              "      <th></th>\n",
              "      <th>user_id</th>\n",
              "      <th>type of Request</th>\n",
              "      <th>type of hardware</th>\n",
              "      <th>type of software</th>\n",
              "      <th>Description</th>\n",
              "      <th>rank by type of hardware</th>\n",
              "    </tr>\n",
              "  </thead>\n",
              "  <tbody>\n",
              "    <tr>\n",
              "      <th>0</th>\n",
              "      <td>417884</td>\n",
              "      <td>Software</td>\n",
              "      <td>0.0</td>\n",
              "      <td>Network Type</td>\n",
              "      <td>3G</td>\n",
              "      <td>1.0</td>\n",
              "    </tr>\n",
              "    <tr>\n",
              "      <th>1</th>\n",
              "      <td>823322</td>\n",
              "      <td>Hardware</td>\n",
              "      <td>Camera</td>\n",
              "      <td>0.0</td>\n",
              "      <td>Back camera pixel size</td>\n",
              "      <td>6.0</td>\n",
              "    </tr>\n",
              "    <tr>\n",
              "      <th>2</th>\n",
              "      <td>611471</td>\n",
              "      <td>Hardware</td>\n",
              "      <td>Battery</td>\n",
              "      <td>0.0</td>\n",
              "      <td>Good Battery capacity</td>\n",
              "      <td>7.0</td>\n",
              "    </tr>\n",
              "    <tr>\n",
              "      <th>3</th>\n",
              "      <td>589828</td>\n",
              "      <td>Hardware</td>\n",
              "      <td>Display</td>\n",
              "      <td>0.0</td>\n",
              "      <td>Display Type</td>\n",
              "      <td>5.0</td>\n",
              "    </tr>\n",
              "    <tr>\n",
              "      <th>9</th>\n",
              "      <td>506026</td>\n",
              "      <td>Hardware</td>\n",
              "      <td>Memory</td>\n",
              "      <td>0.0</td>\n",
              "      <td>Expandable</td>\n",
              "      <td>4.0</td>\n",
              "    </tr>\n",
              "    <tr>\n",
              "      <th>19</th>\n",
              "      <td>846339</td>\n",
              "      <td>Hardware</td>\n",
              "      <td>Touch Screen</td>\n",
              "      <td>0.0</td>\n",
              "      <td>Required</td>\n",
              "      <td>1.0</td>\n",
              "    </tr>\n",
              "    <tr>\n",
              "      <th>36</th>\n",
              "      <td>315346</td>\n",
              "      <td>Hardware</td>\n",
              "      <td>SIM</td>\n",
              "      <td>0.0</td>\n",
              "      <td>single sim</td>\n",
              "      <td>2.0</td>\n",
              "    </tr>\n",
              "    <tr>\n",
              "      <th>55</th>\n",
              "      <td>753776</td>\n",
              "      <td>Hardware</td>\n",
              "      <td>Processor</td>\n",
              "      <td>0.0</td>\n",
              "      <td>No:of cores</td>\n",
              "      <td>3.0</td>\n",
              "    </tr>\n",
              "  </tbody>\n",
              "</table>\n",
              "</div>\n",
              "      <button class=\"colab-df-convert\" onclick=\"convertToInteractive('df-e8ebc33c-34e6-4676-bd48-7a04f0f64c09')\"\n",
              "              title=\"Convert this dataframe to an interactive table.\"\n",
              "              style=\"display:none;\">\n",
              "        \n",
              "  <svg xmlns=\"http://www.w3.org/2000/svg\" height=\"24px\"viewBox=\"0 0 24 24\"\n",
              "       width=\"24px\">\n",
              "    <path d=\"M0 0h24v24H0V0z\" fill=\"none\"/>\n",
              "    <path d=\"M18.56 5.44l.94 2.06.94-2.06 2.06-.94-2.06-.94-.94-2.06-.94 2.06-2.06.94zm-11 1L8.5 8.5l.94-2.06 2.06-.94-2.06-.94L8.5 2.5l-.94 2.06-2.06.94zm10 10l.94 2.06.94-2.06 2.06-.94-2.06-.94-.94-2.06-.94 2.06-2.06.94z\"/><path d=\"M17.41 7.96l-1.37-1.37c-.4-.4-.92-.59-1.43-.59-.52 0-1.04.2-1.43.59L10.3 9.45l-7.72 7.72c-.78.78-.78 2.05 0 2.83L4 21.41c.39.39.9.59 1.41.59.51 0 1.02-.2 1.41-.59l7.78-7.78 2.81-2.81c.8-.78.8-2.07 0-2.86zM5.41 20L4 18.59l7.72-7.72 1.47 1.35L5.41 20z\"/>\n",
              "  </svg>\n",
              "      </button>\n",
              "      \n",
              "  <style>\n",
              "    .colab-df-container {\n",
              "      display:flex;\n",
              "      flex-wrap:wrap;\n",
              "      gap: 12px;\n",
              "    }\n",
              "\n",
              "    .colab-df-convert {\n",
              "      background-color: #E8F0FE;\n",
              "      border: none;\n",
              "      border-radius: 50%;\n",
              "      cursor: pointer;\n",
              "      display: none;\n",
              "      fill: #1967D2;\n",
              "      height: 32px;\n",
              "      padding: 0 0 0 0;\n",
              "      width: 32px;\n",
              "    }\n",
              "\n",
              "    .colab-df-convert:hover {\n",
              "      background-color: #E2EBFA;\n",
              "      box-shadow: 0px 1px 2px rgba(60, 64, 67, 0.3), 0px 1px 3px 1px rgba(60, 64, 67, 0.15);\n",
              "      fill: #174EA6;\n",
              "    }\n",
              "\n",
              "    [theme=dark] .colab-df-convert {\n",
              "      background-color: #3B4455;\n",
              "      fill: #D2E3FC;\n",
              "    }\n",
              "\n",
              "    [theme=dark] .colab-df-convert:hover {\n",
              "      background-color: #434B5C;\n",
              "      box-shadow: 0px 1px 3px 1px rgba(0, 0, 0, 0.15);\n",
              "      filter: drop-shadow(0px 1px 2px rgba(0, 0, 0, 0.3));\n",
              "      fill: #FFFFFF;\n",
              "    }\n",
              "  </style>\n",
              "\n",
              "      <script>\n",
              "        const buttonEl =\n",
              "          document.querySelector('#df-e8ebc33c-34e6-4676-bd48-7a04f0f64c09 button.colab-df-convert');\n",
              "        buttonEl.style.display =\n",
              "          google.colab.kernel.accessAllowed ? 'block' : 'none';\n",
              "\n",
              "        async function convertToInteractive(key) {\n",
              "          const element = document.querySelector('#df-e8ebc33c-34e6-4676-bd48-7a04f0f64c09');\n",
              "          const dataTable =\n",
              "            await google.colab.kernel.invokeFunction('convertToInteractive',\n",
              "                                                     [key], {});\n",
              "          if (!dataTable) return;\n",
              "\n",
              "          const docLinkHtml = 'Like what you see? Visit the ' +\n",
              "            '<a target=\"_blank\" href=https://colab.research.google.com/notebooks/data_table.ipynb>data table notebook</a>'\n",
              "            + ' to learn more about interactive tables.';\n",
              "          element.innerHTML = '';\n",
              "          dataTable['output_type'] = 'display_data';\n",
              "          await google.colab.output.renderOutput(dataTable, element);\n",
              "          const docLink = document.createElement('div');\n",
              "          docLink.innerHTML = docLinkHtml;\n",
              "          element.appendChild(docLink);\n",
              "        }\n",
              "      </script>\n",
              "    </div>\n",
              "  </div>\n",
              "  "
            ]
          },
          "metadata": {},
          "execution_count": 35
        }
      ]
    },
    {
      "cell_type": "markdown",
      "source": [
        "**In type of hardware, touchscreen feature has the highest ranking. And the lowest one goes to battery**"
      ],
      "metadata": {
        "id": "oCCHPsvKF2MB"
      }
    },
    {
      "cell_type": "code",
      "source": [
        "new_data_copy[\"rank by type of software\"]=new_data_2.groupby(\"type of Request\")[\"type of software\"].rank(method=\"dense\",ascending=False)\n",
        "new_data_copy.head()"
      ],
      "metadata": {
        "colab": {
          "base_uri": "https://localhost:8080/",
          "height": 302
        },
        "id": "FTGDzNxIF0po",
        "outputId": "2a1f6a9b-d5d8-487a-8618-c5c696d33146"
      },
      "execution_count": null,
      "outputs": [
        {
          "output_type": "execute_result",
          "data": {
            "text/plain": [
              "   user_id type of Request type of hardware type of software  \\\n",
              "0   417884        Software              0.0     Network Type   \n",
              "1   823322        Hardware           Camera              0.0   \n",
              "2   611471        Hardware          Battery              0.0   \n",
              "3   589828        Hardware          Display              0.0   \n",
              "4   146153        Software              0.0               OS   \n",
              "\n",
              "               Description  rank by type of hardware  rank by type of software  \n",
              "0                       3G                       1.0                       3.0  \n",
              "1   Back camera pixel size                       6.0                       1.0  \n",
              "2   Good Battery capacity                        7.0                       1.0  \n",
              "3             Display Type                       5.0                       1.0  \n",
              "4                  Android                       1.0                       2.0  "
            ],
            "text/html": [
              "\n",
              "  <div id=\"df-2c5a855e-4e5e-4593-9170-2da95460acb1\">\n",
              "    <div class=\"colab-df-container\">\n",
              "      <div>\n",
              "<style scoped>\n",
              "    .dataframe tbody tr th:only-of-type {\n",
              "        vertical-align: middle;\n",
              "    }\n",
              "\n",
              "    .dataframe tbody tr th {\n",
              "        vertical-align: top;\n",
              "    }\n",
              "\n",
              "    .dataframe thead th {\n",
              "        text-align: right;\n",
              "    }\n",
              "</style>\n",
              "<table border=\"1\" class=\"dataframe\">\n",
              "  <thead>\n",
              "    <tr style=\"text-align: right;\">\n",
              "      <th></th>\n",
              "      <th>user_id</th>\n",
              "      <th>type of Request</th>\n",
              "      <th>type of hardware</th>\n",
              "      <th>type of software</th>\n",
              "      <th>Description</th>\n",
              "      <th>rank by type of hardware</th>\n",
              "      <th>rank by type of software</th>\n",
              "    </tr>\n",
              "  </thead>\n",
              "  <tbody>\n",
              "    <tr>\n",
              "      <th>0</th>\n",
              "      <td>417884</td>\n",
              "      <td>Software</td>\n",
              "      <td>0.0</td>\n",
              "      <td>Network Type</td>\n",
              "      <td>3G</td>\n",
              "      <td>1.0</td>\n",
              "      <td>3.0</td>\n",
              "    </tr>\n",
              "    <tr>\n",
              "      <th>1</th>\n",
              "      <td>823322</td>\n",
              "      <td>Hardware</td>\n",
              "      <td>Camera</td>\n",
              "      <td>0.0</td>\n",
              "      <td>Back camera pixel size</td>\n",
              "      <td>6.0</td>\n",
              "      <td>1.0</td>\n",
              "    </tr>\n",
              "    <tr>\n",
              "      <th>2</th>\n",
              "      <td>611471</td>\n",
              "      <td>Hardware</td>\n",
              "      <td>Battery</td>\n",
              "      <td>0.0</td>\n",
              "      <td>Good Battery capacity</td>\n",
              "      <td>7.0</td>\n",
              "      <td>1.0</td>\n",
              "    </tr>\n",
              "    <tr>\n",
              "      <th>3</th>\n",
              "      <td>589828</td>\n",
              "      <td>Hardware</td>\n",
              "      <td>Display</td>\n",
              "      <td>0.0</td>\n",
              "      <td>Display Type</td>\n",
              "      <td>5.0</td>\n",
              "      <td>1.0</td>\n",
              "    </tr>\n",
              "    <tr>\n",
              "      <th>4</th>\n",
              "      <td>146153</td>\n",
              "      <td>Software</td>\n",
              "      <td>0.0</td>\n",
              "      <td>OS</td>\n",
              "      <td>Android</td>\n",
              "      <td>1.0</td>\n",
              "      <td>2.0</td>\n",
              "    </tr>\n",
              "  </tbody>\n",
              "</table>\n",
              "</div>\n",
              "      <button class=\"colab-df-convert\" onclick=\"convertToInteractive('df-2c5a855e-4e5e-4593-9170-2da95460acb1')\"\n",
              "              title=\"Convert this dataframe to an interactive table.\"\n",
              "              style=\"display:none;\">\n",
              "        \n",
              "  <svg xmlns=\"http://www.w3.org/2000/svg\" height=\"24px\"viewBox=\"0 0 24 24\"\n",
              "       width=\"24px\">\n",
              "    <path d=\"M0 0h24v24H0V0z\" fill=\"none\"/>\n",
              "    <path d=\"M18.56 5.44l.94 2.06.94-2.06 2.06-.94-2.06-.94-.94-2.06-.94 2.06-2.06.94zm-11 1L8.5 8.5l.94-2.06 2.06-.94-2.06-.94L8.5 2.5l-.94 2.06-2.06.94zm10 10l.94 2.06.94-2.06 2.06-.94-2.06-.94-.94-2.06-.94 2.06-2.06.94z\"/><path d=\"M17.41 7.96l-1.37-1.37c-.4-.4-.92-.59-1.43-.59-.52 0-1.04.2-1.43.59L10.3 9.45l-7.72 7.72c-.78.78-.78 2.05 0 2.83L4 21.41c.39.39.9.59 1.41.59.51 0 1.02-.2 1.41-.59l7.78-7.78 2.81-2.81c.8-.78.8-2.07 0-2.86zM5.41 20L4 18.59l7.72-7.72 1.47 1.35L5.41 20z\"/>\n",
              "  </svg>\n",
              "      </button>\n",
              "      \n",
              "  <style>\n",
              "    .colab-df-container {\n",
              "      display:flex;\n",
              "      flex-wrap:wrap;\n",
              "      gap: 12px;\n",
              "    }\n",
              "\n",
              "    .colab-df-convert {\n",
              "      background-color: #E8F0FE;\n",
              "      border: none;\n",
              "      border-radius: 50%;\n",
              "      cursor: pointer;\n",
              "      display: none;\n",
              "      fill: #1967D2;\n",
              "      height: 32px;\n",
              "      padding: 0 0 0 0;\n",
              "      width: 32px;\n",
              "    }\n",
              "\n",
              "    .colab-df-convert:hover {\n",
              "      background-color: #E2EBFA;\n",
              "      box-shadow: 0px 1px 2px rgba(60, 64, 67, 0.3), 0px 1px 3px 1px rgba(60, 64, 67, 0.15);\n",
              "      fill: #174EA6;\n",
              "    }\n",
              "\n",
              "    [theme=dark] .colab-df-convert {\n",
              "      background-color: #3B4455;\n",
              "      fill: #D2E3FC;\n",
              "    }\n",
              "\n",
              "    [theme=dark] .colab-df-convert:hover {\n",
              "      background-color: #434B5C;\n",
              "      box-shadow: 0px 1px 3px 1px rgba(0, 0, 0, 0.15);\n",
              "      filter: drop-shadow(0px 1px 2px rgba(0, 0, 0, 0.3));\n",
              "      fill: #FFFFFF;\n",
              "    }\n",
              "  </style>\n",
              "\n",
              "      <script>\n",
              "        const buttonEl =\n",
              "          document.querySelector('#df-2c5a855e-4e5e-4593-9170-2da95460acb1 button.colab-df-convert');\n",
              "        buttonEl.style.display =\n",
              "          google.colab.kernel.accessAllowed ? 'block' : 'none';\n",
              "\n",
              "        async function convertToInteractive(key) {\n",
              "          const element = document.querySelector('#df-2c5a855e-4e5e-4593-9170-2da95460acb1');\n",
              "          const dataTable =\n",
              "            await google.colab.kernel.invokeFunction('convertToInteractive',\n",
              "                                                     [key], {});\n",
              "          if (!dataTable) return;\n",
              "\n",
              "          const docLinkHtml = 'Like what you see? Visit the ' +\n",
              "            '<a target=\"_blank\" href=https://colab.research.google.com/notebooks/data_table.ipynb>data table notebook</a>'\n",
              "            + ' to learn more about interactive tables.';\n",
              "          element.innerHTML = '';\n",
              "          dataTable['output_type'] = 'display_data';\n",
              "          await google.colab.output.renderOutput(dataTable, element);\n",
              "          const docLink = document.createElement('div');\n",
              "          docLink.innerHTML = docLinkHtml;\n",
              "          element.appendChild(docLink);\n",
              "        }\n",
              "      </script>\n",
              "    </div>\n",
              "  </div>\n",
              "  "
            ]
          },
          "metadata": {},
          "execution_count": 36
        }
      ]
    },
    {
      "cell_type": "code",
      "source": [
        "\n",
        "ranked_software = new_data_copy.drop_duplicates(subset=[\"type of software\"])\n",
        "ranked_software"
      ],
      "metadata": {
        "colab": {
          "base_uri": "https://localhost:8080/",
          "height": 302
        },
        "id": "2E4s0-1FGQ0O",
        "outputId": "e4a57f19-7640-4988-e169-248823ccaebf"
      },
      "execution_count": null,
      "outputs": [
        {
          "output_type": "execute_result",
          "data": {
            "text/plain": [
              "    user_id type of Request type of hardware type of software  \\\n",
              "0    417884        Software              0.0     Network Type   \n",
              "1    823322        Hardware           Camera              0.0   \n",
              "4    146153        Software              0.0               OS   \n",
              "11   385048        Software              0.0              GPS   \n",
              "42   398143        Software              0.0               UI   \n",
              "\n",
              "                    Description  rank by type of hardware  \\\n",
              "0                            3G                       1.0   \n",
              "1        Back camera pixel size                       6.0   \n",
              "4                       Android                       1.0   \n",
              "11  availablity of gps_required                       1.0   \n",
              "42            Touch sensitivity                       1.0   \n",
              "\n",
              "    rank by type of software  \n",
              "0                        3.0  \n",
              "1                        1.0  \n",
              "4                        2.0  \n",
              "11                       4.0  \n",
              "42                       1.0  "
            ],
            "text/html": [
              "\n",
              "  <div id=\"df-5c3b7d26-3b68-43b4-9f62-7f067e4a237f\">\n",
              "    <div class=\"colab-df-container\">\n",
              "      <div>\n",
              "<style scoped>\n",
              "    .dataframe tbody tr th:only-of-type {\n",
              "        vertical-align: middle;\n",
              "    }\n",
              "\n",
              "    .dataframe tbody tr th {\n",
              "        vertical-align: top;\n",
              "    }\n",
              "\n",
              "    .dataframe thead th {\n",
              "        text-align: right;\n",
              "    }\n",
              "</style>\n",
              "<table border=\"1\" class=\"dataframe\">\n",
              "  <thead>\n",
              "    <tr style=\"text-align: right;\">\n",
              "      <th></th>\n",
              "      <th>user_id</th>\n",
              "      <th>type of Request</th>\n",
              "      <th>type of hardware</th>\n",
              "      <th>type of software</th>\n",
              "      <th>Description</th>\n",
              "      <th>rank by type of hardware</th>\n",
              "      <th>rank by type of software</th>\n",
              "    </tr>\n",
              "  </thead>\n",
              "  <tbody>\n",
              "    <tr>\n",
              "      <th>0</th>\n",
              "      <td>417884</td>\n",
              "      <td>Software</td>\n",
              "      <td>0.0</td>\n",
              "      <td>Network Type</td>\n",
              "      <td>3G</td>\n",
              "      <td>1.0</td>\n",
              "      <td>3.0</td>\n",
              "    </tr>\n",
              "    <tr>\n",
              "      <th>1</th>\n",
              "      <td>823322</td>\n",
              "      <td>Hardware</td>\n",
              "      <td>Camera</td>\n",
              "      <td>0.0</td>\n",
              "      <td>Back camera pixel size</td>\n",
              "      <td>6.0</td>\n",
              "      <td>1.0</td>\n",
              "    </tr>\n",
              "    <tr>\n",
              "      <th>4</th>\n",
              "      <td>146153</td>\n",
              "      <td>Software</td>\n",
              "      <td>0.0</td>\n",
              "      <td>OS</td>\n",
              "      <td>Android</td>\n",
              "      <td>1.0</td>\n",
              "      <td>2.0</td>\n",
              "    </tr>\n",
              "    <tr>\n",
              "      <th>11</th>\n",
              "      <td>385048</td>\n",
              "      <td>Software</td>\n",
              "      <td>0.0</td>\n",
              "      <td>GPS</td>\n",
              "      <td>availablity of gps_required</td>\n",
              "      <td>1.0</td>\n",
              "      <td>4.0</td>\n",
              "    </tr>\n",
              "    <tr>\n",
              "      <th>42</th>\n",
              "      <td>398143</td>\n",
              "      <td>Software</td>\n",
              "      <td>0.0</td>\n",
              "      <td>UI</td>\n",
              "      <td>Touch sensitivity</td>\n",
              "      <td>1.0</td>\n",
              "      <td>1.0</td>\n",
              "    </tr>\n",
              "  </tbody>\n",
              "</table>\n",
              "</div>\n",
              "      <button class=\"colab-df-convert\" onclick=\"convertToInteractive('df-5c3b7d26-3b68-43b4-9f62-7f067e4a237f')\"\n",
              "              title=\"Convert this dataframe to an interactive table.\"\n",
              "              style=\"display:none;\">\n",
              "        \n",
              "  <svg xmlns=\"http://www.w3.org/2000/svg\" height=\"24px\"viewBox=\"0 0 24 24\"\n",
              "       width=\"24px\">\n",
              "    <path d=\"M0 0h24v24H0V0z\" fill=\"none\"/>\n",
              "    <path d=\"M18.56 5.44l.94 2.06.94-2.06 2.06-.94-2.06-.94-.94-2.06-.94 2.06-2.06.94zm-11 1L8.5 8.5l.94-2.06 2.06-.94-2.06-.94L8.5 2.5l-.94 2.06-2.06.94zm10 10l.94 2.06.94-2.06 2.06-.94-2.06-.94-.94-2.06-.94 2.06-2.06.94z\"/><path d=\"M17.41 7.96l-1.37-1.37c-.4-.4-.92-.59-1.43-.59-.52 0-1.04.2-1.43.59L10.3 9.45l-7.72 7.72c-.78.78-.78 2.05 0 2.83L4 21.41c.39.39.9.59 1.41.59.51 0 1.02-.2 1.41-.59l7.78-7.78 2.81-2.81c.8-.78.8-2.07 0-2.86zM5.41 20L4 18.59l7.72-7.72 1.47 1.35L5.41 20z\"/>\n",
              "  </svg>\n",
              "      </button>\n",
              "      \n",
              "  <style>\n",
              "    .colab-df-container {\n",
              "      display:flex;\n",
              "      flex-wrap:wrap;\n",
              "      gap: 12px;\n",
              "    }\n",
              "\n",
              "    .colab-df-convert {\n",
              "      background-color: #E8F0FE;\n",
              "      border: none;\n",
              "      border-radius: 50%;\n",
              "      cursor: pointer;\n",
              "      display: none;\n",
              "      fill: #1967D2;\n",
              "      height: 32px;\n",
              "      padding: 0 0 0 0;\n",
              "      width: 32px;\n",
              "    }\n",
              "\n",
              "    .colab-df-convert:hover {\n",
              "      background-color: #E2EBFA;\n",
              "      box-shadow: 0px 1px 2px rgba(60, 64, 67, 0.3), 0px 1px 3px 1px rgba(60, 64, 67, 0.15);\n",
              "      fill: #174EA6;\n",
              "    }\n",
              "\n",
              "    [theme=dark] .colab-df-convert {\n",
              "      background-color: #3B4455;\n",
              "      fill: #D2E3FC;\n",
              "    }\n",
              "\n",
              "    [theme=dark] .colab-df-convert:hover {\n",
              "      background-color: #434B5C;\n",
              "      box-shadow: 0px 1px 3px 1px rgba(0, 0, 0, 0.15);\n",
              "      filter: drop-shadow(0px 1px 2px rgba(0, 0, 0, 0.3));\n",
              "      fill: #FFFFFF;\n",
              "    }\n",
              "  </style>\n",
              "\n",
              "      <script>\n",
              "        const buttonEl =\n",
              "          document.querySelector('#df-5c3b7d26-3b68-43b4-9f62-7f067e4a237f button.colab-df-convert');\n",
              "        buttonEl.style.display =\n",
              "          google.colab.kernel.accessAllowed ? 'block' : 'none';\n",
              "\n",
              "        async function convertToInteractive(key) {\n",
              "          const element = document.querySelector('#df-5c3b7d26-3b68-43b4-9f62-7f067e4a237f');\n",
              "          const dataTable =\n",
              "            await google.colab.kernel.invokeFunction('convertToInteractive',\n",
              "                                                     [key], {});\n",
              "          if (!dataTable) return;\n",
              "\n",
              "          const docLinkHtml = 'Like what you see? Visit the ' +\n",
              "            '<a target=\"_blank\" href=https://colab.research.google.com/notebooks/data_table.ipynb>data table notebook</a>'\n",
              "            + ' to learn more about interactive tables.';\n",
              "          element.innerHTML = '';\n",
              "          dataTable['output_type'] = 'display_data';\n",
              "          await google.colab.output.renderOutput(dataTable, element);\n",
              "          const docLink = document.createElement('div');\n",
              "          docLink.innerHTML = docLinkHtml;\n",
              "          element.appendChild(docLink);\n",
              "        }\n",
              "      </script>\n",
              "    </div>\n",
              "  </div>\n",
              "  "
            ]
          },
          "metadata": {},
          "execution_count": 37
        }
      ]
    },
    {
      "cell_type": "markdown",
      "source": [
        "**UI has the highest rank when compared to software and lowest ranking goes to GPS.**"
      ],
      "metadata": {
        "id": "pQRmDORPGbrH"
      }
    },
    {
      "cell_type": "code",
      "source": [
        ""
      ],
      "metadata": {
        "id": "8PKBMMaDGZzI"
      },
      "execution_count": null,
      "outputs": []
    },
    {
      "cell_type": "code",
      "source": [
        "#ranked_data=new_data_2.rank(axis=1,method=\"dense\",ascending=True)"
      ],
      "metadata": {
        "id": "rpFJD_k5kcFd"
      },
      "execution_count": null,
      "outputs": []
    },
    {
      "cell_type": "code",
      "source": [
        "#ranked_data.head(10)"
      ],
      "metadata": {
        "id": "sHSy8gbtkhJ9"
      },
      "execution_count": null,
      "outputs": []
    },
    {
      "cell_type": "code",
      "source": [
        "#ranked_data[\"type of Request\"].value_counts()"
      ],
      "metadata": {
        "id": "JF4onljnlhCJ"
      },
      "execution_count": null,
      "outputs": []
    },
    {
      "cell_type": "markdown",
      "source": [
        "\n",
        "**Since its descending order the smaller gets the smaller rank and the higher gets the higher rank. so here lower rank is to the hardware.**"
      ],
      "metadata": {
        "id": "OeI8AdoIlyap"
      }
    },
    {
      "cell_type": "code",
      "source": [
        "#ranked_data[\"default rank_request\"]=new_data_2[\"type of Request\"].rank(ascending=True)\n",
        "#ranked_data[\"default rank_hardware\"]=new_data_2[\"type of hardware\"].rank(ascending=True)\n",
        "#ranked_data[\"default rank_software\"]=new_data_2[\"type of software\"].rank(ascending=True)\n",
        "#ranked_data[\"default_Description\"]=new_data_2[\"Description\"].rank(ascending=True)\n",
        "#ranked_data.head()"
      ],
      "metadata": {
        "id": "ob8NgAHrqiz5"
      },
      "execution_count": null,
      "outputs": []
    },
    {
      "cell_type": "code",
      "source": [
        "#minValuesObj = ranked_data.min(axis=0)\n",
        "#print('minimum value in each row : ')\n",
        "#print(minValuesObj)"
      ],
      "metadata": {
        "id": "SjqCOVBLp-iO"
      },
      "execution_count": null,
      "outputs": []
    }
  ]
}